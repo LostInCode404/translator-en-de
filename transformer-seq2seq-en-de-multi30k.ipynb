{
 "cells": [
  {
   "cell_type": "markdown",
   "id": "31435169-a1a8-4010-9eea-c1579e0f0d3c",
   "metadata": {},
   "source": [
    "# Transformer Model"
   ]
  },
  {
   "cell_type": "code",
   "execution_count": 1,
   "id": "edaf5771-a893-46d7-b5d4-8473f01c1e4c",
   "metadata": {},
   "outputs": [],
   "source": [
    "# Model imports\n",
    "import torch\n",
    "import torch.nn as nn\n",
    "import math"
   ]
  },
  {
   "cell_type": "markdown",
   "id": "c4adada0-e474-40c2-8e16-276659b0df80",
   "metadata": {},
   "source": [
    "### Input Embedder"
   ]
  },
  {
   "cell_type": "code",
   "execution_count": 2,
   "id": "1c6672a9-e7ef-498b-86d1-a9fb73aed3ea",
   "metadata": {},
   "outputs": [],
   "source": [
    "# Input embedder class\n",
    "class InputEmbedder(nn.Module):\n",
    "\n",
    "    # Constructor\n",
    "    def __init__(self, d_model:int, vocab_size:int):\n",
    "        super().__init__()\n",
    "        self.d_model = d_model\n",
    "        self.vocab_size = vocab_size\n",
    "        self.embedding = nn.Embedding(vocab_size, d_model)\n",
    "\n",
    "    # Forward function \n",
    "    def forward(self, x):\n",
    "        out = self.embedding(x) * math.sqrt(self.d_model) # The original paper multiples embeddings by sqrt of d_model\n",
    "        return out"
   ]
  },
  {
   "cell_type": "markdown",
   "id": "2efd1e36-74f5-455b-be9e-92d416e4101f",
   "metadata": {},
   "source": [
    "### Positional Encoder"
   ]
  },
  {
   "cell_type": "code",
   "execution_count": 3,
   "id": "aa5df9a6-e88b-45fa-9a45-a4cf0726a10d",
   "metadata": {},
   "outputs": [],
   "source": [
    "# Positional encoder class\n",
    "class PositionalEncoder(nn.Module):\n",
    "\n",
    "    # Constructor\n",
    "    def __init__(self, d_model:int, seq_length:int, dropout:float):\n",
    "\n",
    "        # Initialize properties\n",
    "        super().__init__()\n",
    "        self.d_model = d_model\n",
    "        self.seq_length = seq_length\n",
    "        self.dropout = nn.Dropout(dropout)\n",
    "\n",
    "        # PE matrix - (seq_length, d_model)\n",
    "        pe = torch.zeros(seq_length, d_model)\n",
    "        \n",
    "        # Positions vector for numerator of PE matrix formula - (seq_length, 1)\n",
    "        num_term = torch.arange(0, seq_length, dtype=torch.float32).unsqueeze(1)\n",
    "        \n",
    "        # Denominator of sin/cos arg - Value of 10000^(2i/d_model) for i ranging from 0 to d_model/2 - (d_model/2)\n",
    "        div_term = torch.exp(torch.arange(0, d_model, 2) * (-math.log(10000) / d_model))\n",
    "        \n",
    "        # Apply sin/cos functions\n",
    "        trig_arg = num_term * div_term\n",
    "        pe[:,0::2] = torch.sin(trig_arg)\n",
    "        pe[:,1::2] = torch.cos(trig_arg)\n",
    "\n",
    "        # Add batch dimension to make it (1,seq_len,d_model)\n",
    "        pe = pe.unsqueeze(0)\n",
    "\n",
    "        # Register buffer\n",
    "        self.register_buffer('pe', pe)\n",
    "\n",
    "    # Forward function\n",
    "    def forward(self, x):\n",
    "        x = x + (self.pe[:,:x.shape[1],:]).requires_grad_(False)\n",
    "        return self.dropout(x)"
   ]
  },
  {
   "cell_type": "markdown",
   "id": "feb3a802-87c7-45a7-b910-433c0c2b90d2",
   "metadata": {},
   "source": [
    "**Testing**"
   ]
  },
  {
   "cell_type": "code",
   "execution_count": 4,
   "id": "b2e05ae9-6feb-42ea-9586-cff4f1c70b5e",
   "metadata": {},
   "outputs": [
    {
     "data": {
      "text/plain": [
       "torch.Size([100, 1])"
      ]
     },
     "execution_count": 4,
     "metadata": {},
     "output_type": "execute_result"
    }
   ],
   "source": [
    "seq_length = 100\n",
    "num = torch.arange(0, seq_length, dtype=torch.float32).unsqueeze(1)\n",
    "num.shape"
   ]
  },
  {
   "cell_type": "code",
   "execution_count": 5,
   "id": "e1203648-7e84-4ee5-b38f-ac847888725d",
   "metadata": {},
   "outputs": [
    {
     "data": {
      "text/plain": [
       "torch.Size([256])"
      ]
     },
     "execution_count": 5,
     "metadata": {},
     "output_type": "execute_result"
    }
   ],
   "source": [
    "d_model = 512\n",
    "den = torch.exp(torch.arange(0, d_model, 2) * (-math.log(10000) / d_model))\n",
    "den.shape"
   ]
  },
  {
   "cell_type": "code",
   "execution_count": 6,
   "id": "d47930e0-cf34-441e-8ded-63663e74d1c6",
   "metadata": {},
   "outputs": [
    {
     "data": {
      "text/plain": [
       "torch.Size([100, 512])"
      ]
     },
     "execution_count": 6,
     "metadata": {},
     "output_type": "execute_result"
    }
   ],
   "source": [
    "pe = torch.zeros(seq_length, d_model)\n",
    "pe.shape"
   ]
  },
  {
   "cell_type": "code",
   "execution_count": 7,
   "id": "1390c07f-fd05-4296-8dd3-8d7d28ae61c2",
   "metadata": {},
   "outputs": [
    {
     "data": {
      "text/plain": [
       "torch.Size([100, 256])"
      ]
     },
     "execution_count": 7,
     "metadata": {},
     "output_type": "execute_result"
    }
   ],
   "source": [
    "(num*den).shape"
   ]
  },
  {
   "cell_type": "markdown",
   "id": "0b1e01c6-6141-4791-881d-5aff4c68492e",
   "metadata": {},
   "source": [
    "### Layer Normalization"
   ]
  },
  {
   "cell_type": "code",
   "execution_count": 8,
   "id": "43fa7f65-702b-4afe-8f13-b0725031fd94",
   "metadata": {},
   "outputs": [],
   "source": [
    "# Layer normalization module\n",
    "class LayerNormalization(nn.Module):\n",
    "\n",
    "    # Constructor\n",
    "    def __init__(self, eps: float = 1e-5):\n",
    "\n",
    "        # Init\n",
    "        super().__init__()\n",
    "        self.eps = eps # This is required for numerical stability and avoid div by zero\n",
    "        self.alpha = nn.Parameter(torch.ones(1))\n",
    "        self.bias = nn.Parameter(torch.zeros(1))\n",
    "\n",
    "    # Forward method\n",
    "    def forward(self, x):\n",
    "\n",
    "        # Calculate mean and std within each sample\n",
    "        mean = x.mean(dim=-1, keepdim=True) # x is of shape (batch, seq_length, d_model), mean is (batch, seq_length, 1)\n",
    "        std = x.std(dim=-1, keepdim=True) # std is (batch, seq_length, 1)\n",
    "\n",
    "        # Normalize and return\n",
    "        return self.alpha * ((x - mean) / (std + self.eps)) + self.bias # Broadcasting will make the return value of shape (batch, seq_length, d_model)"
   ]
  },
  {
   "cell_type": "markdown",
   "id": "ddd03cc4-80f1-489e-86a8-cd90f00444a1",
   "metadata": {},
   "source": [
    "**Testing**"
   ]
  },
  {
   "cell_type": "code",
   "execution_count": 9,
   "id": "9fde08b8-0825-4607-bd09-7ccb61a1b21c",
   "metadata": {},
   "outputs": [
    {
     "data": {
      "text/plain": [
       "torch.Size([4, 100, 512])"
      ]
     },
     "execution_count": 9,
     "metadata": {},
     "output_type": "execute_result"
    }
   ],
   "source": [
    "x = torch.rand(4, 100, 512)\n",
    "x.shape"
   ]
  },
  {
   "cell_type": "code",
   "execution_count": 10,
   "id": "beb3c1c9-d0cc-4166-9acb-1f373bedf9b8",
   "metadata": {},
   "outputs": [
    {
     "data": {
      "text/plain": [
       "torch.Size([4, 100])"
      ]
     },
     "execution_count": 10,
     "metadata": {},
     "output_type": "execute_result"
    }
   ],
   "source": [
    "x.mean(dim=-1).shape"
   ]
  },
  {
   "cell_type": "code",
   "execution_count": 11,
   "id": "d1edf9ea-f3c0-482c-821d-3ba9e849956d",
   "metadata": {},
   "outputs": [
    {
     "data": {
      "text/plain": [
       "torch.Size([4, 100, 1])"
      ]
     },
     "execution_count": 11,
     "metadata": {},
     "output_type": "execute_result"
    }
   ],
   "source": [
    "x.mean(dim=-1, keepdim=True).shape"
   ]
  },
  {
   "cell_type": "code",
   "execution_count": 12,
   "id": "dd64e495-2b00-49c1-9d25-38320a98c2c1",
   "metadata": {},
   "outputs": [
    {
     "data": {
      "text/plain": [
       "torch.Size([4, 100, 512])"
      ]
     },
     "execution_count": 12,
     "metadata": {},
     "output_type": "execute_result"
    }
   ],
   "source": [
    "(x - x.mean(dim=-1, keepdim=True)).shape"
   ]
  },
  {
   "cell_type": "markdown",
   "id": "bc29475f-64d7-43bc-974a-0c74481af961",
   "metadata": {},
   "source": [
    "### Feed Forward Block"
   ]
  },
  {
   "cell_type": "code",
   "execution_count": 13,
   "id": "677b5924-1e97-4893-9d95-95e84335b179",
   "metadata": {},
   "outputs": [],
   "source": [
    "# Feed forward layer module\n",
    "class FeedForwardBlock(nn.Module):\n",
    "\n",
    "    # Constructor\n",
    "    def __init__(self, d_model: int, d_ff: int, dropout: float):\n",
    "\n",
    "        # Init\n",
    "        super().__init__()\n",
    "\n",
    "        # Layers\n",
    "        self.linear_1 = nn.Linear(d_model, d_ff)\n",
    "        self.linear_2 = nn.Linear(d_ff, d_model)\n",
    "        self.dropout = nn.Dropout(dropout)\n",
    "\n",
    "    # Forward method\n",
    "    def forward(self, x):\n",
    "        \n",
    "        # Pass x (batch, seq_length, d_model) through the network\n",
    "        out = torch.relu(self.linear_1(x))\n",
    "        out = self.dropout(out)\n",
    "        out = self.linear_2(out)\n",
    "\n",
    "        # Return output\n",
    "        return out"
   ]
  },
  {
   "cell_type": "markdown",
   "id": "eb7a9328-5729-4894-9a31-d634a8615b50",
   "metadata": {},
   "source": [
    "### Multi-Head Attention Block"
   ]
  },
  {
   "cell_type": "code",
   "execution_count": 14,
   "id": "64f8bc23-2234-4dd0-87a3-cdf455e15cda",
   "metadata": {},
   "outputs": [],
   "source": [
    "# Multi head attention block\n",
    "class MultiHeadAttentionBlock(nn.Module):\n",
    "\n",
    "    # Constructor\n",
    "    def __init__(self, d_model: int, h: int, dropout: float):\n",
    "\n",
    "        # Init\n",
    "        super().__init__()\n",
    "        self.d_model = d_model\n",
    "        self.h = h\n",
    "        assert d_model % h == 0, \"d_model should be divisible by h\"\n",
    "        self.d_k = d_model // h\n",
    "\n",
    "        # Setup weight matrices using linear layer\n",
    "        self.w_q = nn.Linear(d_model, d_model)\n",
    "        self.w_k = nn.Linear(d_model, d_model)\n",
    "        self.w_v = nn.Linear(d_model, d_model)\n",
    "        self.w_o = nn.Linear(d_model, d_model)\n",
    "\n",
    "        # Dropout\n",
    "        self.dropout = nn.Dropout(dropout)\n",
    "\n",
    "    # Split heads\n",
    "    def split_heads(self, x):\n",
    "        # (batch, seq_len, d_model) => (batch, seq_len, h, d_k) => (batch, h, seq_len, d_k)\n",
    "        # Each head will now get (seq_len, d_k), i.e. full sequence but partial embeddings\n",
    "        batch_size, seq_length, d_model = x.shape\n",
    "        return x.view(batch_size, seq_length, self.h, self.d_k).transpose(1,2)\n",
    "\n",
    "    # Combine heads\n",
    "    def combine_heads(self, x):\n",
    "        batch_size, h, seq_length, d_k = x.shape\n",
    "        # Revert transpose: (batch, h, seq_len, d_k) => (batch, seq_len, h, d_k)\n",
    "        x = x.transpose(1, 2)\n",
    "        # Combine h and d_k\n",
    "        return x.contiguous().view(batch_size, -1, self.d_model)\n",
    "\n",
    "    # Attention function\n",
    "    def calculate_attention(self, query, key, value, mask = None):\n",
    "\n",
    "        # Calculate scores: (batch, h, seq_len, seq_len)\n",
    "        attention_scores = (query @ key.transpose(-2,-1)) / math.sqrt(self.d_k) # Transpose the (seq_len, dk) part for keys to get (seq_len, seq_len) scores - embeddings (in each head) of each word dotted with every other word  \n",
    "\n",
    "        # Apply mask\n",
    "        if mask is not None:\n",
    "            attention_scores.masked_fill_(mask==0, -1e9)\n",
    "\n",
    "        # Softmax - dims stay (batch, h, seq_len, seq_len)\n",
    "        attention_scores = attention_scores.softmax(dim=-1) # Last dim (-1) is the weight of each V for the Q in second last dim (-2)\n",
    "\n",
    "        # Dropout\n",
    "        attention_scores = self.dropout(attention_scores)\n",
    "\n",
    "        # Generate output and return\n",
    "        output = attention_scores @ value # (batch, h, seq_len, d_k) - seq_len, d_k is formed by take weighted sum of value according to attn scores\n",
    "        return output, attention_scores\n",
    "    \n",
    "    # Forward method\n",
    "    def forward(self, q, k, v, mask):\n",
    "\n",
    "        # Generate Q', K' and V'. Dims for all of them remain same (batch, seq_len, d_model) => (batch, seq_len, d_model)\n",
    "        query = self.w_q(q)\n",
    "        key = self.w_k(k)\n",
    "        value = self.w_v(v)\n",
    "\n",
    "        # Split heads. New dim: (batch, h, seq_len, d_k)\n",
    "        query = self.split_heads(query)\n",
    "        key = self.split_heads(key)\n",
    "        value = self.split_heads(value)\n",
    "\n",
    "        # Calculate attention scores\n",
    "        output, attention_scores = self.calculate_attention(query, key, value, mask)\n",
    "\n",
    "        # Combine heads. New dim: (batch, seq_len, d_model)\n",
    "        output = self.combine_heads(output)\n",
    "\n",
    "        # Multiply by output weight matrix and return\n",
    "        return self.w_o(output) # (batch, seq_len, d_model)"
   ]
  },
  {
   "cell_type": "markdown",
   "id": "ea903141-0b24-47b9-b9ce-f1c23db88dfe",
   "metadata": {},
   "source": [
    "**Testing**"
   ]
  },
  {
   "cell_type": "code",
   "execution_count": 15,
   "id": "b80d2a2d-ca7a-40b4-a880-e96408ddbd60",
   "metadata": {},
   "outputs": [
    {
     "data": {
      "text/plain": [
       "torch.Size([4, 100, 512])"
      ]
     },
     "execution_count": 15,
     "metadata": {},
     "output_type": "execute_result"
    }
   ],
   "source": [
    "x = torch.rand(4,100,512)\n",
    "x.shape"
   ]
  },
  {
   "cell_type": "code",
   "execution_count": 16,
   "id": "95d4e513-f29a-42dd-ba94-95059d21a329",
   "metadata": {},
   "outputs": [
    {
     "data": {
      "text/plain": [
       "torch.Size([4, 8, 100, 64])"
      ]
     },
     "execution_count": 16,
     "metadata": {},
     "output_type": "execute_result"
    }
   ],
   "source": [
    "x = x.view(4,100,8,64)\n",
    "x = x.transpose(1, 2)\n",
    "x.shape"
   ]
  },
  {
   "cell_type": "code",
   "execution_count": 17,
   "id": "8b25ad90-4e0a-43e2-b1f6-260d551664c5",
   "metadata": {},
   "outputs": [
    {
     "data": {
      "text/plain": [
       "torch.Size([4, 8, 100, 100])"
      ]
     },
     "execution_count": 17,
     "metadata": {},
     "output_type": "execute_result"
    }
   ],
   "source": [
    "attn_score = (x @ x.transpose(-1,-2)) # Using x instead of Q,K of same dims\n",
    "attn_score.shape"
   ]
  },
  {
   "cell_type": "code",
   "execution_count": 18,
   "id": "4b787ac1-d3bf-4b12-8d5e-a8c0846f546f",
   "metadata": {},
   "outputs": [
    {
     "data": {
      "text/plain": [
       "torch.Size([4, 8, 100, 64])"
      ]
     },
     "execution_count": 18,
     "metadata": {},
     "output_type": "execute_result"
    }
   ],
   "source": [
    "x = (attn_score @ x)\n",
    "x.shape"
   ]
  },
  {
   "cell_type": "code",
   "execution_count": 19,
   "id": "b55457e9-9cf8-4981-9bbb-70a3524b4c4c",
   "metadata": {},
   "outputs": [
    {
     "data": {
      "text/plain": [
       "torch.Size([4, 100, 512])"
      ]
     },
     "execution_count": 19,
     "metadata": {},
     "output_type": "execute_result"
    }
   ],
   "source": [
    "x = x.transpose(1, 2)\n",
    "x = x.contiguous().view(4,-1,512)\n",
    "x.shape"
   ]
  },
  {
   "cell_type": "markdown",
   "id": "fb0ba1f5-f4c5-4bf0-b92d-fe314c6b730c",
   "metadata": {},
   "source": [
    "### Residual Connection Block"
   ]
  },
  {
   "cell_type": "code",
   "execution_count": 20,
   "id": "22816e11-5b6e-4f00-989b-0712d7dc5c7f",
   "metadata": {},
   "outputs": [],
   "source": [
    "# Residual connection block\n",
    "class ResidualConnectionBlock(nn.Module):\n",
    "\n",
    "    # Constructor\n",
    "    def __init__(self, dropout: float):\n",
    "        super().__init__()\n",
    "        self.dropout = nn.Dropout(dropout)\n",
    "        self.norm = LayerNormalization()\n",
    "\n",
    "    # Forward method\n",
    "    def forward(self, x, sublayer):\n",
    "\n",
    "        # Apply norm, dropout, add and return\n",
    "        return x + self.dropout(sublayer(self.norm(x))) # Applying norm first is different from paper. It improves convergence and removes need of warmig up"
   ]
  },
  {
   "cell_type": "markdown",
   "id": "651becca-5ad4-4b9f-9d21-a1780459ce40",
   "metadata": {},
   "source": [
    "### Encoder Block"
   ]
  },
  {
   "cell_type": "code",
   "execution_count": 21,
   "id": "ee3c5b64-a1c6-4499-ac38-e41271f2a44d",
   "metadata": {},
   "outputs": [],
   "source": [
    "# Encoder block\n",
    "class EncoderBlock(nn.Module):\n",
    "\n",
    "    # Constructor\n",
    "    def __init__(self, self_attention_block: MultiHeadAttentionBlock, feed_forward_block: FeedForwardBlock, dropout: float):\n",
    "        super().__init__()\n",
    "        self.self_attention_block = self_attention_block\n",
    "        self.feed_forward_block = feed_forward_block\n",
    "        self.residual_connections = nn.ModuleList([ResidualConnectionBlock(dropout) for _ in range(2)])\n",
    "\n",
    "    # Forward method\n",
    "    def forward(self, x, src_mask):\n",
    "\n",
    "        # Apply multi head attention\n",
    "        x = self.residual_connections[0](x, lambda x:self.self_attention_block(x, x, x, src_mask))\n",
    "\n",
    "        # Apply feed forward network\n",
    "        x = self.residual_connections[1](x, self.feed_forward_block)\n",
    "\n",
    "        # Return output\n",
    "        return x"
   ]
  },
  {
   "cell_type": "markdown",
   "id": "adf413cd-ec97-4218-b760-855a99bb9824",
   "metadata": {},
   "source": [
    "### Encoder"
   ]
  },
  {
   "cell_type": "code",
   "execution_count": 22,
   "id": "c8425e0a-27b5-46c1-8917-324bef83946f",
   "metadata": {},
   "outputs": [],
   "source": [
    "# Encoder layer of the transformer model\n",
    "class Encoder(nn.Module):\n",
    "\n",
    "    # Constructor\n",
    "    def __init__(self, layers: nn.ModuleList):\n",
    "        super().__init__()\n",
    "        self.layers = layers\n",
    "        self.norm = LayerNormalization()\n",
    "\n",
    "    # Forward method\n",
    "    def forward(self, x, mask):\n",
    "        for layer in self.layers:\n",
    "            x = layer(x, mask)\n",
    "        return self.norm(x)"
   ]
  },
  {
   "cell_type": "markdown",
   "id": "063c11e1-1c7c-4015-b9ab-7b97161e411b",
   "metadata": {},
   "source": [
    "### Decoder Block"
   ]
  },
  {
   "cell_type": "code",
   "execution_count": 23,
   "id": "0e30a627-a763-4fa5-ae45-b819dd2011c3",
   "metadata": {},
   "outputs": [],
   "source": [
    "# Decoder block\n",
    "class DecoderBlock(nn.Module):\n",
    "\n",
    "    # Constructor\n",
    "    def __init__(self, self_attention_block: MultiHeadAttentionBlock, cross_attention_block: MultiHeadAttentionBlock, feed_forward_block:FeedForwardBlock, dropout: float):\n",
    "        super().__init__()\n",
    "        self.self_attention_block = self_attention_block\n",
    "        self.cross_attention_block = cross_attention_block\n",
    "        self.feed_forward_block = feed_forward_block\n",
    "        self.residual_connections = nn.ModuleList([ResidualConnectionBlock(dropout) for _ in range(3)])\n",
    "\n",
    "    # Forward method\n",
    "    def forward(self, x, encoder_output, src_mask, tgt_mask):\n",
    "\n",
    "        # Apply self attention\n",
    "        x = self.residual_connections[0](x, lambda x:self.self_attention_block(x, x, x, tgt_mask))\n",
    "\n",
    "        # Apply cross attention\n",
    "        x = self.residual_connections[1](x, lambda x:self.self_attention_block(x, encoder_output, encoder_output, src_mask))\n",
    "\n",
    "        # Apply feed forward network\n",
    "        x = self.residual_connections[2](x, self.feed_forward_block)\n",
    "\n",
    "        # Return output\n",
    "        return x"
   ]
  },
  {
   "cell_type": "markdown",
   "id": "c4c7d7e2-8858-4cfe-b073-ae6c2c459e8c",
   "metadata": {},
   "source": [
    "### Decoder"
   ]
  },
  {
   "cell_type": "code",
   "execution_count": 24,
   "id": "9dc1c768-cb43-47d0-9031-727bde415352",
   "metadata": {},
   "outputs": [],
   "source": [
    "# Decoder layer of the transformer model\n",
    "class Decoder(nn.Module):\n",
    "\n",
    "    # Constructor\n",
    "    def __init__(self, layers: nn.ModuleList):\n",
    "        super().__init__()\n",
    "        self.layers = layers\n",
    "        self.norm = LayerNormalization()\n",
    "\n",
    "    # Forward method\n",
    "    def forward(self, x, encoder_output, src_mask, tgt_mask):\n",
    "        for layer in self.layers:\n",
    "            x = layer(x, encoder_output, src_mask, tgt_mask)\n",
    "        return self.norm(x)"
   ]
  },
  {
   "cell_type": "markdown",
   "id": "473b6325-8eb8-4086-b639-af4e1b65c977",
   "metadata": {},
   "source": [
    "### Output Linear Layer"
   ]
  },
  {
   "cell_type": "code",
   "execution_count": 25,
   "id": "2b1dc192-3d10-4943-a2a8-af515a7c773b",
   "metadata": {},
   "outputs": [],
   "source": [
    "# Linear layer to get output of transformer model\n",
    "class OutputLinearLayer(nn.Module):\n",
    "\n",
    "    # Constructor\n",
    "    def __init__(self, d_model: int, vocab_size: int):\n",
    "        super().__init__()\n",
    "        self.linear = nn.Linear(d_model, vocab_size)\n",
    "\n",
    "    # Forward method\n",
    "    def forward(self, x):\n",
    "        return torch.log_softmax(self.linear(x), dim=-1)"
   ]
  },
  {
   "cell_type": "markdown",
   "id": "a80a262c-8437-4383-884a-12421afd03ed",
   "metadata": {},
   "source": [
    "### Transformer Model"
   ]
  },
  {
   "cell_type": "code",
   "execution_count": 26,
   "id": "2cc533be-4d1c-4e0a-b7bb-796285e0e77f",
   "metadata": {},
   "outputs": [],
   "source": [
    "# Transformer model\n",
    "class TransformerModel(nn.Module):\n",
    "\n",
    "    # Constructor\n",
    "    def __init__(self, encoder: Encoder, decoder: Decoder, src_embedding: InputEmbedder, tgt_embedding: InputEmbedder, src_pos: PositionalEncoder, tgt_pos: PositionalEncoder, output_layer: OutputLinearLayer):\n",
    "        super().__init__()\n",
    "        self.encoder = encoder\n",
    "        self.decoder = decoder\n",
    "        self.src_embedding = src_embedding\n",
    "        self.tgt_embedding = tgt_embedding\n",
    "        self.src_pos = src_pos\n",
    "        self.tgt_pos = tgt_pos\n",
    "        self.output_layer = output_layer\n",
    "\n",
    "    # Encode method\n",
    "    def encode(self, src, src_mask):\n",
    "        src = self.src_embedding(src)\n",
    "        src = self.src_pos(src)\n",
    "        src = self.encoder(src, src_mask)\n",
    "        return src\n",
    "\n",
    "    # Decode method\n",
    "    def decode(self, encoder_output, src_mask, tgt, tgt_mask):\n",
    "        tgt = self.tgt_embedding(tgt)\n",
    "        tgt = self.tgt_pos(tgt)\n",
    "        tgt = self.decoder(tgt, encoder_output, src_mask, tgt_mask)\n",
    "        return tgt\n",
    "\n",
    "    # Output projection method\n",
    "    def project(self, x):\n",
    "        return self.output_layer(x)"
   ]
  },
  {
   "cell_type": "markdown",
   "id": "d19c683d-1700-4e55-9552-fd072dc3e8a7",
   "metadata": {},
   "source": [
    "### Transformer Factory"
   ]
  },
  {
   "cell_type": "code",
   "execution_count": 27,
   "id": "d1f7ef7c-218b-45e0-a18d-f7df9a3aed4f",
   "metadata": {},
   "outputs": [],
   "source": [
    "# Function to build transformer model\n",
    "def build_transformer_model(src_vocab_size: int, tgt_vocab_size: int, src_seq_len: int, tgt_seq_len: int, d_model: int = 512, N: int = 6, h: int = 8, dropout: float = 0.1, d_ff: int = 2048) -> TransformerModel:\n",
    "\n",
    "    # Create embedder layers\n",
    "    src_embedding = InputEmbedder(d_model, src_vocab_size)\n",
    "    tgt_embedding = InputEmbedder(d_model, tgt_vocab_size)\n",
    "\n",
    "    # Positional encoder layers\n",
    "    src_pos = PositionalEncoder(d_model, src_seq_len, dropout)\n",
    "    tgt_pos = PositionalEncoder(d_model, tgt_seq_len, dropout)\n",
    "\n",
    "    # Encoder blocks\n",
    "    encoder_blocks = []\n",
    "    for _ in range(N):\n",
    "        encoder_self_attn = MultiHeadAttentionBlock(d_model, h, dropout)\n",
    "        encoder_ff = FeedForwardBlock(d_model, d_ff, dropout)\n",
    "        encoder_block = EncoderBlock(encoder_self_attn, encoder_ff, dropout)\n",
    "        encoder_blocks.append(encoder_block)\n",
    "\n",
    "    # Decoder blocks\n",
    "    decoder_blocks = []\n",
    "    for _ in range(N):\n",
    "        decoder_self_attn = MultiHeadAttentionBlock(d_model, h, dropout)\n",
    "        decoder_cross_attn = MultiHeadAttentionBlock(d_model, h, dropout)\n",
    "        decoder_ff = FeedForwardBlock(d_model, d_ff, dropout)\n",
    "        decoder_block = DecoderBlock(decoder_self_attn, decoder_cross_attn, decoder_ff, dropout)\n",
    "        decoder_blocks.append(decoder_block)\n",
    "\n",
    "    # Encoder and decoder layers\n",
    "    encoder = Encoder(nn.ModuleList(encoder_blocks))\n",
    "    decoder = Decoder(nn.ModuleList(decoder_blocks))\n",
    "\n",
    "    # Output layer\n",
    "    output_layer = OutputLinearLayer(d_model, tgt_vocab_size)\n",
    "\n",
    "    # Transformer model\n",
    "    transformer = TransformerModel(encoder, decoder, src_embedding, tgt_embedding, src_pos, tgt_pos, output_layer)\n",
    "\n",
    "    # Initialize model params - make training faster with xavier\n",
    "    for p in transformer.parameters():\n",
    "        if p.dim() > 1:\n",
    "            nn.init.xavier_uniform_(p)\n",
    "    \n",
    "    # Return model\n",
    "    return transformer"
   ]
  },
  {
   "cell_type": "markdown",
   "id": "18f28bbe-d274-42ce-86dc-63228405d8c6",
   "metadata": {},
   "source": [
    "### Inference Decoder "
   ]
  },
  {
   "cell_type": "code",
   "execution_count": 109,
   "id": "9c26065a-f29a-4efb-9fe3-b90b8e54ab2e",
   "metadata": {},
   "outputs": [],
   "source": [
    "# Decoder function for inference\n",
    "def inference_decode(model:TransformerModel, src, src_mask, tokenizer_src, tokenizer_tgt, max_len, device):\n",
    "\n",
    "    # Special tokens for tgt sequence\n",
    "    bos_idx = tokenizer_tgt.token_to_id(SPECIAL_TOKENS[BOS_IDX])\n",
    "    eos_idx = tokenizer_tgt.token_to_id(SPECIAL_TOKENS[EOS_IDX])\n",
    "\n",
    "    # Compute encoder outputs\n",
    "    encoder_output = model.encode(src, src_mask)\n",
    "\n",
    "    # Compute decoder input and output\n",
    "    decoder_input = torch.empty(1,1).fill_(bos_idx).type_as(src).to(device)\n",
    "    while True:\n",
    "\n",
    "        # Break if we are at max length\n",
    "        if(decoder_input.size(1) == max_len):\n",
    "            break\n",
    "\n",
    "        # Target mask\n",
    "        decoder_mask = torch.triu(torch.ones((1, decoder_input.size(1), decoder_input.size(1))), diagonal=1).type_as(src).to(device)\n",
    "\n",
    "        # Model output\n",
    "        out = model.decode(encoder_output, src_mask, decoder_input, decoder_mask)\n",
    "\n",
    "        # Get next token and add to output\n",
    "        probs = model.project(out[:,-1])\n",
    "        _, next_token = torch.max(probs, dim=1)\n",
    "        decoder_input = torch.cat([decoder_input, torch.empty(1,1).type_as(src).fill_(next_token.item()).to(device)], dim=1)\n",
    "\n",
    "        # Break if we generated EOS\n",
    "        if next_token == eos_idx:\n",
    "            break\n",
    "\n",
    "    # Return output\n",
    "    return decoder_input.squeeze(0)"
   ]
  },
  {
   "cell_type": "markdown",
   "id": "3df18879-7093-40c7-9696-496a55c76264",
   "metadata": {},
   "source": [
    "# Dataset"
   ]
  },
  {
   "cell_type": "code",
   "execution_count": 29,
   "id": "c36f6632-3e37-4261-abdd-c857b4c23313",
   "metadata": {},
   "outputs": [],
   "source": [
    "!pip install -q matplotlib tokenizers datasets"
   ]
  },
  {
   "cell_type": "code",
   "execution_count": 30,
   "id": "870305c0-9a21-46fa-96fc-77db9aff71c2",
   "metadata": {},
   "outputs": [],
   "source": [
    "# Imports\n",
    "import torch\n",
    "import torch.nn\n",
    "import matplotlib.pyplot as plt\n",
    "from pathlib import Path\n",
    "from torch.utils.data import Dataset, DataLoader, random_split\n",
    "from datasets import load_dataset\n",
    "from tokenizers import Tokenizer\n",
    "from tokenizers.models import WordLevel\n",
    "from tokenizers.trainers import WordLevelTrainer\n",
    "from tokenizers.pre_tokenizers import Whitespace"
   ]
  },
  {
   "cell_type": "markdown",
   "id": "b16f99ae-9dc2-4da1-9631-2ae893507d58",
   "metadata": {},
   "source": [
    "### Constants"
   ]
  },
  {
   "cell_type": "code",
   "execution_count": 31,
   "id": "46d2aac4-23fa-4feb-8016-c3260d5d790f",
   "metadata": {},
   "outputs": [],
   "source": [
    "# Special tokens\n",
    "UNK_IDX = 0\n",
    "PAD_IDX = 1\n",
    "BOS_IDX = 2\n",
    "EOS_IDX = 3\n",
    "SPECIAL_TOKENS = ['<UNK>', '<PAD>', '<BOS>', '<EOS>'] "
   ]
  },
  {
   "cell_type": "code",
   "execution_count": 32,
   "id": "0ed9aa5f-9505-4664-ab40-e5eff773fc76",
   "metadata": {},
   "outputs": [],
   "source": [
    "# Dataset config\n",
    "dataset_name = 'bentrevett/multi30k'"
   ]
  },
  {
   "cell_type": "markdown",
   "id": "d45aefe8-d8d6-4c68-912e-ac0f2e161c0b",
   "metadata": {},
   "source": [
    "### Dataset Class"
   ]
  },
  {
   "cell_type": "code",
   "execution_count": 33,
   "id": "f5540547-3222-49cb-9016-7ed41300684d",
   "metadata": {},
   "outputs": [],
   "source": [
    "# Dataset class\n",
    "class LangTranslationDataset(Dataset):\n",
    "\n",
    "    # Constructor\n",
    "    def __init__(self, dataset, tokenizer_src, tokenizer_tgt, src_lang, tgt_lang, seq_len):\n",
    "        \n",
    "        # Init values\n",
    "        super().__init__()\n",
    "        self.dataset = dataset\n",
    "        self.tokenizer_src = tokenizer_src\n",
    "        self.tokenizer_tgt = tokenizer_tgt\n",
    "        self.src_lang = src_lang\n",
    "        self.tgt_lang = tgt_lang\n",
    "        self.seq_len = seq_len\n",
    "\n",
    "        # Set special tokens\n",
    "        self.bos_token = torch.LongTensor([tokenizer_src.token_to_id(SPECIAL_TOKENS[BOS_IDX])])\n",
    "        self.eos_token = torch.LongTensor([tokenizer_src.token_to_id(SPECIAL_TOKENS[EOS_IDX])])\n",
    "        self.pad_token = torch.LongTensor([tokenizer_src.token_to_id(SPECIAL_TOKENS[PAD_IDX])])\n",
    "\n",
    "    # Length function\n",
    "    def __len__(self):\n",
    "        return len(self.dataset)\n",
    "\n",
    "    # Get item function\n",
    "    def __getitem__(self, index):\n",
    "\n",
    "        # Get the src and tgt sentences\n",
    "        data_item = self.dataset[index]\n",
    "        src_text = data_item[self.src_lang]\n",
    "        tgt_text = data_item[self.tgt_lang]\n",
    "\n",
    "        # Tokenize sentences\n",
    "        src_tokens = self.tokenizer_src.encode(src_text).ids\n",
    "        tgt_tokens = self.tokenizer_tgt.encode(tgt_text).ids\n",
    "\n",
    "        # Generate tensors (encoder input, decoder input, label) of length `seq_len` by adding padding, bos and eos tokens\n",
    "        padding_tokens_count_src = self.seq_len - len(src_tokens) - 2 # BOS and EOS tokens: 2\n",
    "        padding_tokens_count_tgt = self.seq_len - len(tgt_tokens) - 1 # EOS token is not required\n",
    "        if (padding_tokens_count_src < 0 or padding_tokens_count_tgt < 0):\n",
    "            raise Error('Sentence does not fit in `self.seq_len`')\n",
    "        encoder_input = torch.cat([\n",
    "            self.bos_token, \n",
    "            torch.tensor(src_tokens, dtype=torch.int64), \n",
    "            self.eos_token, \n",
    "            torch.full((padding_tokens_count_src,), self.pad_token.item(), dtype=torch.int64)\n",
    "        ])\n",
    "        decoder_input = torch.cat([\n",
    "            self.bos_token, \n",
    "            torch.tensor(tgt_tokens, dtype=torch.int64), \n",
    "            torch.full((padding_tokens_count_tgt,), self.pad_token.item(), dtype=torch.int64)\n",
    "        ])\n",
    "        label = torch.cat([\n",
    "            torch.tensor(tgt_tokens, dtype=torch.int64), \n",
    "            self.eos_token,\n",
    "            torch.full((padding_tokens_count_tgt,), self.pad_token.item(), dtype=torch.int64)\n",
    "        ])\n",
    "\n",
    "        # Assert lengths\n",
    "        assert encoder_input.size(0) == self.seq_len\n",
    "        assert decoder_input.size(0) == self.seq_len\n",
    "        assert label.size(0) == self.seq_len\n",
    "\n",
    "        # Generate masks\n",
    "        encoder_mask = (encoder_input != self.pad_token.item()).unsqueeze(0).unsqueeze(0).int()  # (1, 1, seq_len): (batch dim, seq dim, mask data)\n",
    "        decoder_causal_mask = torch.triu(torch.ones(1, self.seq_len, self.seq_len), diagonal=1).type(torch.int) == 0\n",
    "        decoder_mask = (decoder_input != self.pad_token.item()).unsqueeze(0).unsqueeze(0).int() & decoder_causal_mask  # (1, 1, seq_len) & (1, seq_len, seq_len) = (1, seq_len, seq_len)\n",
    "        \n",
    "        # Return tensors\n",
    "        return {\n",
    "            'src_text': src_text,\n",
    "            'tgt_text': tgt_text,\n",
    "            'encoder_input': encoder_input,  # (seq_len)\n",
    "            'decoder_input': decoder_input,  # (seq_len)\n",
    "            'encoder_mask': encoder_mask,    # (1, 1, seq_len)\n",
    "            'decoder_mask': decoder_mask,    # (1, seq_len, seq_len)\n",
    "            'label': label                   # (seq_len)\n",
    "        }"
   ]
  },
  {
   "cell_type": "markdown",
   "id": "557a462b-7fa7-4510-8a95-48f0bf261ba7",
   "metadata": {},
   "source": [
    "### Dataset & Tokenizer Utils"
   ]
  },
  {
   "cell_type": "markdown",
   "id": "a893b66b-f04b-40f6-bd41-6f7c1e14933b",
   "metadata": {},
   "source": [
    "**Testing**"
   ]
  },
  {
   "cell_type": "code",
   "execution_count": 79,
   "id": "479c153d-4f58-4aa1-9548-f8d354388e53",
   "metadata": {},
   "outputs": [
    {
     "data": {
      "text/plain": [
       "DatasetDict({\n",
       "    train: Dataset({\n",
       "        features: ['en', 'de'],\n",
       "        num_rows: 29000\n",
       "    })\n",
       "    validation: Dataset({\n",
       "        features: ['en', 'de'],\n",
       "        num_rows: 1014\n",
       "    })\n",
       "    test: Dataset({\n",
       "        features: ['en', 'de'],\n",
       "        num_rows: 1000\n",
       "    })\n",
       "})"
      ]
     },
     "execution_count": 79,
     "metadata": {},
     "output_type": "execute_result"
    }
   ],
   "source": [
    "# Load dataset\n",
    "dataset_raw = load_dataset(dataset_name)\n",
    "dataset_raw"
   ]
  },
  {
   "cell_type": "code",
   "execution_count": 80,
   "id": "025e7dd5-be9a-41bf-81fe-3b42a6fe54d6",
   "metadata": {},
   "outputs": [],
   "source": [
    "# Build tokenizers\n",
    "tokenizer_src = build_tokenizer(None, dataset_raw['train'], 'en')\n",
    "tokenizer_tgt = build_tokenizer(None, dataset_raw['train'], 'de')"
   ]
  },
  {
   "cell_type": "code",
   "execution_count": 81,
   "id": "810b9c99-967b-46f2-a0b5-c6cbda722b7b",
   "metadata": {},
   "outputs": [
    {
     "name": "stdout",
     "output_type": "stream",
     "text": [
      "['Several', 'men', 'in', 'hard', 'hats', 'are', 'operating', 'a', 'giant', 'pulley', 'system', '.']\n",
      "[165, 36, 7, 336, 288, 17, 1224, 4, 758, 4506, 2959, 5]\n"
     ]
    }
   ],
   "source": [
    "# Test src tokenizer\n",
    "src_enc = tokenizer_src.encode('Several men in hard hats are operating a giant pulley system.')\n",
    "print(src_enc.tokens)\n",
    "print(src_enc.ids)"
   ]
  },
  {
   "cell_type": "code",
   "execution_count": 82,
   "id": "575a4316-31c3-4a60-9d3e-9b2397a92015",
   "metadata": {},
   "outputs": [
    {
     "name": "stdout",
     "output_type": "stream",
     "text": [
      "['Mehrere', 'Männer', 'mit', 'Schutzhelmen', 'bedienen', 'ein', '<UNK>', '.']\n",
      "[85, 32, 10, 862, 2246, 15, 0, 4]\n"
     ]
    }
   ],
   "source": [
    "# Test tgt tokenizer\n",
    "tgt_enc = tokenizer_tgt.encode('Mehrere Männer mit Schutzhelmen bedienen ein Antriebsradsystem.')\n",
    "print(tgt_enc.tokens)\n",
    "print(tgt_enc.ids)"
   ]
  },
  {
   "cell_type": "markdown",
   "id": "6cf3c667-6a28-4905-a3a9-e7c37c5e5647",
   "metadata": {},
   "source": [
    "**Utils**"
   ]
  },
  {
   "cell_type": "code",
   "execution_count": 39,
   "id": "ceb40a18-9496-4956-b4c4-05ee22ac9a07",
   "metadata": {},
   "outputs": [],
   "source": [
    "# Function to return iterator for the dataset\n",
    "def get_dataset_iterator(dataset, lang):\n",
    "    for item in dataset:\n",
    "        yield item[lang]"
   ]
  },
  {
   "cell_type": "code",
   "execution_count": 40,
   "id": "a18e376f-0329-4c6c-ade8-f1dcbbf3fcec",
   "metadata": {},
   "outputs": [],
   "source": [
    "# Tokenizer builder\n",
    "def build_tokenizer(tokenizer_file_name, dataset, lang):\n",
    "    if tokenizer_file_name is None or not (Path.exists(Path(tokenizer_file_name.format(lang)))):\n",
    "        tokenizer = Tokenizer(WordLevel(unk_token=SPECIAL_TOKENS[UNK_IDX]))\n",
    "        tokenizer.pre_tokenizer = Whitespace()\n",
    "        trainer = WordLevelTrainer(special_tokens=SPECIAL_TOKENS, min_frequency=2)\n",
    "        tokenizer.train_from_iterator(get_dataset_iterator(dataset, lang), trainer=trainer)\n",
    "        if tokenizer_file_name is not None:\n",
    "            tokenizer.save(str(Path(tokenizer_file_name.format(lang))))\n",
    "    else:\n",
    "        tokenizer = Tokenizer.from_file(str(Path(tokenizer_file_name.format(lang))))\n",
    "    return tokenizer"
   ]
  },
  {
   "cell_type": "code",
   "execution_count": 41,
   "id": "96c95ca5-d896-4be3-a7ca-a6e7f9f8dea0",
   "metadata": {},
   "outputs": [],
   "source": [
    "# Function to load dataset\n",
    "def get_dataset(dataset_name, src_lang, tgt_lang, tokenizer_file_name, seq_len, batch_size):\n",
    "\n",
    "    # Load raw dataset\n",
    "    dataset_raw = load_dataset(dataset_name)\n",
    "\n",
    "    # Tokenize the loaded data\n",
    "    tokenizer_src = build_tokenizer(tokenizer_file_name, dataset_raw['train'], src_lang)\n",
    "    tokenizer_tgt = build_tokenizer(tokenizer_file_name, dataset_raw['train'], tgt_lang)\n",
    "\n",
    "    # Filter rows based on seq length and separate train/val splits\n",
    "    train_dataset_raw = dataset_raw['train'].filter(lambda item:len(tokenizer_src.encode(item[src_lang]))<=(seq_len-2) and len(tokenizer_tgt.encode(item[tgt_lang]))<=(seq_len-1))\n",
    "    val_dataset_raw = dataset_raw['validation'].filter(lambda item:len(tokenizer_src.encode(item[src_lang]))<=(seq_len-2) and len(tokenizer_tgt.encode(item[tgt_lang]))<=(seq_len-1))\n",
    "\n",
    "    # Create Dataset objects\n",
    "    train_dataset = LangTranslationDataset(train_dataset_raw, tokenizer_src, tokenizer_tgt, src_lang, tgt_lang, seq_len)\n",
    "    val_dataset = LangTranslationDataset(val_dataset_raw, tokenizer_src, tokenizer_tgt, src_lang, tgt_lang, seq_len)\n",
    "    print(f'Train set size: {len(train_dataset)}')\n",
    "    print(f'Validation set size: {len(val_dataset)}')\n",
    "\n",
    "    # Create dataloaders for the datasets\n",
    "    train_dataloader = DataLoader(train_dataset, batch_size=batch_size, shuffle=True)\n",
    "    val_dataloader = DataLoader(val_dataset, batch_size=1, shuffle=True)\n",
    "\n",
    "    # Print max length\n",
    "    src_max_len = 0\n",
    "    tgt_max_len = 0\n",
    "    for item in train_dataset_raw:\n",
    "        src_tokens = tokenizer_src.encode(item[src_lang]).ids\n",
    "        tgt_tokens = tokenizer_tgt.encode(item[tgt_lang]).ids\n",
    "        src_max_len = max(src_max_len, len(src_tokens))\n",
    "        tgt_max_len = max(tgt_max_len, len(tgt_tokens))\n",
    "    for item in val_dataset_raw:\n",
    "        src_tokens = tokenizer_src.encode(item[src_lang]).ids\n",
    "        tgt_tokens = tokenizer_tgt.encode(item[tgt_lang]).ids\n",
    "        src_max_len = max(src_max_len, len(src_tokens))\n",
    "        tgt_max_len = max(tgt_max_len, len(tgt_tokens))\n",
    "    print(f'Max length in source: {src_max_len}')\n",
    "    print(f'Max length in target: {tgt_max_len}')\n",
    "\n",
    "    # Return dataloaders and tokenizers\n",
    "    return train_dataloader, val_dataloader, tokenizer_src, tokenizer_tgt"
   ]
  },
  {
   "cell_type": "code",
   "execution_count": 85,
   "id": "1485e5f1-dd86-4741-aa6b-3f015dd2fb22",
   "metadata": {},
   "outputs": [],
   "source": [
    "# Function to load dataset\n",
    "def get_test_dataset(dataset_name, src_lang, tgt_lang, tokenizer_src, tokenizer_tgt, seq_len, batch_size):\n",
    "\n",
    "    # Load raw dataset\n",
    "    dataset_raw = load_dataset(dataset_name)\n",
    "    test_dataset_raw = dataset_raw['test'].filter(lambda item:len(tokenizer_src.encode(item[src_lang]))<=(seq_len-2) and len(tokenizer_tgt.encode(item[tgt_lang]))<=(seq_len-1))\n",
    "\n",
    "    # Create Dataset objects\n",
    "    test_dataset = LangTranslationDataset(test_dataset_raw, tokenizer_src, tokenizer_tgt, src_lang, tgt_lang, seq_len)\n",
    "    print(f'Test set size: {len(test_dataset)}')\n",
    "\n",
    "    # Create dataloaders for the datasets\n",
    "    test_dataloader = DataLoader(test_dataset, batch_size=batch_size, shuffle=True)\n",
    "\n",
    "    # Print max length\n",
    "    src_max_len = 0\n",
    "    tgt_max_len = 0\n",
    "    for item in test_dataset_raw:\n",
    "        src_tokens = tokenizer_src.encode(item[src_lang]).ids\n",
    "        tgt_tokens = tokenizer_tgt.encode(item[tgt_lang]).ids\n",
    "        src_max_len = max(src_max_len, len(src_tokens))\n",
    "        tgt_max_len = max(tgt_max_len, len(tgt_tokens))\n",
    "    print(f'Max length in source: {src_max_len}')\n",
    "    print(f'Max length in target: {tgt_max_len}')\n",
    "\n",
    "    # Return dataloaders and tokenizers\n",
    "    return test_dataloader"
   ]
  },
  {
   "cell_type": "markdown",
   "id": "013aa1be-ba9d-43a8-81fe-f4227e4fb92f",
   "metadata": {},
   "source": [
    "### Explore dataset"
   ]
  },
  {
   "cell_type": "code",
   "execution_count": 68,
   "id": "bf504d8b-ef35-4309-9646-38da2eab1951",
   "metadata": {},
   "outputs": [],
   "source": [
    "# Load dataset and make tokeizers\n",
    "src_lang = 'en'\n",
    "tgt_lang = 'de'\n",
    "dataset_raw = load_dataset(dataset_name, split='train')\n",
    "tokenizer_src = build_tokenizer(None, dataset_raw, src_lang)\n",
    "tokenizer_tgt = build_tokenizer(None, dataset_raw, tgt_lang)"
   ]
  },
  {
   "cell_type": "code",
   "execution_count": 70,
   "id": "47e451f5-7da7-4c10-96f7-a5b002521947",
   "metadata": {},
   "outputs": [],
   "source": [
    "# Get sentence lengths to analyze\n",
    "src_lens = []\n",
    "tgt_lens = []\n",
    "for item in dataset_raw:\n",
    "    src_tokens = tokenizer_src.encode(item[src_lang]).ids\n",
    "    tgt_tokens = tokenizer_tgt.encode(item[tgt_lang]).ids\n",
    "    src_lens.append(len(src_tokens))\n",
    "    tgt_lens.append(len(tgt_tokens))"
   ]
  },
  {
   "cell_type": "code",
   "execution_count": 141,
   "id": "d98b4f53-5aab-4e62-968e-81eee307bf1d",
   "metadata": {},
   "outputs": [
    {
     "data": {
      "image/png": "[encoded data removed]",
      "text/plain": [
       "<Figure size 1600x600 with 2 Axes>"
      ]
     },
     "metadata": {},
     "output_type": "display_data"
    }
   ],
   "source": [
    "# Plot histograms for lengths\n",
    "plt.figure(figsize=(16,6))\n",
    "bins_list = range(0,200,10)\n",
    "ax = plt.subplot(1, 2, 1)\n",
    "n,bins,patches = plt.hist(src_lens, bins=bins_list);\n",
    "for i in range(len(bins_list) - 1):\n",
    "    if n[i] > 0: \n",
    "        ax.text(bins[i] + 5, n[i] + 400, str(int(n[i])), fontsize=8, ha='center', rotation=90)\n",
    "plt.title(f'Sentence lengths for \"{src_lang}\"')\n",
    "ax = plt.subplot(1, 2, 2)\n",
    "n,bins,patches = plt.hist(tgt_lens, bins=bins_list);\n",
    "for i in range(len(bins_list) - 1):\n",
    "    if n[i] > 0: \n",
    "        ax.text(bins[i] + 5, n[i] + 400, str(int(n[i])), fontsize=8, ha='center', rotation=90)\n",
    "plt.title(f'Sentence lengths for \"{tgt_lang}\"')\n",
    "plt.show()"
   ]
  },
  {
   "cell_type": "markdown",
   "id": "fbc313dd-0d58-4461-98fe-ee6d0189393a",
   "metadata": {},
   "source": [
    "# Training"
   ]
  },
  {
   "cell_type": "code",
   "execution_count": 34,
   "id": "457cb7bc-e31c-4d29-a634-490c9a067a68",
   "metadata": {},
   "outputs": [],
   "source": [
    "# Imports\n",
    "import torch\n",
    "import torch.nn\n",
    "from tqdm import tqdm\n",
    "from pathlib import Path\n",
    "# from torch.utils.tensorboard import SummaryWriter\n",
    "import warnings\n",
    "import numpy as np\n",
    "import pandas as pd"
   ]
  },
  {
   "cell_type": "markdown",
   "id": "d8a7016b-45ec-419a-9651-6e290ce1f473",
   "metadata": {},
   "source": [
    "### Training Config"
   ]
  },
  {
   "cell_type": "code",
   "execution_count": 35,
   "id": "ff465586-7253-4e72-b3d5-b6bbc2440fd5",
   "metadata": {},
   "outputs": [],
   "source": [
    "# Function to return config\n",
    "def get_training_config():\n",
    "\n",
    "    # Config\n",
    "    batch_size = 256\n",
    "    num_epochs = 30\n",
    "    learning_rate = 1e-4\n",
    "    seq_len = 50 # Selected based on histograms\n",
    "    d_model = 512\n",
    "    dropout = 0.1\n",
    "    d_ff = 2048\n",
    "    N = 6\n",
    "    betas = (0.9, 0.999)\n",
    "    lang_src = \"en\"\n",
    "    lang_tgt = \"de\"\n",
    "    model_dir = \"weights\"\n",
    "    model_file = \"tf_model_\"\n",
    "    preload = None\n",
    "    tokenizer_file = \"tokenizer_{0}.json\"\n",
    "    experiment_name = \"runs/tf_model_\"\n",
    "\n",
    "    # Return config\n",
    "    return {\n",
    "        \"batch_size\": batch_size,\n",
    "        \"num_epochs\": num_epochs,\n",
    "        \"learning_rate\": learning_rate,\n",
    "        \"seq_len\": seq_len,\n",
    "        \"d_model\": d_model,\n",
    "        \"d_ff\": d_ff,\n",
    "        \"N\": N,\n",
    "        \"lang_src\": lang_src,\n",
    "        \"lang_tgt\": lang_tgt,\n",
    "        \"model_dir\": model_dir,\n",
    "        \"model_file\": model_file,\n",
    "        \"preload\": preload,\n",
    "        \"tokenizer_file\": tokenizer_file,\n",
    "        \"experiment_name\": experiment_name,\n",
    "        \"dropout\": dropout,\n",
    "        \"betas\": betas\n",
    "    }"
   ]
  },
  {
   "cell_type": "markdown",
   "id": "b6e5d6ef-f482-4c8e-ac3f-3cfb693bc0ca",
   "metadata": {},
   "source": [
    "### Training Utils"
   ]
  },
  {
   "cell_type": "code",
   "execution_count": 36,
   "id": "8f552144-d095-4b18-9912-ac3263edcf15",
   "metadata": {},
   "outputs": [],
   "source": [
    "# Validation function\n",
    "def get_val_loss(model, val_ds, tokenizer_src, tokenizer_tgt, max_len, device, loss_fn):\n",
    "\n",
    "    # Set model to eval mode\n",
    "    model.eval()\n",
    "\n",
    "    # Evaluate with no grad\n",
    "    with torch.no_grad():\n",
    "\n",
    "        # Maintain losses list\n",
    "        losses = []\n",
    "        \n",
    "        # Loop  batches\n",
    "        for batch in val_ds:\n",
    "\n",
    "            # Get data for each batch\n",
    "            encoder_input = batch['encoder_input'].to(device) # (batch_size, seq_len)\n",
    "            decoder_input = batch['decoder_input'].to(device) # (batch_size, seq_len)\n",
    "            encoder_mask = batch['encoder_mask'].to(device) # (batch_size, 1, 1, seq_len)\n",
    "            decoder_mask = batch['decoder_mask'].to(device) # (batch_size, 1, seq_len, seq_len)\n",
    "            label = batch['label'].to(device) # (batch_size, seq_len)\n",
    "\n",
    "            # Run the input through model\n",
    "            encoder_output = model.encode(encoder_input, encoder_mask) # (batch_size, seq_len, d_model)\n",
    "            decoder_output = model.decode(encoder_output, encoder_mask, decoder_input, decoder_mask) # (batch_size, seq_len, d_model)\n",
    "            output = model.project(decoder_output) # (batch_size, seq_len, tgt_vocab_size)\n",
    "\n",
    "            # Compare labels and calculate loss\n",
    "            loss = loss_fn(output.view(-1,tokenizer_tgt.get_vocab_size()), label.view(-1))\n",
    "            losses.append(loss.item())\n",
    "            \n",
    "        # Return mean loss\n",
    "        return np.mean(losses)"
   ]
  },
  {
   "cell_type": "code",
   "execution_count": 37,
   "id": "664e4a0a-13fa-465e-821f-ea2489f2505d",
   "metadata": {},
   "outputs": [],
   "source": [
    "# Run validation on few samples\n",
    "def run_validation(model, val_ds, tokenizer_src, tokenizer_tgt, max_len, device, tqdm_print_fn, global_state, writer, num_examples=2, print_output=True):\n",
    "\n",
    "    # Set model to eval mode\n",
    "    model.eval()\n",
    "\n",
    "    # Store results\n",
    "    inputs = []\n",
    "    labels = []\n",
    "    preds = []\n",
    "\n",
    "    # Evaluate with no grad\n",
    "    with torch.no_grad():\n",
    "\n",
    "        # Loop `num_examples` batches\n",
    "        c = 0\n",
    "        for batch in val_ds:\n",
    "            c+=1\n",
    "            if(num_examples>0 and c>num_examples): break\n",
    "\n",
    "            # Generate model output\n",
    "            encoder_input = batch['encoder_input'].to(device)\n",
    "            encoder_mask = batch['encoder_mask'].to(device)\n",
    "            model_output = inference_decode(model, encoder_input, encoder_mask, tokenizer_src, tokenizer_tgt, max_len, device)\n",
    "\n",
    "            # Get texts\n",
    "            src_text = batch['src_text']\n",
    "            tgt_text = batch['tgt_text']\n",
    "            pred_text = tokenizer_tgt.decode(model_output.detach().cpu().numpy())\n",
    "\n",
    "            # Add to results array\n",
    "            inputs += src_text\n",
    "            labels += tgt_text\n",
    "            preds.append(pred_text)\n",
    "\n",
    "            # Print to console\n",
    "            if(print_output):\n",
    "                tqdm_print_fn('-'*120)\n",
    "                tqdm_print_fn(f'SOURCE: {src_text}')\n",
    "                tqdm_print_fn(f'TARGET: {tgt_text}')\n",
    "                tqdm_print_fn(f'PREDICTED: {pred_text}')\n",
    "\n",
    "    # Return results\n",
    "    return inputs, labels, preds"
   ]
  },
  {
   "cell_type": "code",
   "execution_count": 38,
   "id": "66e18787-6018-4ff9-a7e0-637820068377",
   "metadata": {},
   "outputs": [],
   "source": [
    "# Generate model and training loop\n",
    "def train_model(config):\n",
    "\n",
    "    # Init device\n",
    "    device = torch.device(\"cuda\" if torch.cuda.is_available() else \"cpu\")\n",
    "    print(f'Using device {device}')\n",
    "\n",
    "    # Create output dirs required\n",
    "    Path(config['model_dir']).mkdir(parents=True, exist_ok=True)\n",
    "\n",
    "    # Load dataset\n",
    "    train_dataloader, val_dataloader, tokenizer_src, tokenizer_tgt = get_dataset(dataset_name, config['lang_src'], config['lang_tgt'], config['tokenizer_file'], config['seq_len'], config['batch_size'])\n",
    "    n_batches = len(train_dataloader)\n",
    "    \n",
    "    # Build model object\n",
    "    model = build_transformer_model(tokenizer_src.get_vocab_size(), tokenizer_tgt.get_vocab_size(), config['seq_len'], config['seq_len'], config['d_model'], dropout=config['dropout'], N=config['N'], d_ff=config['d_ff']).to(device)\n",
    "\n",
    "    # Start tensorboard\n",
    "    # writer = SummaryWriter(f\"{config['experiment_name']}1\")\n",
    "\n",
    "    # Optimizer\n",
    "    optimizer = torch.optim.Adam(model.parameters(), lr=config['learning_rate'], betas=config['betas'], eps=1e-9)\n",
    "\n",
    "    # Init list to store epoch loss data\n",
    "    losses = []\n",
    "\n",
    "    # Prepare to resume training if required\n",
    "    initial_epoch = 0\n",
    "    global_step = 0\n",
    "    if(config['preload']):\n",
    "        model_filename = f\"{Path('.')}/{config['model_dir']}/{config['model_file']}{config['preload']}.pt\"\n",
    "        print(f'Loading model from {model_filename}')\n",
    "        state = torch.load(model_filename)\n",
    "        model.load_state_dict(state['model_state_dict'])\n",
    "        initial_epoch = state['epoch'] + 1\n",
    "        optimizer.load_state_dict(state['optimizer_state_dict'])\n",
    "        global_step = state['global_step']\n",
    "        losses = state['losses']\n",
    "\n",
    "    # Setup loss function\n",
    "    loss_fn = nn.CrossEntropyLoss(ignore_index=tokenizer_src.token_to_id(SPECIAL_TOKENS[PAD_IDX]), label_smoothing=0.1).to(device)\n",
    "\n",
    "    # Training loop\n",
    "    for epoch in range(initial_epoch, config['num_epochs']):\n",
    "\n",
    "        # Store loss data for this epoch\n",
    "        epoch_train_losses = []\n",
    "        epoch_val_loss = None \n",
    "\n",
    "        # Create batch iterator from model iterator and loop batches\n",
    "        batch_iterator = tqdm(train_dataloader, desc=f'Epoch {epoch+1:02d}')\n",
    "        batch_counter = 0\n",
    "        for batch in batch_iterator:\n",
    "            batch_counter += 1\n",
    "\n",
    "            # Set model to train mode\n",
    "            model.train()\n",
    "\n",
    "            # Get data for each batch\n",
    "            encoder_input = batch['encoder_input'].to(device) # (batch_size, seq_len)\n",
    "            decoder_input = batch['decoder_input'].to(device) # (batch_size, seq_len)\n",
    "            encoder_mask = batch['encoder_mask'].to(device) # (batch_size, 1, 1, seq_len)\n",
    "            decoder_mask = batch['decoder_mask'].to(device) # (batch_size, 1, seq_len, seq_len)\n",
    "            label = batch['label'].to(device) # (batch_size, seq_len)\n",
    "\n",
    "            # Run the input through model\n",
    "            encoder_output = model.encode(encoder_input, encoder_mask) # (batch_size, seq_len, d_model)\n",
    "            decoder_output = model.decode(encoder_output, encoder_mask, decoder_input, decoder_mask) # (batch_size, seq_len, d_model)\n",
    "            output = model.project(decoder_output) # (batch_size, seq_len, tgt_vocab_size)\n",
    "\n",
    "            # Compare labels and calculate loss\n",
    "            loss = loss_fn(output.view(-1,tokenizer_tgt.get_vocab_size()), label.view(-1))\n",
    "            epoch_train_losses.append(loss.item())\n",
    "\n",
    "            # Tensorboard\n",
    "            # writer.add_scalar('train loss', loss.item(), global_step)\n",
    "\n",
    "            # Backpropagate\n",
    "            loss.backward()\n",
    "\n",
    "            # Optimizer step\n",
    "            optimizer.step()\n",
    "            optimizer.zero_grad()\n",
    "\n",
    "            # Increment global step\n",
    "            global_step += 1\n",
    "\n",
    "            # Calculate validation if last batch, doing in loop to update val loss in tqdm\n",
    "            if(batch_counter == n_batches):\n",
    "                val_loss = get_val_loss(model, val_dataloader, tokenizer_src, tokenizer_tgt, config['seq_len'], device, loss_fn)\n",
    "                batch_iterator.set_postfix({'train_loss':f'{np.mean(epoch_train_losses):6.3f}', 'val_loss':f'{val_loss.item():6.3f}'})\n",
    "                epoch_val_loss = val_loss.item()\n",
    "            else:\n",
    "                batch_iterator.set_postfix({'loss':f'{loss.item():6.3f}'})\n",
    "\n",
    "        # Run validation\n",
    "        run_validation(model, val_dataloader, tokenizer_src, tokenizer_tgt, config['seq_len'], device, lambda message:batch_iterator.write(message), global_step, None)\n",
    "\n",
    "        # Add loss data to list\n",
    "        losses.append({\n",
    "            'epoch': epoch,\n",
    "            'train_loss': np.mean(epoch_train_losses),\n",
    "            'val_loss': epoch_val_loss\n",
    "        })\n",
    "\n",
    "        # Save model at end of each epoch\n",
    "        model_filename = f\"{Path('.')}/{config['model_dir']}/{config['model_file']}{epoch+1:02d}.pt\"\n",
    "        torch.save({\n",
    "            'epoch':epoch,\n",
    "            'model_state_dict': model.state_dict(),\n",
    "            'optimizer_state_dict': optimizer.state_dict(),\n",
    "            'global_step': global_step,\n",
    "            'losses': losses\n",
    "        }, model_filename)"
   ]
  },
  {
   "cell_type": "code",
   "execution_count": 42,
   "id": "549e04a8-c903-463f-9d7b-5944ed7c48f8",
   "metadata": {},
   "outputs": [
    {
     "data": {
      "text/plain": [
       "torch.Size([32, 100, 1000])"
      ]
     },
     "execution_count": 42,
     "metadata": {},
     "output_type": "execute_result"
    }
   ],
   "source": [
    "torch.rand(32,100,1000).shape"
   ]
  },
  {
   "cell_type": "code",
   "execution_count": 43,
   "id": "4fdee47a-e725-4bd5-a8f3-4bb7959c264d",
   "metadata": {},
   "outputs": [
    {
     "data": {
      "text/plain": [
       "torch.Size([3200, 1000])"
      ]
     },
     "execution_count": 43,
     "metadata": {},
     "output_type": "execute_result"
    }
   ],
   "source": [
    "torch.rand(32,100,1000).view(-1,1000).shape"
   ]
  },
  {
   "cell_type": "code",
   "execution_count": 44,
   "id": "d67fce7c-ea92-4988-8339-fc50f57577ed",
   "metadata": {},
   "outputs": [
    {
     "data": {
      "text/plain": [
       "torch.Size([3200])"
      ]
     },
     "execution_count": 44,
     "metadata": {},
     "output_type": "execute_result"
    }
   ],
   "source": [
    "torch.rand(32,100).view(-1).shape"
   ]
  },
  {
   "cell_type": "markdown",
   "id": "fa4ff002-8131-4f21-8b27-4e8e8c041e87",
   "metadata": {},
   "source": [
    "### Training"
   ]
  },
  {
   "cell_type": "code",
   "execution_count": 45,
   "id": "195b7049-9df2-4e50-99a3-1c3fde7d35ce",
   "metadata": {},
   "outputs": [],
   "source": [
    "# Filter warnings\n",
    "warnings.filterwarnings('ignore')"
   ]
  },
  {
   "cell_type": "markdown",
   "id": "64fe4a89-29c5-475e-b71c-60e9a93823c3",
   "metadata": {},
   "source": [
    "**Model 1 (Default)**:\\\n",
    "d_model=512, d_ff=2048, N=6, dropout=0.1"
   ]
  },
  {
   "cell_type": "code",
   "execution_count": 66,
   "id": "763b305e-a22d-4682-bb37-adc24385f0f2",
   "metadata": {
    "scrolled": true
   },
   "outputs": [
    {
     "name": "stdout",
     "output_type": "stream",
     "text": [
      "Using device cuda\n",
      "Train set size: 29000\n",
      "Validation set size: 1014\n",
      "Max length in source: 41\n",
      "Max length in target: 45\n"
     ]
    },
    {
     "name": "stderr",
     "output_type": "stream",
     "text": [
      "Epoch 01: 100%|██████████| 114/114 [01:13<00:00,  1.54it/s, train_loss=6.147, val_loss=5.108]\n"
     ]
    },
    {
     "name": "stdout",
     "output_type": "stream",
     "text": [
      "------------------------------------------------------------------------------------------------------------------------\n",
      "SOURCE: ['Two dogs playing with a blue and green ball.']\n",
      "TARGET: ['Zwei Hunde spielen mit einem blau-grünen Ball.']\n",
      "PREDICTED: Ein Mann in einem auf einem . . . .\n",
      "------------------------------------------------------------------------------------------------------------------------\n",
      "SOURCE: ['A boy with glasses wearing a bright yellow shirt is standing in a parking lot.']\n",
      "TARGET: ['Ein Junge mit Brille und einem leuchtend gelben T-Shirt steht auf einem Parkplatz.']\n",
      "PREDICTED: Ein Mann in einem mit einem und . . .\n"
     ]
    },
    {
     "name": "stderr",
     "output_type": "stream",
     "text": [
      "Epoch 02: 100%|██████████| 114/114 [01:19<00:00,  1.44it/s, train_loss=4.855, val_loss=4.405]\n"
     ]
    },
    {
     "name": "stdout",
     "output_type": "stream",
     "text": [
      "------------------------------------------------------------------------------------------------------------------------\n",
      "SOURCE: ['A man and a boy are sitting at an altar both are holding bells.']\n",
      "TARGET: ['Ein Mann und ein Junge sitzen an einem Altar und halten beide eine Glocke.']\n",
      "PREDICTED: Ein Mann und ein Mann in einem und ein Mann . . . . . . . . .\n",
      "------------------------------------------------------------------------------------------------------------------------\n",
      "SOURCE: ['Two girls are seated at a table and working on craft projects.']\n",
      "TARGET: ['Zwei Mädchen sitzen an einem Tisch und arbeiten an kunsthandwerklichen Projekten.']\n",
      "PREDICTED: Zwei Männer Mädchen auf einer und ein . . . . . . . . . . . . .\n"
     ]
    },
    {
     "name": "stderr",
     "output_type": "stream",
     "text": [
      "Epoch 03: 100%|██████████| 114/114 [01:16<00:00,  1.49it/s, train_loss=4.364, val_loss=4.049]\n"
     ]
    },
    {
     "name": "stdout",
     "output_type": "stream",
     "text": [
      "------------------------------------------------------------------------------------------------------------------------\n",
      "SOURCE: ['A black poodle plays with another dog in a dry field.']\n",
      "TARGET: ['Ein schwarzer Pudel spielt mit einem anderen Hund auf einem ausgedörrten Feld.']\n",
      "PREDICTED: Ein Hund Hund mit einem Hund mit einem Hund . . . . . . .\n",
      "------------------------------------------------------------------------------------------------------------------------\n",
      "SOURCE: ['A white blond lady wearing a blue bag riding a scooter.']\n",
      "TARGET: ['Eine weißblonde Dame mit einer blauen Tasche fährt auf einem Roller.']\n",
      "PREDICTED: Eine Frau in einem weißen Hemd mit einer Frau . . . . . . . . . .\n"
     ]
    },
    {
     "name": "stderr",
     "output_type": "stream",
     "text": [
      "Epoch 04: 100%|██████████| 114/114 [01:20<00:00,  1.42it/s, train_loss=4.044, val_loss=3.752]\n"
     ]
    },
    {
     "name": "stdout",
     "output_type": "stream",
     "text": [
      "------------------------------------------------------------------------------------------------------------------------\n",
      "SOURCE: [\"A bearded bald man in a tan striped shirt rests his head on another man's arm.\"]\n",
      "TARGET: ['Ein glatzköpfiger Mann mit Bart in einem hellbraun gestreiften Hemd lehnt seinen Kopf an den Arm eines anderen Mannes.']\n",
      "PREDICTED: Ein Mann in einem Mann mit einem Mann auf dem Mann auf dem Mann auf dem Fahrrad . . . . . . . . . . Mann .\n",
      "------------------------------------------------------------------------------------------------------------------------\n",
      "SOURCE: ['Women in beach bikinis play volleyball in the sunny weather.']\n",
      "TARGET: ['Frauen in Strandbikinis spielen Volleyball bei sonnigem Wetter.']\n",
      "PREDICTED: Frauen Frauen in spielen im Strand . . . . .\n"
     ]
    },
    {
     "name": "stderr",
     "output_type": "stream",
     "text": [
      "Epoch 05: 100%|██████████| 114/114 [01:22<00:00,  1.39it/s, train_loss=3.770, val_loss=3.521]\n"
     ]
    },
    {
     "name": "stdout",
     "output_type": "stream",
     "text": [
      "------------------------------------------------------------------------------------------------------------------------\n",
      "SOURCE: ['A man in an apron standing in front of food beneath a menu.']\n",
      "TARGET: ['Ein Mann mit einer Schürze steht vor Esswaren, die sich unter einer Speisekarte befinden.']\n",
      "PREDICTED: Ein Mann in steht vor einer steht vor einem . . . . . . . . . . . . . . .\n",
      "------------------------------------------------------------------------------------------------------------------------\n",
      "SOURCE: ['A toddler in a denim hats plays in a tire.']\n",
      "TARGET: ['Ein kleines Kind mit Jeanshut spielt in einem Reifen.']\n",
      "PREDICTED: Ein Kind mit spielt in einem . . . . . . . . . . . . . . .\n"
     ]
    },
    {
     "name": "stderr",
     "output_type": "stream",
     "text": [
      "Epoch 06: 100%|██████████| 114/114 [01:22<00:00,  1.38it/s, train_loss=3.545, val_loss=3.351]\n"
     ]
    },
    {
     "name": "stdout",
     "output_type": "stream",
     "text": [
      "------------------------------------------------------------------------------------------------------------------------\n",
      "SOURCE: ['A snowboarder is jumping in the air next to the ski lift.']\n",
      "TARGET: ['Ein Snowboarder springt neben dem Skilift in die Luft.']\n",
      "PREDICTED: Ein Snowboarder springt springt in die neben der . . . . . . . . . . . . . . .\n",
      "------------------------------------------------------------------------------------------------------------------------\n",
      "SOURCE: ['Man on phone in business suit walking down a busy street.']\n",
      "TARGET: ['Telefonierender Mann in einem Geschäftsanzug geht eine belebte Straße entlang.']\n",
      "PREDICTED: Ein Mann auf Mann in einem Mann geht Straße entlang . entlang . . . . . . . . . . . . . .\n"
     ]
    },
    {
     "name": "stderr",
     "output_type": "stream",
     "text": [
      "Epoch 07: 100%|██████████| 114/114 [01:19<00:00,  1.43it/s, train_loss=3.355, val_loss=3.218]\n"
     ]
    },
    {
     "name": "stdout",
     "output_type": "stream",
     "text": [
      "------------------------------------------------------------------------------------------------------------------------\n",
      "SOURCE: ['This is some sort of band or symphony practicing.']\n",
      "TARGET: ['Das ist eine Art Band oder Orchester beim Üben.']\n",
      "PREDICTED: Ein Mann . . . . . . . . . . . . . . . . . . . .\n",
      "------------------------------------------------------------------------------------------------------------------------\n",
      "SOURCE: ['Many of the chairs are empty with only a few people enjoying the sun.']\n",
      "TARGET: ['Viele Stühle sind leer und nur einige wenige Menschen genießen die Sonne.']\n",
      "PREDICTED: Viele Leute auf fahren mit mit einer Straße . . . . . . . . . . . . .\n"
     ]
    },
    {
     "name": "stderr",
     "output_type": "stream",
     "text": [
      "Epoch 08: 100%|██████████| 114/114 [01:20<00:00,  1.42it/s, train_loss=3.193, val_loss=3.102]\n"
     ]
    },
    {
     "name": "stdout",
     "output_type": "stream",
     "text": [
      "------------------------------------------------------------------------------------------------------------------------\n",
      "SOURCE: ['A woman in a domino mask and severe hair is at a party.']\n",
      "TARGET: ['Eine Frau mit einer Domino-Maske und streng frisiertem Haar auf einer Party.']\n",
      "PREDICTED: Eine Frau mit einer und . . . . . . . . . . . . . . . . . . .\n",
      "------------------------------------------------------------------------------------------------------------------------\n",
      "SOURCE: ['A young dirty faced asian girl carrying a pillow.']\n",
      "TARGET: ['Ein kleines asiatisches Mädchen mit schmutzigem Gesicht trägt ein Kissen.']\n",
      "PREDICTED: Ein junger junger Mann , kleines Mädchen , das kleines Mädchen . . . . . . . . . . . .\n"
     ]
    },
    {
     "name": "stderr",
     "output_type": "stream",
     "text": [
      "Epoch 09: 100%|██████████| 114/114 [01:19<00:00,  1.44it/s, train_loss=3.049, val_loss=2.997]\n"
     ]
    },
    {
     "name": "stdout",
     "output_type": "stream",
     "text": [
      "------------------------------------------------------------------------------------------------------------------------\n",
      "SOURCE: ['A bicyclist is doing a trick in midair.']\n",
      "TARGET: ['Ein Radfahrer vollführt ein Kunststück in der Luft.']\n",
      "PREDICTED: Ein Radfahrer Radfahrer macht einen Trick in der Luft . . . . . . . . . . . . .\n",
      "------------------------------------------------------------------------------------------------------------------------\n",
      "SOURCE: [\"A man with a disability who doesn't have legs is walking with another man who is entered into a marathon.\"]\n",
      "TARGET: ['Ein Mann mit einer Behinderung, der keine Beine hat, geht neben einem anderen Mann, der zu einem Marathon angemeldet ist.']\n",
      "PREDICTED: Ein Mann mit einem , der anderen Mann , die andere Mann mit einem anderen Mann ist ein anderer Mann . . . . . . . . . . . . einen anderen Mann\n"
     ]
    },
    {
     "name": "stderr",
     "output_type": "stream",
     "text": [
      "Epoch 10: 100%|██████████| 114/114 [01:16<00:00,  1.49it/s, train_loss=2.922, val_loss=2.921]\n"
     ]
    },
    {
     "name": "stdout",
     "output_type": "stream",
     "text": [
      "------------------------------------------------------------------------------------------------------------------------\n",
      "SOURCE: ['Two men are observing another as he puts the finishing touches on wet cement.']\n",
      "TARGET: ['Zwei Männer beobachten einen anderen, während dieser am nassen Zement letzte Hand anlegt.']\n",
      "PREDICTED: Zwei Männer schauen zu , während ein anderer sieht zu . . . . . . . . . . . . . . . . .\n",
      "------------------------------------------------------------------------------------------------------------------------\n",
      "SOURCE: ['A rickshaw operator waiting for his next costumer.']\n",
      "TARGET: ['Ein Rikschabetreiber wartet auf seinen nächsten Kunden.']\n",
      "PREDICTED: Eine wartet auf der . . . . . . . . . . . . . . . . .\n"
     ]
    },
    {
     "name": "stderr",
     "output_type": "stream",
     "text": [
      "Epoch 11: 100%|██████████| 114/114 [01:17<00:00,  1.47it/s, train_loss=2.807, val_loss=2.845]\n"
     ]
    },
    {
     "name": "stdout",
     "output_type": "stream",
     "text": [
      "------------------------------------------------------------------------------------------------------------------------\n",
      "SOURCE: ['Man with Mardi Gras Beads around his neck holding pole with banner']\n",
      "TARGET: ['Mann mit Mardi-Gras-Perlen um den Hals trägt Stange mit Banner']\n",
      "PREDICTED: Ein Mann mit um den Kopf - mit der Hand hält eine . . . . . . . . .\n",
      "------------------------------------------------------------------------------------------------------------------------\n",
      "SOURCE: ['4 people trying to fix a bike on a park']\n",
      "TARGET: ['Vier Menschen versuchen in einem Park, ein Fahrrad zu reparieren']\n",
      "PREDICTED: Vier Personen versuchen zu zu einem Fahrrad zu fahren . .\n"
     ]
    },
    {
     "name": "stderr",
     "output_type": "stream",
     "text": [
      "Epoch 12: 100%|██████████| 114/114 [01:17<00:00,  1.47it/s, train_loss=2.705, val_loss=2.786]\n"
     ]
    },
    {
     "name": "stdout",
     "output_type": "stream",
     "text": [
      "------------------------------------------------------------------------------------------------------------------------\n",
      "SOURCE: ['Two construction workers assist in the loading of a dump truck at an urban construction site.']\n",
      "TARGET: ['Zwei Bauarbeiter helfen beim Beladen eines Kippers auf einer innerstädtischen Baustelle.']\n",
      "PREDICTED: Zwei Bauarbeiter bei der eines auf einer Baustelle . . . . . . . . . . . . . . . .\n",
      "------------------------------------------------------------------------------------------------------------------------\n",
      "SOURCE: ['Scene of a person shoveling snow citizens walking around in a cold winter environment']\n",
      "TARGET: ['Szene eines Mannes beim Schneeschippen, Bürger, die in einer kalten, winterlichen Umgebung herumlaufen']\n",
      "PREDICTED: Eine Person , die durch den Schnee geht in einer . . . . . . . . . . . .\n"
     ]
    },
    {
     "name": "stderr",
     "output_type": "stream",
     "text": [
      "Epoch 13: 100%|██████████| 114/114 [01:20<00:00,  1.42it/s, train_loss=2.612, val_loss=2.741]\n"
     ]
    },
    {
     "name": "stdout",
     "output_type": "stream",
     "text": [
      "------------------------------------------------------------------------------------------------------------------------\n",
      "SOURCE: ['A group of young Asian men walking in a marathon.']\n",
      "TARGET: ['Eine Gruppe junger asiatischer Männer läuft bei einem Marathon.']\n",
      "PREDICTED: Eine Gruppe von junge asiatische Männer gehen an einem Marathon . . . . . . . . . . . . . . . .\n",
      "------------------------------------------------------------------------------------------------------------------------\n",
      "SOURCE: ['Two people stand in front of a building.']\n",
      "TARGET: ['Zwei Menschen stehen vor einem Gebäude.']\n",
      "PREDICTED: Zwei Personen stehen vor einem Gebäude . . . . . . . . . .\n"
     ]
    },
    {
     "name": "stderr",
     "output_type": "stream",
     "text": [
      "Epoch 14: 100%|██████████| 114/114 [01:19<00:00,  1.43it/s, train_loss=2.530, val_loss=2.711]\n"
     ]
    },
    {
     "name": "stdout",
     "output_type": "stream",
     "text": [
      "------------------------------------------------------------------------------------------------------------------------\n",
      "SOURCE: ['Two young Asian boys spar with each other.']\n",
      "TARGET: ['Zwei kleine asiatische Jungen streiten miteinander.']\n",
      "PREDICTED: Zwei kleine Jungen Jungen miteinander . . . . .\n",
      "------------------------------------------------------------------------------------------------------------------------\n",
      "SOURCE: ['A balding man in red sunglasses wearing a green shirt standing in front of a building.']\n",
      "TARGET: ['Ein Mann mit beginnender Glatze und roter Sonnenbrille in einem grünen Hemd steht vor einem Gebäude.']\n",
      "PREDICTED: Ein Mann mit Mann mit Sonnenbrille und mit Sonnenbrille in einer grünen Hemd steht vor einem Gebäude . . . . . . . . . . . .\n"
     ]
    },
    {
     "name": "stderr",
     "output_type": "stream",
     "text": [
      "Epoch 15: 100%|██████████| 114/114 [01:18<00:00,  1.45it/s, train_loss=2.456, val_loss=2.671]\n"
     ]
    },
    {
     "name": "stdout",
     "output_type": "stream",
     "text": [
      "------------------------------------------------------------------------------------------------------------------------\n",
      "SOURCE: ['A mother in a blue beret and blue shoes with her two sons.']\n",
      "TARGET: ['Eine Mutter mit einer blauen Baskenmütze und blauen Schuhen und ihren zwei Söhnen.']\n",
      "PREDICTED: Eine Mutter mit blauem blauen und blauen Schuhen mit zwei Polizisten auf zwei Kinder . . . . . . . . . . . . . . . .\n",
      "------------------------------------------------------------------------------------------------------------------------\n",
      "SOURCE: ['A singer doing a stage dive into the crowd.']\n",
      "TARGET: ['Ein Sänger beim Stagediving in der Menschenmenge.']\n",
      "PREDICTED: Ein Sänger Sänger auf einer Bühne in die Band . . . . . . . . . . . . . . . .\n"
     ]
    },
    {
     "name": "stderr",
     "output_type": "stream",
     "text": [
      "Epoch 16: 100%|██████████| 114/114 [01:18<00:00,  1.45it/s, train_loss=2.389, val_loss=2.639]\n"
     ]
    },
    {
     "name": "stdout",
     "output_type": "stream",
     "text": [
      "------------------------------------------------------------------------------------------------------------------------\n",
      "SOURCE: ['People walk on a metropolitan sidewalk in front of a bar and grill.']\n",
      "TARGET: ['Menschen gehen vor einer Imbissbar auf einem Gehweg in einer Großstadt.']\n",
      "PREDICTED: Leute gehen durch eine Person durch vor einer Bar und einem Grill . . . . . . . . . . . .\n",
      "------------------------------------------------------------------------------------------------------------------------\n",
      "SOURCE: ['Two men sitting outside having a conversation by a Free Advice sign.']\n",
      "TARGET: ['Zwei Männer sitzen im Freien und unterhalten sich neben einem Schild für kostenlose Beratung.']\n",
      "PREDICTED: Zwei Männer sitzen draußen unterhalten sich neben einem Schild mit einem Schild mit . . . . . . . . . . . . . .\n"
     ]
    },
    {
     "name": "stderr",
     "output_type": "stream",
     "text": [
      "Epoch 17: 100%|██████████| 114/114 [01:16<00:00,  1.50it/s, train_loss=2.326, val_loss=2.640]\n"
     ]
    },
    {
     "name": "stdout",
     "output_type": "stream",
     "text": [
      "------------------------------------------------------------------------------------------------------------------------\n",
      "SOURCE: ['Two men in the military are playing baseball.']\n",
      "TARGET: ['Zwei Männer beim Militär spielen Baseball.']\n",
      "PREDICTED: Zwei Männer in der Soldaten spielen Baseball . . . . . . . . . . . . . . .\n",
      "------------------------------------------------------------------------------------------------------------------------\n",
      "SOURCE: ['People are dancing and clapping there hands.']\n",
      "TARGET: ['Menschen tanzen und klatschen in die Hände.']\n",
      "PREDICTED: Leute tanzen und tanzen . . . . . . . . . . . . . . . . . .\n"
     ]
    },
    {
     "name": "stderr",
     "output_type": "stream",
     "text": [
      "Epoch 18: 100%|██████████| 114/114 [01:18<00:00,  1.45it/s, train_loss=2.267, val_loss=2.616]\n"
     ]
    },
    {
     "name": "stdout",
     "output_type": "stream",
     "text": [
      "------------------------------------------------------------------------------------------------------------------------\n",
      "SOURCE: ['Two people stand in front of a building.']\n",
      "TARGET: ['Zwei Menschen stehen vor einem Gebäude.']\n",
      "PREDICTED: Zwei Personen stehen vor einem Gebäude . . . . . . . . .\n",
      "------------------------------------------------------------------------------------------------------------------------\n",
      "SOURCE: ['A little girl stands in a puddle outside.']\n",
      "TARGET: ['Ein kleines Mädchen steht draußen in einer Pfütze.']\n",
      "PREDICTED: Ein kleines Mädchen steht in einer Pfütze im Freien . . . . . . . . .\n"
     ]
    },
    {
     "name": "stderr",
     "output_type": "stream",
     "text": [
      "Epoch 19: 100%|██████████| 114/114 [01:16<00:00,  1.49it/s, train_loss=2.215, val_loss=2.604]\n"
     ]
    },
    {
     "name": "stdout",
     "output_type": "stream",
     "text": [
      "------------------------------------------------------------------------------------------------------------------------\n",
      "SOURCE: ['A chef working in a kitchen using a knife.']\n",
      "TARGET: ['Ein Koch arbeitet in einer Küche mit einem Messer.']\n",
      "PREDICTED: Ein Koch arbeitet in einer Küche benutzt ein Messer . . . . . . . . . . . . . . . . . . . .\n",
      "------------------------------------------------------------------------------------------------------------------------\n",
      "SOURCE: [\"A man in a sleek white shirt gazes into the woman's eyes while holding on to the back of her black and pink dress.\"]\n",
      "TARGET: ['Ein Mann in einem schnittigen weißen Hemd blickt der Frau in die Augen, während er sie am Rücken ihres schwarz-pinken Kleides hält.']\n",
      "PREDICTED: Ein Mann in einem weißen Hemd blickt in die Frau blickt auf den Arm und mit einem rosa und schwarzen Kleid an . . . . . . . . . . . sich in einem rosa\n"
     ]
    },
    {
     "name": "stderr",
     "output_type": "stream",
     "text": [
      "Epoch 20: 100%|██████████| 114/114 [01:15<00:00,  1.51it/s, train_loss=2.166, val_loss=2.587]\n"
     ]
    },
    {
     "name": "stdout",
     "output_type": "stream",
     "text": [
      "------------------------------------------------------------------------------------------------------------------------\n",
      "SOURCE: ['A girl leads her dog over a hurdle.']\n",
      "TARGET: ['Ein Mädchen führt seinen Hund über eine Hürde.']\n",
      "PREDICTED: Ein Mädchen führt vor ihrem Hund über eine Hürde . . . . . . . . . . . .\n",
      "------------------------------------------------------------------------------------------------------------------------\n",
      "SOURCE: ['Three young children stand around a blue and white barrel.']\n",
      "TARGET: ['Drei kleine Kinder stehen um ein blau-weißes Fass herum.']\n",
      "PREDICTED: Drei Kinder Kinder stehen um einen blau - weiße herum . . . . . . . . . . .\n"
     ]
    }
   ],
   "source": [
    "# Train\n",
    "config = get_training_config()\n",
    "train_model(config)"
   ]
  },
  {
   "cell_type": "code",
   "execution_count": 44,
   "id": "7287a234-1b71-44c1-b2dd-a9f4ee92d992",
   "metadata": {
    "scrolled": true
   },
   "outputs": [
    {
     "name": "stdout",
     "output_type": "stream",
     "text": [
      "Using device cuda\n",
      "Train set size: 29000\n",
      "Validation set size: 1014\n",
      "Max length in source: 41\n",
      "Max length in target: 45\n",
      "Loading model from ./weights/tf_model_20.pt\n"
     ]
    },
    {
     "name": "stderr",
     "output_type": "stream",
     "text": [
      "Epoch 21: 100%|██████████| 121/121 [01:18<00:00,  1.55it/s, train_loss=2.123, val_loss=2.588]\n"
     ]
    },
    {
     "name": "stdout",
     "output_type": "stream",
     "text": [
      "------------------------------------------------------------------------------------------------------------------------\n",
      "SOURCE: ['A man in a gray hat and tank top with black shorts doing a handstand.']\n",
      "TARGET: ['Ein Mann mit einer grauen Mütze, Trägershirt und schwarzen Shorts macht einen Handstand.']\n",
      "PREDICTED: Ein Mann mit grauem Hut und Trägerhemd und schwarzen Shorts macht einen Handstand macht Handstand . . . . . . . . . . . . .\n",
      "------------------------------------------------------------------------------------------------------------------------\n",
      "SOURCE: ['A black dog swimming in the water with a tennis ball in his mouth']\n",
      "TARGET: ['Ein schwarzer Hund schwimmt mit einem Tennisball im Maul im Wasser']\n",
      "PREDICTED: Ein schwarzer Hund schwimmt im Wasser mit einem Tennisball im Maul . . . . . . . . . . . . . . .\n"
     ]
    },
    {
     "name": "stderr",
     "output_type": "stream",
     "text": [
      "Epoch 22: 100%|██████████| 121/121 [01:18<00:00,  1.54it/s, train_loss=2.079, val_loss=2.577]\n"
     ]
    },
    {
     "name": "stdout",
     "output_type": "stream",
     "text": [
      "------------------------------------------------------------------------------------------------------------------------\n",
      "SOURCE: ['A man in a blue shirt blowing a trumpet.']\n",
      "TARGET: ['Ein Mann in einem blauen Hemd bläst auf einer Trompete.']\n",
      "PREDICTED: Ein Mann in blauem Hemd bläst Trompete Trompete . . . . . . . . . . . . . . . . . . .\n",
      "------------------------------------------------------------------------------------------------------------------------\n",
      "SOURCE: ['An ATV attempts to get out of a ditch.']\n",
      "TARGET: ['Ein Geländewagen versucht, aus einem Graben herauszukommen.']\n",
      "PREDICTED: Ein Läufer versucht zu . . . . . . . . . . .\n"
     ]
    },
    {
     "name": "stderr",
     "output_type": "stream",
     "text": [
      "Epoch 23: 100%|██████████| 121/121 [01:18<00:00,  1.55it/s, train_loss=2.037, val_loss=2.579]\n"
     ]
    },
    {
     "name": "stdout",
     "output_type": "stream",
     "text": [
      "------------------------------------------------------------------------------------------------------------------------\n",
      "SOURCE: ['People play in a fountain at twilight.']\n",
      "TARGET: ['Menschen spielen in der Dämmerung in einem Springbrunnen.']\n",
      "PREDICTED: Menschen spielen in einem Brunnen in der Nacht . . . . . . . . . . . . . . . . . .\n",
      "------------------------------------------------------------------------------------------------------------------------\n",
      "SOURCE: ['A white dog with brown marks jumps from the bank into the water.']\n",
      "TARGET: ['Ein weißer Hund mit braunen Flecken springt vom Ufer aus in das Wasser.']\n",
      "PREDICTED: Ein weißer Hund mit braunen springt ins Wasser . . . . . . . . . . . . .\n"
     ]
    },
    {
     "name": "stderr",
     "output_type": "stream",
     "text": [
      "Epoch 24: 100%|██████████| 121/121 [01:15<00:00,  1.60it/s, train_loss=1.997, val_loss=2.577]\n"
     ]
    },
    {
     "name": "stdout",
     "output_type": "stream",
     "text": [
      "------------------------------------------------------------------------------------------------------------------------\n",
      "SOURCE: ['A boy prepares to kick a goal shot']\n",
      "TARGET: ['Ein Junge setzt zu einem Torschuss an']\n",
      "PREDICTED: Ein Junge bereitet darauf vor . . . . . . . . . . . . . .\n",
      "------------------------------------------------------------------------------------------------------------------------\n",
      "SOURCE: ['A foreign woman is sitting with a lot of colorful fabric.']\n",
      "TARGET: ['Da sitzt eine ausländische Frau mit sehr viel buntem Stoff.']\n",
      "PREDICTED: Eine Frau , die Frau sitzt mit vielen bunten Stoff . . . . . . . . . . . . . . . . . . .\n"
     ]
    },
    {
     "name": "stderr",
     "output_type": "stream",
     "text": [
      "Epoch 25: 100%|██████████| 121/121 [01:13<00:00,  1.65it/s, train_loss=1.959, val_loss=2.577]\n"
     ]
    },
    {
     "name": "stdout",
     "output_type": "stream",
     "text": [
      "------------------------------------------------------------------------------------------------------------------------\n",
      "SOURCE: ['Two men talk to each other behind an organ while a lone woman stands to their right.']\n",
      "TARGET: ['Zwei Männer unterhalten sich hinter einer Orgel, während rechts eine einzelne Frau steht.']\n",
      "PREDICTED: Zwei Männer unterhalten sich hinter einer , während eine Frau steht hinter ihr nach rechts . . . . . . . . . . . .\n",
      "------------------------------------------------------------------------------------------------------------------------\n",
      "SOURCE: ['A large group of people watching a performer on a stage.']\n",
      "TARGET: ['Eine große Gruppe von Menschen sieht einem Künstler auf einer Bühne zu.']\n",
      "PREDICTED: Eine große Gruppe Leute zu sehen zu einem Straßenkünstler zu . . . . . . . . . . . . . . . . . . .\n"
     ]
    },
    {
     "name": "stderr",
     "output_type": "stream",
     "text": [
      "Epoch 26: 100%|██████████| 121/121 [01:19<00:00,  1.53it/s, train_loss=1.925, val_loss=2.590]\n"
     ]
    },
    {
     "name": "stdout",
     "output_type": "stream",
     "text": [
      "------------------------------------------------------------------------------------------------------------------------\n",
      "SOURCE: ['Photographers at a site making a documentary.']\n",
      "TARGET: ['Fotografen machen eine Dokumentation an einem Veranstaltungsort.']\n",
      "PREDICTED: Fotografen auf einer Baustelle . . . . . . . . . . . . . . .\n",
      "------------------------------------------------------------------------------------------------------------------------\n",
      "SOURCE: ['A brunet male in a brown blazer talking to an audience at a comedian show.']\n",
      "TARGET: ['Ein braunhaariger Mann in einem braunen Blazer spricht vor Publikum bei einer Comedy-Show.']\n",
      "PREDICTED: Ein Mann in brauner spricht vor einer . . . . . . . . . . . . . . . .\n"
     ]
    },
    {
     "name": "stderr",
     "output_type": "stream",
     "text": [
      "Epoch 27: 100%|██████████| 121/121 [01:18<00:00,  1.54it/s, train_loss=1.892, val_loss=2.581]\n"
     ]
    },
    {
     "name": "stdout",
     "output_type": "stream",
     "text": [
      "------------------------------------------------------------------------------------------------------------------------\n",
      "SOURCE: ['A woman in a white shirt and black pants hula hoops as a large group of people look on.']\n",
      "TARGET: ['Eine Frau in einem weißen T-Shirt und schwarzen Hosen tanzt Hula-Hoop, während ihr eine große Gruppe von Menschen zusieht.']\n",
      "PREDICTED: Eine Frau in einer weißen Hemd und schwarzen Hosen Hula - Hosen mit Personen schaut zu . Personen . . . . . . . . . . . . . .\n",
      "------------------------------------------------------------------------------------------------------------------------\n",
      "SOURCE: ['A man in blue and red face paint poses for a picture with a woman.']\n",
      "TARGET: ['Ein Mann mit blau-rot geschminktem Gesicht posiert mit einer Frau für ein Foto.']\n",
      "PREDICTED: Ein Mann in blau und roter Gesichtsbemalung für ein Foto mit einer Frau posiert für eine Frau . . . . . . . . . . . . . . . .\n"
     ]
    },
    {
     "name": "stderr",
     "output_type": "stream",
     "text": [
      "Epoch 28: 100%|██████████| 121/121 [01:19<00:00,  1.52it/s, train_loss=1.862, val_loss=2.603]\n"
     ]
    },
    {
     "name": "stdout",
     "output_type": "stream",
     "text": [
      "------------------------------------------------------------------------------------------------------------------------\n",
      "SOURCE: ['A man with sunglasses is helping a child with sunglasses slide down a slide.']\n",
      "TARGET: ['Ein Mann mit Sonnenbrille hilft einem Kind mit Sonnenbrille eine Rutsche herunterzurutschen.']\n",
      "PREDICTED: Ein Mann mit Sonnenbrille hilft einem Kind zu Kind mit einer Rutsche herunter . . . . . . . . . . .\n",
      "------------------------------------------------------------------------------------------------------------------------\n",
      "SOURCE: ['A man wearing a black t-shirt is playing seven string bass a stage.']\n",
      "TARGET: ['Ein Mann in einem schwarzen T-Shirt spielt einen siebensaitigen Bass auf einer Bühne.']\n",
      "PREDICTED: Ein Mann in schwarzem T - T - Shirt spielt an der Bühne mit . . . . . . . . . . . . . .\n"
     ]
    },
    {
     "name": "stderr",
     "output_type": "stream",
     "text": [
      "Epoch 29: 100%|██████████| 121/121 [01:18<00:00,  1.55it/s, train_loss=1.831, val_loss=2.604]\n"
     ]
    },
    {
     "name": "stdout",
     "output_type": "stream",
     "text": [
      "------------------------------------------------------------------------------------------------------------------------\n",
      "SOURCE: ['A dog treads through a shallow area of water located on a rocky mountainside.']\n",
      "TARGET: ['Ein Hund geht durch eine seichte Wasseransammlung, die sich an einem felsigen Berghang befindet.']\n",
      "PREDICTED: Ein Hund durch eine Wasser an einem felsigen Gegend . . . . . . . . . .\n",
      "------------------------------------------------------------------------------------------------------------------------\n",
      "SOURCE: ['Woman with a white shirt and banks lounging on a couch inside of a house.']\n",
      "TARGET: ['Frau in einem weißen T-Shirt und Hosen entspannt sich auf einem Sofa in einem Haus.']\n",
      "PREDICTED: Eine Frau in weißem Hemd und auf einer Couch sitzt auf einem Haus . . . . . . . . . . .\n"
     ]
    },
    {
     "name": "stderr",
     "output_type": "stream",
     "text": [
      "Epoch 30: 100%|██████████| 121/121 [01:19<00:00,  1.52it/s, train_loss=1.806, val_loss=2.602]\n"
     ]
    },
    {
     "name": "stdout",
     "output_type": "stream",
     "text": [
      "------------------------------------------------------------------------------------------------------------------------\n",
      "SOURCE: [\"Two men wearing sombrero's in New York City.\"]\n",
      "TARGET: ['Zwei Männer tragen Sombreros in New York City.']\n",
      "PREDICTED: Zwei Männer mit Sombrero in New New York City . . . . . . . . . . . . .\n",
      "------------------------------------------------------------------------------------------------------------------------\n",
      "SOURCE: ['Two man are paddling a kayak along a river with green trees on either side.']\n",
      "TARGET: ['Zwei Männer paddeln in einem Kajak einen Fluss mit grünen Bäumen auf beiden Seiten entlang.']\n",
      "PREDICTED: Zwei Mann paddelt Kajak paddeln an einem Kajak entlang , auf grünen Bäumen . . . . . . . . .\n"
     ]
    }
   ],
   "source": [
    "# Train 10 more epochs\n",
    "config = get_training_config()\n",
    "config['num_epochs'] = 30\n",
    "config['preload'] = 20\n",
    "train_model(config)"
   ]
  },
  {
   "cell_type": "code",
   "execution_count": 9,
   "id": "6d8d62e2-6d36-4151-a1d2-f920c8b48020",
   "metadata": {},
   "outputs": [
    {
     "data": {
      "text/plain": [
       "<matplotlib.legend.Legend at 0x7fc978fd09d0>"
      ]
     },
     "execution_count": 9,
     "metadata": {},
     "output_type": "execute_result"
    },
    {
     "data": {
      "image/png": "[encoded data removed]",
      "text/plain": [
       "<Figure size 640x480 with 1 Axes>"
      ]
     },
     "metadata": {},
     "output_type": "display_data"
    }
   ],
   "source": [
    "# Plot loss curves\n",
    "model_state = torch.load('./weights/tf_model_30.pt')\n",
    "loss_df = pd.DataFrame(model_state['losses'])\n",
    "plt.plot(loss_df['epoch']+1, loss_df['train_loss'])\n",
    "plt.plot(loss_df['epoch']+1, loss_df['val_loss'])\n",
    "plt.xlabel('Epoch')\n",
    "plt.ylabel('Loss')\n",
    "plt.legend([\"Training\", \"Validation\"], loc=\"upper right\")"
   ]
  },
  {
   "cell_type": "markdown",
   "id": "2228cefc-432a-401d-8096-41664019adc5",
   "metadata": {},
   "source": [
    "**Model 2**:\\\n",
    "d_model=512, d_ff=2048, N=3, dropout=0.1"
   ]
  },
  {
   "cell_type": "code",
   "execution_count": 51,
   "id": "71aa193a-5f4f-42c5-b940-7f7d0b55a9b5",
   "metadata": {
    "scrolled": true
   },
   "outputs": [
    {
     "name": "stdout",
     "output_type": "stream",
     "text": [
      "Using device cuda\n"
     ]
    },
    {
     "data": {
      "application/vnd.jupyter.widget-view+json": {
       "model_id": "9335afa6e8e7450ea4c764c37bdeb915",
       "version_major": 2,
       "version_minor": 0
      },
      "text/plain": [
       "Downloading readme:   0%|          | 0.00/1.15k [00:00<?, ?B/s]"
      ]
     },
     "metadata": {},
     "output_type": "display_data"
    },
    {
     "data": {
      "application/vnd.jupyter.widget-view+json": {
       "model_id": "d3950e88363e431587a0c89316a09bd0",
       "version_major": 2,
       "version_minor": 0
      },
      "text/plain": [
       "Downloading data:   0%|          | 0.00/4.60M [00:00<?, ?B/s]"
      ]
     },
     "metadata": {},
     "output_type": "display_data"
    },
    {
     "data": {
      "application/vnd.jupyter.widget-view+json": {
       "model_id": "701ac5b312bf40dfb1ccb8578400154f",
       "version_major": 2,
       "version_minor": 0
      },
      "text/plain": [
       "Downloading data:   0%|          | 0.00/164k [00:00<?, ?B/s]"
      ]
     },
     "metadata": {},
     "output_type": "display_data"
    },
    {
     "data": {
      "application/vnd.jupyter.widget-view+json": {
       "model_id": "5669b72ad10b4fdb952cf4513e5a4e2f",
       "version_major": 2,
       "version_minor": 0
      },
      "text/plain": [
       "Downloading data:   0%|          | 0.00/156k [00:00<?, ?B/s]"
      ]
     },
     "metadata": {},
     "output_type": "display_data"
    },
    {
     "data": {
      "application/vnd.jupyter.widget-view+json": {
       "model_id": "9401f180a94749e9a8fe82087ee11ef8",
       "version_major": 2,
       "version_minor": 0
      },
      "text/plain": [
       "Generating train split:   0%|          | 0/29000 [00:00<?, ? examples/s]"
      ]
     },
     "metadata": {},
     "output_type": "display_data"
    },
    {
     "data": {
      "application/vnd.jupyter.widget-view+json": {
       "model_id": "00c372741868450aae5568e81ab578e2",
       "version_major": 2,
       "version_minor": 0
      },
      "text/plain": [
       "Generating validation split:   0%|          | 0/1014 [00:00<?, ? examples/s]"
      ]
     },
     "metadata": {},
     "output_type": "display_data"
    },
    {
     "data": {
      "application/vnd.jupyter.widget-view+json": {
       "model_id": "2c4ab6a5851147c080aa69501184ff56",
       "version_major": 2,
       "version_minor": 0
      },
      "text/plain": [
       "Generating test split:   0%|          | 0/1000 [00:00<?, ? examples/s]"
      ]
     },
     "metadata": {},
     "output_type": "display_data"
    },
    {
     "data": {
      "application/vnd.jupyter.widget-view+json": {
       "model_id": "50a80e8ef1234231b8fdc61921a364da",
       "version_major": 2,
       "version_minor": 0
      },
      "text/plain": [
       "Filter:   0%|          | 0/29000 [00:00<?, ? examples/s]"
      ]
     },
     "metadata": {},
     "output_type": "display_data"
    },
    {
     "data": {
      "application/vnd.jupyter.widget-view+json": {
       "model_id": "bddea82b2bdf47f0af357326310eb054",
       "version_major": 2,
       "version_minor": 0
      },
      "text/plain": [
       "Filter:   0%|          | 0/1014 [00:00<?, ? examples/s]"
      ]
     },
     "metadata": {},
     "output_type": "display_data"
    },
    {
     "name": "stdout",
     "output_type": "stream",
     "text": [
      "Train set size: 29000\n",
      "Validation set size: 1014\n",
      "Max length in source: 41\n",
      "Max length in target: 45\n"
     ]
    },
    {
     "name": "stderr",
     "output_type": "stream",
     "text": [
      "Epoch 01: 100%|██████████| 76/76 [00:38<00:00,  1.97it/s, train_loss=6.550, val_loss=5.375]\n"
     ]
    },
    {
     "name": "stdout",
     "output_type": "stream",
     "text": [
      "------------------------------------------------------------------------------------------------------------------------\n",
      "SOURCE: ['Children are staring out the window of a blue building with red shutters.']\n",
      "TARGET: ['Kinder starren aus dem Fenster eines blauen Gebäudes mit roten Fensterläden.']\n",
      "PREDICTED: Ein Mann in einem .\n",
      "------------------------------------------------------------------------------------------------------------------------\n",
      "SOURCE: ['A little girl peering over a blue wall.']\n",
      "TARGET: ['Ein kleines Mädchen späht über eine blaue Mauer.']\n",
      "PREDICTED: Ein Mann in einem . .\n"
     ]
    },
    {
     "name": "stderr",
     "output_type": "stream",
     "text": [
      "Epoch 02: 100%|██████████| 76/76 [00:38<00:00,  1.98it/s, train_loss=5.151, val_loss=4.694]\n"
     ]
    },
    {
     "name": "stdout",
     "output_type": "stream",
     "text": [
      "------------------------------------------------------------------------------------------------------------------------\n",
      "SOURCE: ['A girl with face paint and an orange sweater stands with her party.']\n",
      "TARGET: ['Ein Mädchen mit geschminktem Gesicht und einem orangen Pullover steht bei ihrer Truppe.']\n",
      "PREDICTED: Ein Mädchen mit einem und mit einem . . . . . . .\n",
      "------------------------------------------------------------------------------------------------------------------------\n",
      "SOURCE: ['Pottery and cars are shown in a parking lot with a man in a blue outfit is leaning against the front of his car.']\n",
      "TARGET: ['Das Bild zeigt Tonwaren und Autos auf einem Parkplatz und einen blau gekleideten Mann, der an der Vorderseite seines Autos lehnt.']\n",
      "PREDICTED: Ein Mann mit einem mit einem . . . . . .\n"
     ]
    },
    {
     "name": "stderr",
     "output_type": "stream",
     "text": [
      "Epoch 03: 100%|██████████| 76/76 [00:38<00:00,  1.98it/s, train_loss=4.628, val_loss=4.285]\n"
     ]
    },
    {
     "name": "stdout",
     "output_type": "stream",
     "text": [
      "------------------------------------------------------------------------------------------------------------------------\n",
      "SOURCE: ['A man jumps rope while a crowd of people watch him.']\n",
      "TARGET: ['Ein Mann übt Seilspringen, während ihm eine Menschenmenge dabei zusieht.']\n",
      "PREDICTED: Ein Mann Ein Mann , während ein Mann , während ein Mann . . . . . . . . . .\n",
      "------------------------------------------------------------------------------------------------------------------------\n",
      "SOURCE: ['A boy in a red shirt trying to play a guitar.']\n",
      "TARGET: ['Ein Junge in einem roten T-Shirt versucht, Gitarre zu spielen.']\n",
      "PREDICTED: Ein Junge in einem blauen Hemd und ein Junge in einem . . . . . . . . . . .\n"
     ]
    },
    {
     "name": "stderr",
     "output_type": "stream",
     "text": [
      "Epoch 04: 100%|██████████| 76/76 [00:38<00:00,  1.98it/s, train_loss=4.273, val_loss=3.959]\n"
     ]
    },
    {
     "name": "stdout",
     "output_type": "stream",
     "text": [
      "------------------------------------------------------------------------------------------------------------------------\n",
      "SOURCE: ['A woman applies face paint while a boy with a Mohawk holds a mirror.']\n",
      "TARGET: ['Eine Frau trägt Gesichtsschminke auf, während ein Junge mit Irokesenschnitt einen Spiegel hält.']\n",
      "PREDICTED: Eine Frau Frau mit einem und hält ein mit einem . . . . . . . . . . . . . . .\n",
      "------------------------------------------------------------------------------------------------------------------------\n",
      "SOURCE: ['Two men, one man selling fruit the other inspecting the fruit and conversing with the seller.']\n",
      "TARGET: ['Zwei Männer, von denen der eine Obst verkauft und der andere das Obst prüft und sich mit dem Verkäufer unterhält.']\n",
      "PREDICTED: Zwei Männer , die , während ein Mann , während ein Mann , während ein . . . . . . . . . . .\n"
     ]
    },
    {
     "name": "stderr",
     "output_type": "stream",
     "text": [
      "Epoch 05: 100%|██████████| 76/76 [00:38<00:00,  1.98it/s, train_loss=3.983, val_loss=3.704]\n"
     ]
    },
    {
     "name": "stdout",
     "output_type": "stream",
     "text": [
      "------------------------------------------------------------------------------------------------------------------------\n",
      "SOURCE: ['Two girls playing on a tree with their dog.']\n",
      "TARGET: ['Zwei Mädchen spielen mit ihrem Hund auf einem Baum.']\n",
      "PREDICTED: Zwei Mädchen spielen auf einem Hund mit einem Hund . . . . . . . . . . . . . . . . . .\n",
      "------------------------------------------------------------------------------------------------------------------------\n",
      "SOURCE: ['A young girl is swimming in a pool.']\n",
      "TARGET: ['Ein kleines Mädchen schwimmt in einem Pool.']\n",
      "PREDICTED: Ein Mädchen Mädchen in einem . . . . . . . . . . . . . . . . . . . . . .\n"
     ]
    },
    {
     "name": "stderr",
     "output_type": "stream",
     "text": [
      "Epoch 06: 100%|██████████| 76/76 [00:38<00:00,  1.97it/s, train_loss=3.748, val_loss=3.516]\n"
     ]
    },
    {
     "name": "stdout",
     "output_type": "stream",
     "text": [
      "------------------------------------------------------------------------------------------------------------------------\n",
      "SOURCE: ['A man in a harness climbing a rock wall']\n",
      "TARGET: ['Ein Mann in einem Klettergurt klettert an einer Felswand']\n",
      "PREDICTED: Ein Mann in einem mit einer Wand . . . . . . .\n",
      "------------------------------------------------------------------------------------------------------------------------\n",
      "SOURCE: ['A policeman stopping a vehicle on the side of the road.']\n",
      "TARGET: ['Ein Polizist hält ein Fahrzeug am Straßenrand an.']\n",
      "PREDICTED: Ein älterer Mann , der Nähe eines Straße . . . . . . . . . . . . . . . . . .\n"
     ]
    },
    {
     "name": "stderr",
     "output_type": "stream",
     "text": [
      "Epoch 07: 100%|██████████| 76/76 [00:38<00:00,  1.99it/s, train_loss=3.553, val_loss=3.358]\n"
     ]
    },
    {
     "name": "stdout",
     "output_type": "stream",
     "text": [
      "------------------------------------------------------------------------------------------------------------------------\n",
      "SOURCE: ['A man in a wheelchair and wearing a red jogging suit is carrying a torch.']\n",
      "TARGET: ['Ein Mann in einem Rollstuhl und einem roten Jogginganzug trägt eine Fackel.']\n",
      "PREDICTED: Ein Mann in einem und mit einem roten Hemd trägt eine . . . . . . . . . .\n",
      "------------------------------------------------------------------------------------------------------------------------\n",
      "SOURCE: ['Man in a suit smoking a cigar and reading a paper walking on the street.']\n",
      "TARGET: ['Mann in einem Anzug, der eine Zigarre raucht und eine Zeitung liest, geht auf der Straße.']\n",
      "PREDICTED: Ein Mann im Anzug und eine Frau und eine Straße entlang und eine Straße entlang . Straße entlang . . . . . . . . . Straße entlang . . geht\n"
     ]
    },
    {
     "name": "stderr",
     "output_type": "stream",
     "text": [
      "Epoch 08: 100%|██████████| 76/76 [00:38<00:00,  1.98it/s, train_loss=3.384, val_loss=3.229]\n"
     ]
    },
    {
     "name": "stdout",
     "output_type": "stream",
     "text": [
      "------------------------------------------------------------------------------------------------------------------------\n",
      "SOURCE: ['A black dog standing in some grass holding a white plastic item in its mouth.']\n",
      "TARGET: ['Ein schwarzer Hund steht im Gras und hält einen weißen Plastikgegenstand in seinem Maul.']\n",
      "PREDICTED: Ein schwarzer Hund steht im Gras und mit einem weißen Maul Maul . Maul . Maul . . . . . .\n",
      "------------------------------------------------------------------------------------------------------------------------\n",
      "SOURCE: ['A man sitting in clear shallow water beside a large rock face.']\n",
      "TARGET: ['Ein Mann sitzt im klaren, seichten Wasser an einer großen Felswand.']\n",
      "PREDICTED: Ein Mann sitzt in Wasser neben einem großen Wasser . Wasser . . . . . .\n"
     ]
    },
    {
     "name": "stderr",
     "output_type": "stream",
     "text": [
      "Epoch 09: 100%|██████████| 76/76 [00:38<00:00,  1.99it/s, train_loss=3.236, val_loss=3.123]\n"
     ]
    },
    {
     "name": "stdout",
     "output_type": "stream",
     "text": [
      "------------------------------------------------------------------------------------------------------------------------\n",
      "SOURCE: ['The man in the blue shirt is walking with the man in red.']\n",
      "TARGET: ['Der Mann im blauen Shirt ist mit dem Mann in Rot unterwegs.']\n",
      "PREDICTED: Der Mann im blauen Hemd geht mit einem Mann mit roten Mann . . . . . . . .\n",
      "------------------------------------------------------------------------------------------------------------------------\n",
      "SOURCE: ['The young girl is given rabbit ears by the young boy behind her.']\n",
      "TARGET: ['Dem jungen Mädchen werden von dem kleinen Jungen hinter ihr Hasenohren gemacht.']\n",
      "PREDICTED: Das Mädchen macht ein . hinter ihm hinter ihm . . . . . . . . . .\n"
     ]
    },
    {
     "name": "stderr",
     "output_type": "stream",
     "text": [
      "Epoch 10: 100%|██████████| 76/76 [00:38<00:00,  1.98it/s, train_loss=3.108, val_loss=3.039]\n"
     ]
    },
    {
     "name": "stdout",
     "output_type": "stream",
     "text": [
      "------------------------------------------------------------------------------------------------------------------------\n",
      "SOURCE: ['Sailors stand at the top of a gangplank to a large boat.']\n",
      "TARGET: ['Seeleute stehen oben an einer Laufplanke, die auf ein großes Schiff führt.']\n",
      "PREDICTED: stehen am eines . . . . . . . . . . . . . . .\n",
      "------------------------------------------------------------------------------------------------------------------------\n",
      "SOURCE: ['A man is shaving while sitting on the beach in front of the ocean.']\n",
      "TARGET: ['Ein Mann rasiert sich, während er am Strand vor dem Meer sitzt.']\n",
      "PREDICTED: Ein Mann sitzt und im am Strand am Strand . Meer . . . . . . . . .\n"
     ]
    },
    {
     "name": "stderr",
     "output_type": "stream",
     "text": [
      "Epoch 11: 100%|██████████| 76/76 [00:38<00:00,  1.98it/s, train_loss=2.993, val_loss=2.965]\n"
     ]
    },
    {
     "name": "stdout",
     "output_type": "stream",
     "text": [
      "------------------------------------------------------------------------------------------------------------------------\n",
      "SOURCE: ['The women is holding the boy while looking across the street.']\n",
      "TARGET: ['Die Frau hält den Jungen fest, während sie über die Straße blickt.']\n",
      "PREDICTED: Die Frau hält die Straße und schauen sich über die Straße . . . . . . . . . . . .\n",
      "------------------------------------------------------------------------------------------------------------------------\n",
      "SOURCE: ['A large group of people watching a performer on a stage.']\n",
      "TARGET: ['Eine große Gruppe von Menschen sieht einem Künstler auf einer Bühne zu.']\n",
      "PREDICTED: Eine große Gruppe Leute sieht zu zu . . . . . . . . . . . .\n"
     ]
    },
    {
     "name": "stderr",
     "output_type": "stream",
     "text": [
      "Epoch 12: 100%|██████████| 76/76 [00:38<00:00,  1.98it/s, train_loss=2.891, val_loss=2.899]\n"
     ]
    },
    {
     "name": "stdout",
     "output_type": "stream",
     "text": [
      "------------------------------------------------------------------------------------------------------------------------\n",
      "SOURCE: ['Four men standing near a yellow car.']\n",
      "TARGET: ['Vier Männer stehen bei einem gelben Auto.']\n",
      "PREDICTED: Vier Männer stehen in der Nähe eines gelben Auto . . . . . . . .\n",
      "------------------------------------------------------------------------------------------------------------------------\n",
      "SOURCE: ['Three people are running a race around a red track.']\n",
      "TARGET: ['Drei Menschen laufen auf einer roten Bahn um die Wette.']\n",
      "PREDICTED: Drei Personen laufen um einen Rennen um eine roten Weg . . . . . . .\n"
     ]
    },
    {
     "name": "stderr",
     "output_type": "stream",
     "text": [
      "Epoch 13: 100%|██████████| 76/76 [00:38<00:00,  1.98it/s, train_loss=2.800, val_loss=2.858]\n"
     ]
    },
    {
     "name": "stdout",
     "output_type": "stream",
     "text": [
      "------------------------------------------------------------------------------------------------------------------------\n",
      "SOURCE: ['A little baby in a pink hat lying naked and sleeping.']\n",
      "TARGET: ['Ein kleines Baby mit einer rosafarbenen Mütze liegt nackt da und schläft.']\n",
      "PREDICTED: Ein kleines Baby mit einem rosafarbenen Hut mit Hut liegt und schläft . . . . . . . . . . . . . . .\n",
      "------------------------------------------------------------------------------------------------------------------------\n",
      "SOURCE: ['A lady in a bright pink shirt is pulling a hot food cart.']\n",
      "TARGET: ['Eine Dame in einer leuchtend pinkfarbenen Bluse zieht einen Wagen mit warmem Essen.']\n",
      "PREDICTED: Eine Dame in einem rosafarbenen Oberteil zieht an einem Wagen mit Essen . . . . . . . . . . . .\n"
     ]
    },
    {
     "name": "stderr",
     "output_type": "stream",
     "text": [
      "Epoch 14: 100%|██████████| 76/76 [00:38<00:00,  1.98it/s, train_loss=2.718, val_loss=2.803]\n"
     ]
    },
    {
     "name": "stdout",
     "output_type": "stream",
     "text": [
      "------------------------------------------------------------------------------------------------------------------------\n",
      "SOURCE: ['A young boy in green practices juggling in a parking lot.']\n",
      "TARGET: ['Ein kleiner Junge in Grün übt das Jonglieren auf einem Parkplatz.']\n",
      "PREDICTED: Ein Junge in grünen grünen verkauft . . . . . . . . . . . . .\n",
      "------------------------------------------------------------------------------------------------------------------------\n",
      "SOURCE: ['People are crossing a tree lined street in front of a building.']\n",
      "TARGET: ['Menschen überqueren eine baumgesäumte Straße vor einem Gebäude.']\n",
      "PREDICTED: Leute überqueren eine Straße vor einem Baum vor einem Gebäude . Gebäude . . . . . .\n"
     ]
    },
    {
     "name": "stderr",
     "output_type": "stream",
     "text": [
      "Epoch 15: 100%|██████████| 76/76 [00:38<00:00,  1.99it/s, train_loss=2.643, val_loss=2.767]\n"
     ]
    },
    {
     "name": "stdout",
     "output_type": "stream",
     "text": [
      "------------------------------------------------------------------------------------------------------------------------\n",
      "SOURCE: ['With a tub resting on its outer roof, flags attached, the car is ready to take off for the rally.']\n",
      "TARGET: ['Mit einer Badewanne auf dem Dach und befestigten Fahnen ist das Auto bereit für den Start der Rallye.']\n",
      "PREDICTED: Ein Mann mit auf dem Dach - , steht , um für die für die Luft für die Luft . . . . . für die . . , um\n",
      "------------------------------------------------------------------------------------------------------------------------\n",
      "SOURCE: ['2 females, 1 from germany and 1 from China, compete in a wrestling match on a mat.']\n",
      "TARGET: ['Zwei Frauen, eine aus Deutschland und eine aus China, treten bei einem Ringkampf auf einer Matte gegeneinander an.']\n",
      "PREDICTED: Zwei Frauen , ein Mann , von einem , machen in einem sich bei einem Volleyball auf einer Matte . . . . . . . .\n"
     ]
    },
    {
     "name": "stderr",
     "output_type": "stream",
     "text": [
      "Epoch 16: 100%|██████████| 76/76 [00:38<00:00,  1.98it/s, train_loss=2.576, val_loss=2.743]\n"
     ]
    },
    {
     "name": "stdout",
     "output_type": "stream",
     "text": [
      "------------------------------------------------------------------------------------------------------------------------\n",
      "SOURCE: ['Kids conversing and learning in class.']\n",
      "TARGET: ['Kinder einer Schulklasse sprechen miteinander und lernen.']\n",
      "PREDICTED: Kinder unterhalten sich und essen im Freien . . . . . . . . .\n",
      "------------------------------------------------------------------------------------------------------------------------\n",
      "SOURCE: ['A motocross rider is slightly airborne on a competition circuit jump.']\n",
      "TARGET: ['Ein Motocrossfahrer wird bei einem Sprung auf einer Rennstrecke leicht durch die Luft getragen.']\n",
      "PREDICTED: Ein Fahrer Fahrer Fahrer ist mitten in der Luft auf einem . . . . . . . . . . . . .\n"
     ]
    },
    {
     "name": "stderr",
     "output_type": "stream",
     "text": [
      "Epoch 17: 100%|██████████| 76/76 [00:38<00:00,  1.97it/s, train_loss=2.514, val_loss=2.727]\n"
     ]
    },
    {
     "name": "stdout",
     "output_type": "stream",
     "text": [
      "------------------------------------------------------------------------------------------------------------------------\n",
      "SOURCE: ['A man and woman walk across an empty street.']\n",
      "TARGET: ['Ein Mann und eine Frau überqueren eine leere Straße.']\n",
      "PREDICTED: Ein Mann und eine Frau gehen über eine Straße . . . . . . . . .\n",
      "------------------------------------------------------------------------------------------------------------------------\n",
      "SOURCE: ['A group of people running a charity marathon.']\n",
      "TARGET: ['Eine Gruppe von Menschen läuft bei einem Wohltätigkeitsmarathon.']\n",
      "PREDICTED: Eine Gruppe Leute läuft bei einem Marathon . . . . . . . . .\n"
     ]
    },
    {
     "name": "stderr",
     "output_type": "stream",
     "text": [
      "Epoch 18: 100%|██████████| 76/76 [00:38<00:00,  1.99it/s, train_loss=2.456, val_loss=2.702]\n"
     ]
    },
    {
     "name": "stdout",
     "output_type": "stream",
     "text": [
      "------------------------------------------------------------------------------------------------------------------------\n",
      "SOURCE: ['A tattooed man wearing overalls on a stage holding a microphone.']\n",
      "TARGET: ['Ein tätowierter Mann in einer Latzhose hält ein Mikrofon auf einer Bühne.']\n",
      "PREDICTED: Ein Mann mit in einem Overall auf einer Bühne hält ein Mikrofon . . . . . . . . .\n",
      "------------------------------------------------------------------------------------------------------------------------\n",
      "SOURCE: ['Two women with their baby strollers walking along a leaves covered street.']\n",
      "TARGET: ['Zwei Frauen gehen mit ihren Kinderwagen eine mit Blättern bedeckte Straße entlang.']\n",
      "PREDICTED: Zwei Frauen mit ihren Baby Baby , die Straße entlang , gehen eine Treppe entlang . entlang . . . . .\n"
     ]
    },
    {
     "name": "stderr",
     "output_type": "stream",
     "text": [
      "Epoch 19: 100%|██████████| 76/76 [00:38<00:00,  1.98it/s, train_loss=2.403, val_loss=2.676]\n"
     ]
    },
    {
     "name": "stdout",
     "output_type": "stream",
     "text": [
      "------------------------------------------------------------------------------------------------------------------------\n",
      "SOURCE: ['A trio of people are hiking throughout a heavily snowed path.']\n",
      "TARGET: ['Drei Menschen wandern auf einem stark verschneiten Weg.']\n",
      "PREDICTED: Ein von Menschen bei auf einem . . . . . . . . . . . . .\n",
      "------------------------------------------------------------------------------------------------------------------------\n",
      "SOURCE: ['A bride and groom are taking pictures while two men stand nearby.']\n",
      "TARGET: ['Eine Braut und ein Bräutigam machen Fotos, während in der Nähe zwei Männer stehen.']\n",
      "PREDICTED: Eine Braut und Bräutigam und ein Bräutigam machen Fotos stehen . stehen . . . . . . . .\n"
     ]
    },
    {
     "name": "stderr",
     "output_type": "stream",
     "text": [
      "Epoch 20: 100%|██████████| 76/76 [00:38<00:00,  1.98it/s, train_loss=2.354, val_loss=2.660]\n"
     ]
    },
    {
     "name": "stdout",
     "output_type": "stream",
     "text": [
      "------------------------------------------------------------------------------------------------------------------------\n",
      "SOURCE: ['Sitting casually in a public place, a girl reads holding the book open with her hand on which is a butterfly ring.']\n",
      "TARGET: ['Ein Mädchen sitzt in bequemer Haltung an einem öffentlichen Ort und liest ein Buch, das sie mit ihrer Hand geöffnet hält, an der sich ein Ring mit einem Schmetterling befindet.']\n",
      "PREDICTED: Ein in auf einem öffentlichen Ort und liest ein Buch mit . . . . . . . . . . . .\n",
      "------------------------------------------------------------------------------------------------------------------------\n",
      "SOURCE: ['A young girl standing in a grassy field.']\n",
      "TARGET: ['Ein junges Mädchen steht auf einem grasbewachsenen Feld.']\n",
      "PREDICTED: Ein Mädchen , das Mädchen steht auf einer Wiese . . . . . . . . .\n"
     ]
    },
    {
     "name": "stderr",
     "output_type": "stream",
     "text": [
      "Epoch 21: 100%|██████████| 76/76 [00:38<00:00,  1.97it/s, train_loss=2.305, val_loss=2.650]\n"
     ]
    },
    {
     "name": "stdout",
     "output_type": "stream",
     "text": [
      "------------------------------------------------------------------------------------------------------------------------\n",
      "SOURCE: ['A guy is running away from a black bull.']\n",
      "TARGET: ['Ein Typ rennt vor einem schwarzen Bullen davon.']\n",
      "PREDICTED: Ein Mann rennt von einem schwarzen Bullen . . . . . . . . .\n",
      "------------------------------------------------------------------------------------------------------------------------\n",
      "SOURCE: ['The lady wearing a black hat is taking a picture while the snowfalls.']\n",
      "TARGET: ['Die Frau mit einem schwarzen Hut macht ein Foto bei Schneefall.']\n",
      "PREDICTED: Die Dame mit schwarzem Hut trägt ein Foto macht ein Foto . . . . . . . . . .\n"
     ]
    },
    {
     "name": "stderr",
     "output_type": "stream",
     "text": [
      "Epoch 22: 100%|██████████| 76/76 [00:38<00:00,  1.98it/s, train_loss=2.263, val_loss=2.647]\n"
     ]
    },
    {
     "name": "stdout",
     "output_type": "stream",
     "text": [
      "------------------------------------------------------------------------------------------------------------------------\n",
      "SOURCE: ['A smiling young man walking on next to the beach wearing a baseball cap, blue t-shirt and jeans.']\n",
      "TARGET: ['Ein lächelnder junger Mann geht in der Nähe des Strandes vorbei und trägt dabei eine Baseballkappe, ein blaues T-Shirt und Jeans.']\n",
      "PREDICTED: Ein lächelnder junger Mann mit Baseballkappe am Strand entlang und blauen T - Shirt und blauen T - Shirt und Jeans . . . . . . . . .\n",
      "------------------------------------------------------------------------------------------------------------------------\n",
      "SOURCE: ['A racing catamaran is lifted onto one hull in the water.']\n",
      "TARGET: ['Ein Rennkatamaran wird im Wasser auf einen Rumpf gehoben.']\n",
      "PREDICTED: Ein zu . . . . . . . . . .\n"
     ]
    },
    {
     "name": "stderr",
     "output_type": "stream",
     "text": [
      "Epoch 23: 100%|██████████| 76/76 [00:38<00:00,  1.98it/s, train_loss=2.221, val_loss=2.629]\n"
     ]
    },
    {
     "name": "stdout",
     "output_type": "stream",
     "text": [
      "------------------------------------------------------------------------------------------------------------------------\n",
      "SOURCE: ['Two people with white shirts walking up the sidewalk talking on their phones.']\n",
      "TARGET: ['Zwei Menschen mit weißen Oberteilen gehen den Gehweg entlang und telefonieren dabei.']\n",
      "PREDICTED: Zwei Personen mit weißen Hemden gehen auf dem Bürgersteig entlang und unterhalten sich . . . . . . . . . . .\n",
      "------------------------------------------------------------------------------------------------------------------------\n",
      "SOURCE: ['Several girls are playing with flour.']\n",
      "TARGET: ['Mehrere Mädchen spielen mit Mehl.']\n",
      "PREDICTED: Mehrere Mädchen spielen mit . . . . . . . . .\n"
     ]
    },
    {
     "name": "stderr",
     "output_type": "stream",
     "text": [
      "Epoch 24: 100%|██████████| 76/76 [00:38<00:00,  1.97it/s, train_loss=2.185, val_loss=2.629]\n"
     ]
    },
    {
     "name": "stdout",
     "output_type": "stream",
     "text": [
      "------------------------------------------------------------------------------------------------------------------------\n",
      "SOURCE: ['Toddler in a green shirt is brushing his teeth with a yellow toothbrush, while being supervised by mom.']\n",
      "TARGET: ['Kleines Kind in einem grünem Shirt putzt sich unter Mamas Aufsicht mit einer gelben Zahnbürste die Zähne.']\n",
      "PREDICTED: Ein Kleinkind in grünem Hemd putzt sich die Zähne mit einer gelben Zähne und wird von einer Mutter geworfen . . . . . . . . . . wird von einer Mutter . .\n",
      "------------------------------------------------------------------------------------------------------------------------\n",
      "SOURCE: ['A young woman practices a string instrument indoors.']\n",
      "TARGET: ['Eine junge Frau spielt ein Saiteninstrument im Haus.']\n",
      "PREDICTED: Eine junge Frau übt an einem ein . . . . . . . . . . . . . . .\n"
     ]
    },
    {
     "name": "stderr",
     "output_type": "stream",
     "text": [
      "Epoch 25: 100%|██████████| 76/76 [00:38<00:00,  1.98it/s, train_loss=2.147, val_loss=2.618]\n"
     ]
    },
    {
     "name": "stdout",
     "output_type": "stream",
     "text": [
      "------------------------------------------------------------------------------------------------------------------------\n",
      "SOURCE: ['Several girls are playing with flour.']\n",
      "TARGET: ['Mehrere Mädchen spielen mit Mehl.']\n",
      "PREDICTED: Mehrere Mädchen spielen mit Getränken . . . . . . . . . . .\n",
      "------------------------------------------------------------------------------------------------------------------------\n",
      "SOURCE: ['A man and woman pose together on a cobblestone street.']\n",
      "TARGET: ['Ein Mann und eine Frau posieren zusammen auf einer kopfsteingepflasterten Straße.']\n",
      "PREDICTED: Ein Mann und eine Frau posieren zusammen auf einer gepflasterten Straße . . . . . . . . . . .\n"
     ]
    },
    {
     "name": "stderr",
     "output_type": "stream",
     "text": [
      "Epoch 26: 100%|██████████| 76/76 [00:38<00:00,  1.98it/s, train_loss=2.113, val_loss=2.617]\n"
     ]
    },
    {
     "name": "stdout",
     "output_type": "stream",
     "text": [
      "------------------------------------------------------------------------------------------------------------------------\n",
      "SOURCE: ['A young adult wearing jeans and a camouflage t-shirt playing a black electric guitar.']\n",
      "TARGET: ['Ein junger Erwachsener mit Jeans und Tarn-T-Shirt spielt auf einer schwarzen E-Gitarre.']\n",
      "PREDICTED: Ein junger Erwachsener in Jeans und ein T - T - Shirt spielt E - Gitarre . Gitarre . . . . . . . . . . . . . Gitarre . Gitarre\n",
      "------------------------------------------------------------------------------------------------------------------------\n",
      "SOURCE: ['A uniformed man in the Army is training a German Shepherd using an arm guard.']\n",
      "TARGET: ['Ein uniformierter Mann von der Armee trainiert einen Deutschen Schäferhund mit einem Armschutz.']\n",
      "PREDICTED: Ein Mann in Uniform . mit einem Schäferhund . . . . . . . . . . . . . . . . . .\n"
     ]
    },
    {
     "name": "stderr",
     "output_type": "stream",
     "text": [
      "Epoch 27: 100%|██████████| 76/76 [00:38<00:00,  1.98it/s, train_loss=2.083, val_loss=2.618]\n"
     ]
    },
    {
     "name": "stdout",
     "output_type": "stream",
     "text": [
      "------------------------------------------------------------------------------------------------------------------------\n",
      "SOURCE: ['Two people are talking near a red phone booth while construction workers rest nearby.']\n",
      "TARGET: ['Zwei Menschen unterhalten sich bei einer roten Telefonzelle, während in der Nähe Bauarbeiter eine Pause machen.']\n",
      "PREDICTED: Zwei Personen unterhalten sich in der Nähe an einem roten Telefon , während in der Nähe . . . . . . . . . .\n",
      "------------------------------------------------------------------------------------------------------------------------\n",
      "SOURCE: ['A young woman practices a string instrument indoors.']\n",
      "TARGET: ['Eine junge Frau spielt ein Saiteninstrument im Haus.']\n",
      "PREDICTED: Eine junge Frau übt an einem ein . . . . . . . . . . . . . . . . . .\n"
     ]
    },
    {
     "name": "stderr",
     "output_type": "stream",
     "text": [
      "Epoch 28: 100%|██████████| 76/76 [00:38<00:00,  1.98it/s, train_loss=2.049, val_loss=2.611]\n"
     ]
    },
    {
     "name": "stdout",
     "output_type": "stream",
     "text": [
      "------------------------------------------------------------------------------------------------------------------------\n",
      "SOURCE: ['A woman in a black dress is pushing a cart with thermos down a paved walkway.']\n",
      "TARGET: ['Eine Frau in einem schwarzen Kleid schiebt einen Wagen mit Thermoskannen einen gepflasterten Fußgängerweg entlang.']\n",
      "PREDICTED: Eine Frau in einem schwarzen Kleid schiebt einen Wagen mit einem Wagen mit gepflasterten Weg entlang . entlang . . . . . . . . . .\n",
      "------------------------------------------------------------------------------------------------------------------------\n",
      "SOURCE: ['Baby looking at the leaves on a branch of a tree.']\n",
      "TARGET: ['Baby sieht sich die Blätter am Zweig eines Baumes an.']\n",
      "PREDICTED: Ein Baby , das auf dem Laub auf einem Ast . . . . . . . . .\n"
     ]
    },
    {
     "name": "stderr",
     "output_type": "stream",
     "text": [
      "Epoch 29: 100%|██████████| 76/76 [00:38<00:00,  1.98it/s, train_loss=2.021, val_loss=2.631]\n"
     ]
    },
    {
     "name": "stdout",
     "output_type": "stream",
     "text": [
      "------------------------------------------------------------------------------------------------------------------------\n",
      "SOURCE: ['Two women dressed in all white and wearing high heels are walking on the street.']\n",
      "TARGET: ['Zwei ganz in Weiß gekleidete Frauen mit hohen Absätzen gehen auf der Straße.']\n",
      "PREDICTED: Zwei Frauen in weiß gekleidete Frauen mit hochhackigen Schuhen gehen die Straße entlang . gehen . . . . . . . . . .\n",
      "------------------------------------------------------------------------------------------------------------------------\n",
      "SOURCE: ['A man on the coaching staff for OU has sunglasses on his head during a football game.']\n",
      "TARGET: ['Ein Mann, der zum Trainerstab von OU gehört, trägt während eines Footballspiels eine Sonnenbrille auf dem Kopf.']\n",
      "PREDICTED: Ein Mann auf den mit hat den Kopf auf dem Kopf hat bei einem Football . . . . . . . . . .\n"
     ]
    },
    {
     "name": "stderr",
     "output_type": "stream",
     "text": [
      "Epoch 30: 100%|██████████| 76/76 [00:38<00:00,  1.97it/s, train_loss=1.994, val_loss=2.626]\n"
     ]
    },
    {
     "name": "stdout",
     "output_type": "stream",
     "text": [
      "------------------------------------------------------------------------------------------------------------------------\n",
      "SOURCE: ['Two women in spotted dresses walking down a sidewalk.']\n",
      "TARGET: ['Zwei Frauen in gepunkteten Kleidern gehen einen Gehweg entlang.']\n",
      "PREDICTED: Zwei Frauen in Kleidern gehen einen Bürgersteig entlang . . . . . . . . . .\n",
      "------------------------------------------------------------------------------------------------------------------------\n",
      "SOURCE: ['A boy in a red shirt trying to play a guitar.']\n",
      "TARGET: ['Ein Junge in einem roten T-Shirt versucht, Gitarre zu spielen.']\n",
      "PREDICTED: Ein Junge in rotem Hemd versucht , versucht zu spielen Gitarre . . . . . . . . . .\n"
     ]
    }
   ],
   "source": [
    "# Train\n",
    "config = get_training_config()\n",
    "config['batch_size']=384\n",
    "config['N']=3\n",
    "config['model_dir']=\"weights_model_2\"\n",
    "train_model(config)"
   ]
  },
  {
   "cell_type": "code",
   "execution_count": 47,
   "id": "e4bece66-4e27-4808-aebc-e73c1f7d7bf6",
   "metadata": {},
   "outputs": [
    {
     "data": {
      "text/plain": [
       "<matplotlib.legend.Legend at 0x7f4d5015aa40>"
      ]
     },
     "execution_count": 47,
     "metadata": {},
     "output_type": "execute_result"
    },
    {
     "data": {
      "image/png": "[encoded data removed]",
      "text/plain": [
       "<Figure size 640x480 with 1 Axes>"
      ]
     },
     "metadata": {},
     "output_type": "display_data"
    }
   ],
   "source": [
    "# Plot loss curves\n",
    "model_state = torch.load('./weights_model_2/tf_model_30.pt')\n",
    "loss_df = pd.DataFrame(model_state['losses'])\n",
    "plt.plot(loss_df['epoch']+1, loss_df['train_loss'])\n",
    "plt.plot(loss_df['epoch']+1, loss_df['val_loss'])\n",
    "plt.xlabel('Epoch')\n",
    "plt.ylabel('Loss')\n",
    "plt.legend([\"Training\", \"Validation\"], loc=\"upper right\")"
   ]
  },
  {
   "cell_type": "markdown",
   "id": "05ee9439-d724-42a7-94ea-00fd4b2b6bea",
   "metadata": {},
   "source": [
    "**Model 3**:\\\n",
    "d_model=512, d_ff=512, N=3, dropout=0.1"
   ]
  },
  {
   "cell_type": "code",
   "execution_count": 45,
   "id": "8110bfcb-bfc6-4a14-bc41-98f5956164cc",
   "metadata": {
    "scrolled": true
   },
   "outputs": [
    {
     "name": "stdout",
     "output_type": "stream",
     "text": [
      "Using device cuda\n"
     ]
    },
    {
     "data": {
      "application/vnd.jupyter.widget-view+json": {
       "model_id": "3516c88b42154d7188523a0d778074a3",
       "version_major": 2,
       "version_minor": 0
      },
      "text/plain": [
       "Downloading readme:   0%|          | 0.00/1.15k [00:00<?, ?B/s]"
      ]
     },
     "metadata": {},
     "output_type": "display_data"
    },
    {
     "data": {
      "application/vnd.jupyter.widget-view+json": {
       "model_id": "d06ce3b987d149868b601de16f626e9e",
       "version_major": 2,
       "version_minor": 0
      },
      "text/plain": [
       "Downloading data:   0%|          | 0.00/4.60M [00:00<?, ?B/s]"
      ]
     },
     "metadata": {},
     "output_type": "display_data"
    },
    {
     "data": {
      "application/vnd.jupyter.widget-view+json": {
       "model_id": "6075783141b84e9e8284cd2a56d1a8c5",
       "version_major": 2,
       "version_minor": 0
      },
      "text/plain": [
       "Downloading data:   0%|          | 0.00/164k [00:00<?, ?B/s]"
      ]
     },
     "metadata": {},
     "output_type": "display_data"
    },
    {
     "data": {
      "application/vnd.jupyter.widget-view+json": {
       "model_id": "12b1ec03cbba4a408a94092cf32177e4",
       "version_major": 2,
       "version_minor": 0
      },
      "text/plain": [
       "Downloading data:   0%|          | 0.00/156k [00:00<?, ?B/s]"
      ]
     },
     "metadata": {},
     "output_type": "display_data"
    },
    {
     "data": {
      "application/vnd.jupyter.widget-view+json": {
       "model_id": "623b7b6ce3824393aeb70401352edde8",
       "version_major": 2,
       "version_minor": 0
      },
      "text/plain": [
       "Generating train split:   0%|          | 0/29000 [00:00<?, ? examples/s]"
      ]
     },
     "metadata": {},
     "output_type": "display_data"
    },
    {
     "data": {
      "application/vnd.jupyter.widget-view+json": {
       "model_id": "ff7973301cd94e4eb928c327c6c971ef",
       "version_major": 2,
       "version_minor": 0
      },
      "text/plain": [
       "Generating validation split:   0%|          | 0/1014 [00:00<?, ? examples/s]"
      ]
     },
     "metadata": {},
     "output_type": "display_data"
    },
    {
     "data": {
      "application/vnd.jupyter.widget-view+json": {
       "model_id": "34b804c641774cafb0027154aa23a535",
       "version_major": 2,
       "version_minor": 0
      },
      "text/plain": [
       "Generating test split:   0%|          | 0/1000 [00:00<?, ? examples/s]"
      ]
     },
     "metadata": {},
     "output_type": "display_data"
    },
    {
     "data": {
      "application/vnd.jupyter.widget-view+json": {
       "model_id": "e51dc6c54c3a41a9a76cfbde69d407cb",
       "version_major": 2,
       "version_minor": 0
      },
      "text/plain": [
       "Filter:   0%|          | 0/29000 [00:00<?, ? examples/s]"
      ]
     },
     "metadata": {},
     "output_type": "display_data"
    },
    {
     "data": {
      "application/vnd.jupyter.widget-view+json": {
       "model_id": "1afc5823bd704d5f80536d3315cea7a9",
       "version_major": 2,
       "version_minor": 0
      },
      "text/plain": [
       "Filter:   0%|          | 0/1014 [00:00<?, ? examples/s]"
      ]
     },
     "metadata": {},
     "output_type": "display_data"
    },
    {
     "name": "stdout",
     "output_type": "stream",
     "text": [
      "Train set size: 29000\n",
      "Validation set size: 1014\n",
      "Max length in source: 41\n",
      "Max length in target: 45\n"
     ]
    },
    {
     "name": "stderr",
     "output_type": "stream",
     "text": [
      "Epoch 01: 100%|██████████| 57/57 [00:35<00:00,  1.63it/s, train_loss=6.978, val_loss=5.702]\n"
     ]
    },
    {
     "name": "stdout",
     "output_type": "stream",
     "text": [
      "------------------------------------------------------------------------------------------------------------------------\n",
      "SOURCE: ['A smiling woman in a peach tank top stands holding a mountain bike']\n",
      "TARGET: ['Eine lächelnde Frau mit einem pfirsichfarbenen Trägershirt hält ein Mountainbike']\n",
      "PREDICTED: Ein Mann in einem . . . .\n",
      "------------------------------------------------------------------------------------------------------------------------\n",
      "SOURCE: ['Two young girls playing basketball, one in white attempting a layup while the other in red defends.']\n",
      "TARGET: ['Zwei junge Mädchen spielen Basketball, wobei die eine in Weiß einen Korbleger versucht und die andere in Rot verteidigt.']\n",
      "PREDICTED: Ein Mann in einem einem . . . . . . .\n"
     ]
    },
    {
     "name": "stderr",
     "output_type": "stream",
     "text": [
      "Epoch 02: 100%|██████████| 57/57 [00:34<00:00,  1.63it/s, train_loss=5.479, val_loss=5.054]\n"
     ]
    },
    {
     "name": "stdout",
     "output_type": "stream",
     "text": [
      "------------------------------------------------------------------------------------------------------------------------\n",
      "SOURCE: ['A motocross rider is slightly airborne on a competition circuit jump.']\n",
      "TARGET: ['Ein Motocrossfahrer wird bei einem Sprung auf einer Rennstrecke leicht durch die Luft getragen.']\n",
      "PREDICTED: Ein Mann mit einem . . . . . . . . . .\n",
      "------------------------------------------------------------------------------------------------------------------------\n",
      "SOURCE: ['An elderly man, wearing navy blue, is sitting on a bench along the street.']\n",
      "TARGET: ['Ein älterer Mann in marineblauer Kleidung sitzt auf einer Bank an der Straße.']\n",
      "PREDICTED: Ein Mann Mann in einem . . . . . . . .\n"
     ]
    },
    {
     "name": "stderr",
     "output_type": "stream",
     "text": [
      "Epoch 03: 100%|██████████| 57/57 [00:34<00:00,  1.64it/s, train_loss=4.963, val_loss=4.596]\n"
     ]
    },
    {
     "name": "stdout",
     "output_type": "stream",
     "text": [
      "------------------------------------------------------------------------------------------------------------------------\n",
      "SOURCE: ['A young blond-haired man speaks into a microphone.']\n",
      "TARGET: ['Ein junger Mann mit blondem Haar spricht in ein Mikrofon.']\n",
      "PREDICTED: Ein Mann in einem Mann in einem . . . . . . . . . . . . .\n",
      "------------------------------------------------------------------------------------------------------------------------\n",
      "SOURCE: ['A man stands in a mobile food stand, looking out the half-door.']\n",
      "TARGET: ['Ein Mann steht in einem mobilen Essensstand und blickt über die halbhohe Tür.']\n",
      "PREDICTED: Ein Mann in einem . . . . . . . . . . . . .\n"
     ]
    },
    {
     "name": "stderr",
     "output_type": "stream",
     "text": [
      "Epoch 04: 100%|██████████| 57/57 [00:35<00:00,  1.62it/s, train_loss=4.583, val_loss=4.264]\n"
     ]
    },
    {
     "name": "stdout",
     "output_type": "stream",
     "text": [
      "------------------------------------------------------------------------------------------------------------------------\n",
      "SOURCE: ['There are many people in a building with some people cooking food.']\n",
      "TARGET: ['Da sind viele Menschen in einem Gebäude und ein paar Menschen kochen etwas zu essen.']\n",
      "PREDICTED: Eine Menschen Menschen in einer . . . . . . . . . .\n",
      "------------------------------------------------------------------------------------------------------------------------\n",
      "SOURCE: ['Two women with their baby strollers walking along a leaves covered street.']\n",
      "TARGET: ['Zwei Frauen gehen mit ihren Kinderwagen eine mit Blättern bedeckte Straße entlang.']\n",
      "PREDICTED: Zwei Frauen Frauen mit auf einer Straße . . . . . . . .\n"
     ]
    },
    {
     "name": "stderr",
     "output_type": "stream",
     "text": [
      "Epoch 05: 100%|██████████| 57/57 [00:34<00:00,  1.63it/s, train_loss=4.302, val_loss=4.009]\n"
     ]
    },
    {
     "name": "stdout",
     "output_type": "stream",
     "text": [
      "------------------------------------------------------------------------------------------------------------------------\n",
      "SOURCE: ['A man crouches in front of a yellow wall.']\n",
      "TARGET: ['Ein Mann kauert vor einer gelben Mauer.']\n",
      "PREDICTED: Ein Mann Mann mit vor einer . . . . . . . . . . . . . . .\n",
      "------------------------------------------------------------------------------------------------------------------------\n",
      "SOURCE: ['One man and two women wearing shorts, walk down the street.']\n",
      "TARGET: ['Ein Mann und zwei Frauen in Shorts gehen die Straße entlang.']\n",
      "PREDICTED: Ein Mann und Frauen und eine Frau in die Straße entlang . Straße . . . . . . . . . . .\n"
     ]
    },
    {
     "name": "stderr",
     "output_type": "stream",
     "text": [
      "Epoch 06: 100%|██████████| 57/57 [00:34<00:00,  1.63it/s, train_loss=4.069, val_loss=3.804]\n"
     ]
    },
    {
     "name": "stdout",
     "output_type": "stream",
     "text": [
      "------------------------------------------------------------------------------------------------------------------------\n",
      "SOURCE: ['A man in a white shirt is sitting on a crate.']\n",
      "TARGET: ['Ein Mann in einem weißen T-Shirt sitzt auf einer Kiste.']\n",
      "PREDICTED: Ein Mann in einem Hemd sitzt auf einer . . . . . . . . . . . . . .\n",
      "------------------------------------------------------------------------------------------------------------------------\n",
      "SOURCE: ['A large dog is jumping in a fountain while a man in a black T-shirt and vest stands nearby.']\n",
      "TARGET: ['Ein großer Hund springt in einem Springbrunnen herum, während ein Mann mit einem schwarzen T-Shirt und einer Weste danebensteht.']\n",
      "PREDICTED: Ein Hund Hund springt in in einem Mann in einem Mann in einem weißen Hemd und in einem Mann in einem Mann in einer in der Hand . . . in einem . in einem Mann in einem weißen Hemd und in einem\n"
     ]
    },
    {
     "name": "stderr",
     "output_type": "stream",
     "text": [
      "Epoch 07: 100%|██████████| 57/57 [00:35<00:00,  1.62it/s, train_loss=3.870, val_loss=3.634]\n"
     ]
    },
    {
     "name": "stdout",
     "output_type": "stream",
     "text": [
      "------------------------------------------------------------------------------------------------------------------------\n",
      "SOURCE: ['A young girl wearing a dress and sandals runs in the grass.']\n",
      "TARGET: ['Ein kleines Mädchen in einem Kleid und Sandalen rennt durch das Gras.']\n",
      "PREDICTED: Ein Mädchen Mädchen in einem Kleid und im Gras . Gras . . . . . . . . . . .\n",
      "------------------------------------------------------------------------------------------------------------------------\n",
      "SOURCE: ['A vendor sits in the middle of a display of glasses at a street market in an Asian country.']\n",
      "TARGET: ['Ein Verkäufer sitzt inmitten seines Brillensortiments auf einem Straßenmarkt in einem asiatischen Land.']\n",
      "PREDICTED: Ein sitzt sitzt auf einer in einer . auf einer Straße . . . . . . . . . . . .\n"
     ]
    },
    {
     "name": "stderr",
     "output_type": "stream",
     "text": [
      "Epoch 08: 100%|██████████| 57/57 [00:34<00:00,  1.63it/s, train_loss=3.698, val_loss=3.493]\n"
     ]
    },
    {
     "name": "stdout",
     "output_type": "stream",
     "text": [
      "------------------------------------------------------------------------------------------------------------------------\n",
      "SOURCE: ['Two men in red robes performing martial arts.']\n",
      "TARGET: ['Zwei Männer in roten Gewändern führen eine Kampfsportübung durch.']\n",
      "PREDICTED: Zwei Männer in roten in roten . . . . . . . . . . . . . . . . . . . . .\n",
      "------------------------------------------------------------------------------------------------------------------------\n",
      "SOURCE: ['A woman with blond-hair is drinking out of a glass.']\n",
      "TARGET: ['Eine Frau mit blondem Haar trinkt aus einem Glas.']\n",
      "PREDICTED: Eine Frau mit Haaren Haaren spielt . . . . . . . . . . . . . . . . . . . . . .\n"
     ]
    },
    {
     "name": "stderr",
     "output_type": "stream",
     "text": [
      "Epoch 09: 100%|██████████| 57/57 [00:34<00:00,  1.64it/s, train_loss=3.549, val_loss=3.373]\n"
     ]
    },
    {
     "name": "stdout",
     "output_type": "stream",
     "text": [
      "------------------------------------------------------------------------------------------------------------------------\n",
      "SOURCE: ['A group of black people performing in orange shirts in front of a fenced off park.']\n",
      "TARGET: ['Eine Gruppe von Schwarzen in orangen T-Shirts tritt vor einem eingezäunten Park auf.']\n",
      "PREDICTED: Eine Gruppe von schwarzer schwarzer in schwarzen in einem Park vor . . . . . . . . . . . . . .\n",
      "------------------------------------------------------------------------------------------------------------------------\n",
      "SOURCE: ['A brown, black, and white dog barking up a tree.']\n",
      "TARGET: ['Ein braun-schwarz-weißer Hund bellt an einem Baum hinauf.']\n",
      "PREDICTED: Ein brauner schwarzer Hund und weißer Hund Hund . . . . . . . . . . . . . . .\n"
     ]
    },
    {
     "name": "stderr",
     "output_type": "stream",
     "text": [
      "Epoch 10: 100%|██████████| 57/57 [00:34<00:00,  1.63it/s, train_loss=3.412, val_loss=3.275]\n"
     ]
    },
    {
     "name": "stdout",
     "output_type": "stream",
     "text": [
      "------------------------------------------------------------------------------------------------------------------------\n",
      "SOURCE: ['A little girl peering over a blue wall.']\n",
      "TARGET: ['Ein kleines Mädchen späht über eine blaue Mauer.']\n",
      "PREDICTED: Ein kleines Mädchen Mädchen über eine Wand . . . . . . . . . . . . . . . . . . .\n",
      "------------------------------------------------------------------------------------------------------------------------\n",
      "SOURCE: ['A woman standing on a high cliff on one leg looking over a river.']\n",
      "TARGET: ['Eine Frau steht auf einem Bein auf einer hohen Klippe und blickt über einen Fluss.']\n",
      "PREDICTED: Eine Frau steht auf einer über eine über eine über . . . . . . . . . . . . . . . . .\n"
     ]
    },
    {
     "name": "stderr",
     "output_type": "stream",
     "text": [
      "Epoch 11: 100%|██████████| 57/57 [00:35<00:00,  1.62it/s, train_loss=3.291, val_loss=3.184]\n"
     ]
    },
    {
     "name": "stdout",
     "output_type": "stream",
     "text": [
      "------------------------------------------------------------------------------------------------------------------------\n",
      "SOURCE: ['Three men competing in a hurdle race.']\n",
      "TARGET: ['Drei Männer treten bei einem Hürdenlauf gegeneinander an.']\n",
      "PREDICTED: Drei Männer Männer bei einem Rennen . . . . . . . . . . . . . . . .\n",
      "------------------------------------------------------------------------------------------------------------------------\n",
      "SOURCE: ['A girl leads her dog over a hurdle.']\n",
      "TARGET: ['Ein Mädchen führt seinen Hund über eine Hürde.']\n",
      "PREDICTED: Ein Mädchen , das Hund über eine über . . . . . . . . . . . . . . . .\n"
     ]
    },
    {
     "name": "stderr",
     "output_type": "stream",
     "text": [
      "Epoch 12: 100%|██████████| 57/57 [00:35<00:00,  1.63it/s, train_loss=3.181, val_loss=3.109]\n"
     ]
    },
    {
     "name": "stdout",
     "output_type": "stream",
     "text": [
      "------------------------------------------------------------------------------------------------------------------------\n",
      "SOURCE: ['A man in a white shirt is sitting on a crate.']\n",
      "TARGET: ['Ein Mann in einem weißen T-Shirt sitzt auf einer Kiste.']\n",
      "PREDICTED: Ein Mann in einem weißen Hemd sitzt auf . . . . . . . . . . . . . . . .\n",
      "------------------------------------------------------------------------------------------------------------------------\n",
      "SOURCE: [\"An Asian fruit and vegetable vendor's selection of bananas, oranges, melons and more in his small boat.\"]\n",
      "TARGET: ['Das Sortiment an Bananen, Orangen, Melonen usw. eines asiatischen Obst- und Gemüsehändlers auf seinem kleinen Boot.']\n",
      "PREDICTED: Ein asiatischer asiatischer und . sich an . . . . . . . . . . . .\n"
     ]
    },
    {
     "name": "stderr",
     "output_type": "stream",
     "text": [
      "Epoch 13: 100%|██████████| 57/57 [00:35<00:00,  1.63it/s, train_loss=3.082, val_loss=3.040]\n"
     ]
    },
    {
     "name": "stdout",
     "output_type": "stream",
     "text": [
      "------------------------------------------------------------------------------------------------------------------------\n",
      "SOURCE: ['A man in a red and white striped shirts sits on a stool at a hotdog stand.']\n",
      "TARGET: ['Ein Mann in einem rot-weiß gestreiften Hemd sitzt auf einem Hocker an einem Hotdog-Stand.']\n",
      "PREDICTED: Ein Mann in einem rot weiß gestreiften gestreiften und weiß sitzt auf einem Stuhl sitzt auf einem . . . . . . . . .\n",
      "------------------------------------------------------------------------------------------------------------------------\n",
      "SOURCE: ['A man with a tattoo on his arm cooking something in a frying pan.']\n",
      "TARGET: ['Ein Mann mit einer Tätowierung am Arm kocht etwas in einer Bratpfanne.']\n",
      "PREDICTED: Ein Mann mit ein Mann auf seinem Arm in einer in einer . . . . . . . . . . . . . . . .\n"
     ]
    },
    {
     "name": "stderr",
     "output_type": "stream",
     "text": [
      "Epoch 14: 100%|██████████| 57/57 [00:35<00:00,  1.63it/s, train_loss=2.993, val_loss=2.978]\n"
     ]
    },
    {
     "name": "stdout",
     "output_type": "stream",
     "text": [
      "------------------------------------------------------------------------------------------------------------------------\n",
      "SOURCE: ['A dog in a grassy field, looking up.']\n",
      "TARGET: ['Ein Hund auf einem grasbewachsenen Feld blickt nach oben.']\n",
      "PREDICTED: Ein Hund Hund auf einer Wiese . . . . . . . . . . . . . .\n",
      "------------------------------------------------------------------------------------------------------------------------\n",
      "SOURCE: ['An elaborate costumed figure is in front of a brightly decorated structure.']\n",
      "TARGET: ['Eine aufwendig kostümierte Figur vor einem prächtig geschmückten Bauwerk.']\n",
      "PREDICTED: Ein - vor einer ist . . . . . . . . . .\n"
     ]
    },
    {
     "name": "stderr",
     "output_type": "stream",
     "text": [
      "Epoch 15: 100%|██████████| 57/57 [00:35<00:00,  1.63it/s, train_loss=2.912, val_loss=2.931]\n"
     ]
    },
    {
     "name": "stdout",
     "output_type": "stream",
     "text": [
      "------------------------------------------------------------------------------------------------------------------------\n",
      "SOURCE: ['A bunch of young adults stare in concentration at their computer monitors as they competitively game.']\n",
      "TARGET: ['Mehrere junge Erwachsene starren konzentriert auf ihre Computermonitore, während sie gegeneinander spielen.']\n",
      "PREDICTED: Eine Gruppe junger junger Erwachsene Erwachsene an . . . . . . . . . . . . .\n",
      "------------------------------------------------------------------------------------------------------------------------\n",
      "SOURCE: ['A woman is barbecuing tasty looking food in the park.']\n",
      "TARGET: ['Eine Frau grillt lecker aussehendes Essen im Park.']\n",
      "PREDICTED: Eine Frau , die schaut in einem Park . . . . . . . . . . . . . . .\n"
     ]
    },
    {
     "name": "stderr",
     "output_type": "stream",
     "text": [
      "Epoch 16: 100%|██████████| 57/57 [00:34<00:00,  1.64it/s, train_loss=2.838, val_loss=2.889]\n"
     ]
    },
    {
     "name": "stdout",
     "output_type": "stream",
     "text": [
      "------------------------------------------------------------------------------------------------------------------------\n",
      "SOURCE: ['A drummer and guitar player play a show in a dark area.']\n",
      "TARGET: ['Ein Schlagzeuger und ein Gitarrist treten in einem dunklen Bereich auf.']\n",
      "PREDICTED: Ein spielt Gitarre und Gitarre spielen in einer in einer in einer Parade . . . . . . . . . . . . . . .\n",
      "------------------------------------------------------------------------------------------------------------------------\n",
      "SOURCE: ['A guy is doing a bike trick in a park.']\n",
      "TARGET: ['Ein Typ macht ein Fahrradkunststück in einem Park.']\n",
      "PREDICTED: Ein Mann Typ macht ein Kunststück in . . . . . . . . . . . . . . . . .\n"
     ]
    },
    {
     "name": "stderr",
     "output_type": "stream",
     "text": [
      "Epoch 17: 100%|██████████| 57/57 [00:34<00:00,  1.63it/s, train_loss=2.771, val_loss=2.849]\n"
     ]
    },
    {
     "name": "stdout",
     "output_type": "stream",
     "text": [
      "------------------------------------------------------------------------------------------------------------------------\n",
      "SOURCE: ['The girl and boy are kissing whilst sitting on a wooden bench.']\n",
      "TARGET: ['Das Mädchen und der Junge küssen sich, während sie auf einer Holzbank sitzen.']\n",
      "PREDICTED: Das Mädchen und ein Junge und Jungen sitzen auf einer Bank . . . . . . . . . . . .\n",
      "------------------------------------------------------------------------------------------------------------------------\n",
      "SOURCE: ['Asian woman in postal delivery uniform is pushing a large pile of packages.']\n",
      "TARGET: ['Asiatin in Postbotenuniform schiebt einen großen Paketstapel.']\n",
      "PREDICTED: Eine asiatische Frau in - Uniform schiebt einen großen Haufen . . . . . . . . . . . . . .\n"
     ]
    },
    {
     "name": "stderr",
     "output_type": "stream",
     "text": [
      "Epoch 18: 100%|██████████| 57/57 [00:35<00:00,  1.62it/s, train_loss=2.707, val_loss=2.814]\n"
     ]
    },
    {
     "name": "stdout",
     "output_type": "stream",
     "text": [
      "------------------------------------------------------------------------------------------------------------------------\n",
      "SOURCE: ['A boy wearing a green shirt on a bicycle reflecting off a store window.']\n",
      "TARGET: ['Das Bild eines Jungen in einem grünen T-Shirt, der auf einem Fahrrad sitzt, spiegelt sich in einer Schaufensterscheibe.']\n",
      "PREDICTED: Ein Junge in einem grünen Hemd auf einem Fahrrad . . . . . . . . . . . . .\n",
      "------------------------------------------------------------------------------------------------------------------------\n",
      "SOURCE: ['Two people walking across a street.']\n",
      "TARGET: ['Zwei Menschen überqueren eine Straße.']\n",
      "PREDICTED: Zwei Personen gehen über eine Straße . . . . . . . . . . . . . . .\n"
     ]
    },
    {
     "name": "stderr",
     "output_type": "stream",
     "text": [
      "Epoch 19: 100%|██████████| 57/57 [00:34<00:00,  1.63it/s, train_loss=2.651, val_loss=2.786]\n"
     ]
    },
    {
     "name": "stdout",
     "output_type": "stream",
     "text": [
      "------------------------------------------------------------------------------------------------------------------------\n",
      "SOURCE: ['A man and a boy are sitting at an altar both are holding bells.']\n",
      "TARGET: ['Ein Mann und ein Junge sitzen an einem Altar und halten beide eine Glocke.']\n",
      "PREDICTED: Ein Mann und ein Junge sitzen an , halten halten . . . . . . . . . . . . . . . . . .\n",
      "------------------------------------------------------------------------------------------------------------------------\n",
      "SOURCE: ['A shaggy young male with a nose ring brushes his teeth.']\n",
      "TARGET: ['Ein zotteliger junger Mann mit einem Nasenring putzt sich die Zähne.']\n",
      "PREDICTED: Ein kleiner Mann mit einem sich die sich die Zähne . . . . . . . . . . . . .\n"
     ]
    },
    {
     "name": "stderr",
     "output_type": "stream",
     "text": [
      "Epoch 20: 100%|██████████| 57/57 [00:34<00:00,  1.64it/s, train_loss=2.598, val_loss=2.769]\n"
     ]
    },
    {
     "name": "stdout",
     "output_type": "stream",
     "text": [
      "------------------------------------------------------------------------------------------------------------------------\n",
      "SOURCE: ['A woman in a domino mask and severe hair is at a party.']\n",
      "TARGET: ['Eine Frau mit einer Domino-Maske und streng frisiertem Haar auf einer Party.']\n",
      "PREDICTED: Eine Frau mit einer . . . . . . . . . . . . . . .\n",
      "------------------------------------------------------------------------------------------------------------------------\n",
      "SOURCE: ['Young girl reaches out to pet a deer.']\n",
      "TARGET: ['Ein kleines Mädchen streckt die Hand aus, um ein Reh zu streicheln.']\n",
      "PREDICTED: Ein Mädchen greift nach nach unten . . . . . . . . . . . . . . .\n"
     ]
    },
    {
     "name": "stderr",
     "output_type": "stream",
     "text": [
      "Epoch 21: 100%|██████████| 57/57 [00:34<00:00,  1.64it/s, train_loss=2.546, val_loss=2.744]\n"
     ]
    },
    {
     "name": "stdout",
     "output_type": "stream",
     "text": [
      "------------------------------------------------------------------------------------------------------------------------\n",
      "SOURCE: ['There are many people in a building with some people cooking food.']\n",
      "TARGET: ['Da sind viele Menschen in einem Gebäude und ein paar Menschen kochen etwas zu essen.']\n",
      "PREDICTED: Viele Menschen viele Menschen in einem Gebäude mit Essen . . . . . . . . . . . . . . . .\n",
      "------------------------------------------------------------------------------------------------------------------------\n",
      "SOURCE: ['Two women dressed in all white and wearing high heels are walking on the street.']\n",
      "TARGET: ['Zwei ganz in Weiß gekleidete Frauen mit hohen Absätzen gehen auf der Straße.']\n",
      "PREDICTED: Zwei Frauen in weiß gekleidete Frauen tragen gehen die Straße entlang . . . . . . . . . .\n"
     ]
    },
    {
     "name": "stderr",
     "output_type": "stream",
     "text": [
      "Epoch 22: 100%|██████████| 57/57 [00:34<00:00,  1.63it/s, train_loss=2.502, val_loss=2.723]\n"
     ]
    },
    {
     "name": "stdout",
     "output_type": "stream",
     "text": [
      "------------------------------------------------------------------------------------------------------------------------\n",
      "SOURCE: ['Several people are enjoying a cigarette near an ashtray.']\n",
      "TARGET: ['Mehrere Menschen genießen eine Zigarette bei einem Aschenbecher.']\n",
      "PREDICTED: Mehrere Personen genießen eine Zigarette und eine Zigarette . . . . . . . . . . . . . . .\n",
      "------------------------------------------------------------------------------------------------------------------------\n",
      "SOURCE: ['A woman is reading a card while sitting on an end of a couch, while another woman is standing next to her holding a glass to drink.']\n",
      "TARGET: ['Eine Frau liest eine Karte und sitzt dabei auf der Kante eines Sofas, während eine andere Frau mit einem Trinkglas in der Hand neben ihr steht.']\n",
      "PREDICTED: Eine Frau liest an einem Ende eines am Ende einer Couch . hält . . an . . . . . . an einem .\n"
     ]
    },
    {
     "name": "stderr",
     "output_type": "stream",
     "text": [
      "Epoch 23: 100%|██████████| 57/57 [00:34<00:00,  1.64it/s, train_loss=2.456, val_loss=2.710]\n"
     ]
    },
    {
     "name": "stdout",
     "output_type": "stream",
     "text": [
      "------------------------------------------------------------------------------------------------------------------------\n",
      "SOURCE: ['A boy smiles for the camera in a group of sitting children.']\n",
      "TARGET: ['Ein Junge in einer Gruppe von sitzenden Kindern lächelt für die Kamera.']\n",
      "PREDICTED: Ein Junge lächelt in die Kamera für Kinder . . . . . . . . . . . . .\n",
      "------------------------------------------------------------------------------------------------------------------------\n",
      "SOURCE: ['A man and woman taking a nap on a makeshift rip.']\n",
      "TARGET: ['Ein Mann und eine Frau machen ein Nickerchen auf einem behelfsmäßigen Boot.']\n",
      "PREDICTED: Ein Mann und eine Frau und eine ein Nickerchen . . . . . . . . . . . . . .\n"
     ]
    },
    {
     "name": "stderr",
     "output_type": "stream",
     "text": [
      "Epoch 24: 100%|██████████| 57/57 [00:34<00:00,  1.63it/s, train_loss=2.417, val_loss=2.687]\n"
     ]
    },
    {
     "name": "stdout",
     "output_type": "stream",
     "text": [
      "------------------------------------------------------------------------------------------------------------------------\n",
      "SOURCE: ['A boy and an old man with a cane are talking.']\n",
      "TARGET: ['Ein Junge und ein alter Mann mit einem Stock unterhalten sich.']\n",
      "PREDICTED: Ein Junge und ein alter Mann mit einem Mann unterhalten . . . . . . . . . . . . . . . .\n",
      "------------------------------------------------------------------------------------------------------------------------\n",
      "SOURCE: ['Four people in casual clothing are standing outside holding garbage bags.']\n",
      "TARGET: ['Vier Menschen in Freizeitkleidung stehen im Freien und halten Mülltüten.']\n",
      "PREDICTED: Vier Personen in legerer Kleidung stehen im Freien mit Taschen . . . . . . . . . . . .\n"
     ]
    },
    {
     "name": "stderr",
     "output_type": "stream",
     "text": [
      "Epoch 25: 100%|██████████| 57/57 [00:34<00:00,  1.63it/s, train_loss=2.379, val_loss=2.683]\n"
     ]
    },
    {
     "name": "stdout",
     "output_type": "stream",
     "text": [
      "------------------------------------------------------------------------------------------------------------------------\n",
      "SOURCE: ['A man in a gray hat and tank top with black shorts doing a handstand.']\n",
      "TARGET: ['Ein Mann mit einer grauen Mütze, Trägershirt und schwarzen Shorts macht einen Handstand.']\n",
      "PREDICTED: Ein Mann mit grauem Hut und schwarzem Oberteil macht einen Handstand . . . . . . . . . . . .\n",
      "------------------------------------------------------------------------------------------------------------------------\n",
      "SOURCE: ['A smashed car with many firefighters cutting into the car.']\n",
      "TARGET: ['Ein zertrümmertes Auto, das von vielen Feuerwehrmännern zerschnitten wird.']\n",
      "PREDICTED: Ein Auto mit vielen . . . . . . . . . . . . .\n"
     ]
    },
    {
     "name": "stderr",
     "output_type": "stream",
     "text": [
      "Epoch 26: 100%|██████████| 57/57 [00:34<00:00,  1.63it/s, train_loss=2.343, val_loss=2.673]\n"
     ]
    },
    {
     "name": "stdout",
     "output_type": "stream",
     "text": [
      "------------------------------------------------------------------------------------------------------------------------\n",
      "SOURCE: ['Two women in spotted dresses walking down a sidewalk.']\n",
      "TARGET: ['Zwei Frauen in gepunkteten Kleidern gehen einen Gehweg entlang.']\n",
      "PREDICTED: Zwei Frauen in Kleidern Kleidern gehen einen Bürgersteig entlang . . . . . . . . . . . .\n",
      "------------------------------------------------------------------------------------------------------------------------\n",
      "SOURCE: ['A gentleman coming out of a laundromat.']\n",
      "TARGET: ['Ein Herr kommt aus einem Waschsalon.']\n",
      "PREDICTED: Ein Herr Herr kommt aus . . . . . . . . . . . . . . . .\n"
     ]
    },
    {
     "name": "stderr",
     "output_type": "stream",
     "text": [
      "Epoch 27: 100%|██████████| 57/57 [00:35<00:00,  1.63it/s, train_loss=2.308, val_loss=2.664]\n"
     ]
    },
    {
     "name": "stdout",
     "output_type": "stream",
     "text": [
      "------------------------------------------------------------------------------------------------------------------------\n",
      "SOURCE: ['A man wearing riding boots and a helmet is riding a white horse, and the horse is jumping a hurdle.']\n",
      "TARGET: ['Ein Mann mit Reitstiefeln und einem Helm reitet auf einem weißen Pferd und das Pferd springt über ein Hindernis.']\n",
      "PREDICTED: Ein Mann mit Stiefeln , Stiefeln und Helm reitet auf einem weißen Pferd springt . Pferd . . . . . . . . . springt . . .\n",
      "------------------------------------------------------------------------------------------------------------------------\n",
      "SOURCE: ['A woman and a boy on stage laughing with a tent in the background.']\n",
      "TARGET: ['Eine Frau und ein Junge auf einer Bühne lachen mit einem Zelt im Hintergrund.']\n",
      "PREDICTED: Eine Frau und ein Junge und ein Junge im Hintergrund lacht . . . . . . . . . . . .\n"
     ]
    },
    {
     "name": "stderr",
     "output_type": "stream",
     "text": [
      "Epoch 28: 100%|██████████| 57/57 [00:34<00:00,  1.63it/s, train_loss=2.275, val_loss=2.657]\n"
     ]
    },
    {
     "name": "stdout",
     "output_type": "stream",
     "text": [
      "------------------------------------------------------------------------------------------------------------------------\n",
      "SOURCE: ['A man sitting in clear shallow water beside a large rock face.']\n",
      "TARGET: ['Ein Mann sitzt im klaren, seichten Wasser an einer großen Felswand.']\n",
      "PREDICTED: Ein Mann sitzt in seichten Wasser neben einem großen Wasser . . . . . . . . . . . . .\n",
      "------------------------------------------------------------------------------------------------------------------------\n",
      "SOURCE: [\"A black man in a chef's coat is on the phone while two other men in aprons laugh.\"]\n",
      "TARGET: ['Ein schwarzer Mann in einer Kochjacke telefoniert, während zwei andere Männer mit Schürzen lachen.']\n",
      "PREDICTED: Ein dunkelhäutiger Mann in einem telefoniert . zwei Männer . lachen . . . . . . . . . . . . .\n"
     ]
    },
    {
     "name": "stderr",
     "output_type": "stream",
     "text": [
      "Epoch 29: 100%|██████████| 57/57 [00:35<00:00,  1.63it/s, train_loss=2.245, val_loss=2.644]\n"
     ]
    },
    {
     "name": "stdout",
     "output_type": "stream",
     "text": [
      "------------------------------------------------------------------------------------------------------------------------\n",
      "SOURCE: ['Three men competing in a hurdle race.']\n",
      "TARGET: ['Drei Männer treten bei einem Hürdenlauf gegeneinander an.']\n",
      "PREDICTED: Drei Männer treten bei einem gegeneinander an . . . . . . . . . . . . . . .\n",
      "------------------------------------------------------------------------------------------------------------------------\n",
      "SOURCE: ['A little girl stands in a puddle outside.']\n",
      "TARGET: ['Ein kleines Mädchen steht draußen in einer Pfütze.']\n",
      "PREDICTED: Ein kleines Mädchen steht in einer Pfütze . . . . . . . . . . . . . . . .\n"
     ]
    },
    {
     "name": "stderr",
     "output_type": "stream",
     "text": [
      "Epoch 30: 100%|██████████| 57/57 [00:34<00:00,  1.63it/s, train_loss=2.214, val_loss=2.641]\n"
     ]
    },
    {
     "name": "stdout",
     "output_type": "stream",
     "text": [
      "------------------------------------------------------------------------------------------------------------------------\n",
      "SOURCE: ['Two men talk to each other behind an organ while a lone woman stands to their right.']\n",
      "TARGET: ['Zwei Männer unterhalten sich hinter einer Orgel, während rechts eine einzelne Frau steht.']\n",
      "PREDICTED: Zwei Männer unterhalten sich miteinander hinter einer . sich eine Frau steht . . . . . . . . . . . .\n",
      "------------------------------------------------------------------------------------------------------------------------\n",
      "SOURCE: ['A hiker posing for a photo in an arid mountain landscape.']\n",
      "TARGET: ['Ein Wanderer posiert für ein Foto in einer trockenen Berglandschaft.']\n",
      "PREDICTED: Ein Wanderer posiert für ein Foto in einer . . . . . . . .\n"
     ]
    }
   ],
   "source": [
    "# Train\n",
    "config = get_training_config()\n",
    "config['batch_size']=512\n",
    "config['N']=3\n",
    "config['d_ff']=512\n",
    "config['model_dir']=\"weights_model_3\"\n",
    "train_model(config)"
   ]
  },
  {
   "cell_type": "code",
   "execution_count": 43,
   "id": "ca396959-4fee-4271-a649-18f08ac8094a",
   "metadata": {
    "scrolled": true
   },
   "outputs": [
    {
     "name": "stdout",
     "output_type": "stream",
     "text": [
      "Using device cuda\n",
      "Train set size: 29000\n",
      "Validation set size: 1014\n",
      "Max length in source: 41\n",
      "Max length in target: 45\n",
      "Loading model from ./weights_model_3/tf_model_30.pt\n"
     ]
    },
    {
     "name": "stderr",
     "output_type": "stream",
     "text": [
      "Epoch 31: 100%|██████████| 57/57 [00:34<00:00,  1.64it/s, train_loss=2.188, val_loss=2.635]\n"
     ]
    },
    {
     "name": "stdout",
     "output_type": "stream",
     "text": [
      "------------------------------------------------------------------------------------------------------------------------\n",
      "SOURCE: ['A young blond girl standing on a pillow on a bed smiling with her eyes closed.']\n",
      "TARGET: ['Ein kleines blondes Mädchen steht auf einem Kissen auf einem Bett und lächelt mit geschlossenen Augen.']\n",
      "PREDICTED: Ein blondes Mädchen steht auf einem Kissen auf einem Bett lächelt . . . . . . . . . . . . . . . .\n",
      "------------------------------------------------------------------------------------------------------------------------\n",
      "SOURCE: ['A young boy and girl are laughing together as the girl holds up a hand sign.']\n",
      "TARGET: ['Ein kleiner Junge und ein Mädchen lachen miteinander, während das Mädchen ein Handzeichen macht.']\n",
      "PREDICTED: Ein Junge und ein Mädchen und Mädchen lachen das Mädchen hält ein Schild hoch . . . . . . . . . . . .\n"
     ]
    },
    {
     "name": "stderr",
     "output_type": "stream",
     "text": [
      "Epoch 32: 100%|██████████| 57/57 [00:35<00:00,  1.62it/s, train_loss=2.159, val_loss=2.633]\n"
     ]
    },
    {
     "name": "stdout",
     "output_type": "stream",
     "text": [
      "------------------------------------------------------------------------------------------------------------------------\n",
      "SOURCE: ['A man in a gray T-shirt works the bellows to start a fire on a brick oven inside a wooden shed.']\n",
      "TARGET: ['Ein Mann in einem grauen T-Shirt betätigt den Blasebalg, um ein Feuer im Ziegelofen einer Holzhütte in Gang zu bringen.']\n",
      "PREDICTED: Ein Mann im grauen T - T - T - T - Shirt arbeitet an einem auf einem . . . . . . . . . . .\n",
      "------------------------------------------------------------------------------------------------------------------------\n",
      "SOURCE: ['A band playing on a sidewalk.']\n",
      "TARGET: ['Eine Band spielt auf dem Gehweg.']\n",
      "PREDICTED: Eine Band spielt auf einem Gehweg . . . . . . . . . . . .\n"
     ]
    },
    {
     "name": "stderr",
     "output_type": "stream",
     "text": [
      "Epoch 33: 100%|██████████| 57/57 [00:34<00:00,  1.63it/s, train_loss=2.134, val_loss=2.626]\n"
     ]
    },
    {
     "name": "stdout",
     "output_type": "stream",
     "text": [
      "------------------------------------------------------------------------------------------------------------------------\n",
      "SOURCE: ['Heavyset woman blowing her hair with a hair dryer smiling all happy']\n",
      "TARGET: ['Eine korpulente Frau trocknet ihr Haar mit einem Föhn und lächelt dabei glücklich']\n",
      "PREDICTED: Eine Frau bläst ihre Haare mit einem lächelt . . . . . . . . . . . . . . . . . .\n",
      "------------------------------------------------------------------------------------------------------------------------\n",
      "SOURCE: ['A couple walks down an isles at a store selling art and history books.']\n",
      "TARGET: ['Ein Paar geht einen Gang in einem Laden entlang, der Kunst- und Geschichtsbücher verkauft.']\n",
      "PREDICTED: Ein Paar geht an einem Geschäft und und Bücher Bücher vorbei . . . . . . . . . . . . . .\n"
     ]
    },
    {
     "name": "stderr",
     "output_type": "stream",
     "text": [
      "Epoch 34: 100%|██████████| 57/57 [00:34<00:00,  1.64it/s, train_loss=2.108, val_loss=2.638]\n"
     ]
    },
    {
     "name": "stdout",
     "output_type": "stream",
     "text": [
      "------------------------------------------------------------------------------------------------------------------------\n",
      "SOURCE: ['An elderly indian man and woman in their home.']\n",
      "TARGET: ['Ein älterer indischer Mann und eine Frau in ihrem Haus.']\n",
      "PREDICTED: Ein älterer indischer Mann und eine Frau in ihrem älterer . . . . . . . . . . . . . .\n",
      "------------------------------------------------------------------------------------------------------------------------\n",
      "SOURCE: ['A toddler is sitting at a table eating a snack.']\n",
      "TARGET: ['Ein kleines Kind sitzt an einem Tisch und isst einen Snack.']\n",
      "PREDICTED: Ein Kleinkind sitzt an einem Tisch isst . . . . . . . . . . . . . . . . . . .\n"
     ]
    },
    {
     "name": "stderr",
     "output_type": "stream",
     "text": [
      "Epoch 35: 100%|██████████| 57/57 [00:34<00:00,  1.63it/s, train_loss=2.086, val_loss=2.628]\n"
     ]
    },
    {
     "name": "stdout",
     "output_type": "stream",
     "text": [
      "------------------------------------------------------------------------------------------------------------------------\n",
      "SOURCE: ['Two girls playing on a tree with their dog.']\n",
      "TARGET: ['Zwei Mädchen spielen mit ihrem Hund auf einem Baum.']\n",
      "PREDICTED: Zwei Mädchen spielen auf einem Baum mit ihrem Hund . . . . . . . . . . . . . . .\n",
      "------------------------------------------------------------------------------------------------------------------------\n",
      "SOURCE: ['A man in an orange robe sweeping outside.']\n",
      "TARGET: ['Ein Mann in einem orangen Gewand fegt im Freien.']\n",
      "PREDICTED: Ein Mann in orangefarbenem Gewand fegt . . . . . . . . . . . . . . . . .\n"
     ]
    },
    {
     "name": "stderr",
     "output_type": "stream",
     "text": [
      "Epoch 36: 100%|██████████| 57/57 [00:34<00:00,  1.63it/s, train_loss=2.063, val_loss=2.631]\n"
     ]
    },
    {
     "name": "stdout",
     "output_type": "stream",
     "text": [
      "------------------------------------------------------------------------------------------------------------------------\n",
      "SOURCE: ['An indian man walks past a temple on his way to pray.']\n",
      "TARGET: ['Ein indischer Mann geht auf dem Weg zum Gebet an einem Tempel vorbei.']\n",
      "PREDICTED: Ein indischer Mann geht an einem Tempel vorbei . um . . . . . . . . . . . . . .\n",
      "------------------------------------------------------------------------------------------------------------------------\n",
      "SOURCE: ['There is a man wrapped in a blanket of some sort sliding down a hill that is covered in snow.']\n",
      "TARGET: ['Da ist ein Mann, der in irgendeine Decke gewickelt ist und einen schneebedeckten Hügel herunterrutscht.']\n",
      "PREDICTED: Ein Mann in eine Decke gewickelt ist in eine Decke hinunter . ist . . . . . . . . . . .\n"
     ]
    },
    {
     "name": "stderr",
     "output_type": "stream",
     "text": [
      "Epoch 37: 100%|██████████| 57/57 [00:34<00:00,  1.63it/s, train_loss=2.039, val_loss=2.637]\n"
     ]
    },
    {
     "name": "stdout",
     "output_type": "stream",
     "text": [
      "------------------------------------------------------------------------------------------------------------------------\n",
      "SOURCE: ['A janitor about to mop in a train station.']\n",
      "TARGET: ['Eine Reinigungskraft ist im Begriff, eine Bahnstation zu wischen.']\n",
      "PREDICTED: Ein Hausmeister Hausmeister wischt in einem Bahnhof . . . . . . . . . . . . . . . . . .\n",
      "------------------------------------------------------------------------------------------------------------------------\n",
      "SOURCE: ['A female playing a song on her violin.']\n",
      "TARGET: ['Eine Frau spielt ein Lied auf ihrer Geige.']\n",
      "PREDICTED: Eine Frau spielt ein Lied auf Geige . . . . . . . . . . . . . . . . . . .\n"
     ]
    },
    {
     "name": "stderr",
     "output_type": "stream",
     "text": [
      "Epoch 38: 100%|██████████| 57/57 [00:34<00:00,  1.64it/s, train_loss=2.021, val_loss=2.637]\n"
     ]
    },
    {
     "name": "stdout",
     "output_type": "stream",
     "text": [
      "------------------------------------------------------------------------------------------------------------------------\n",
      "SOURCE: ['Two men are setting up some electronic equpitment']\n",
      "TARGET: ['Zwei Männer bauen irgendwelche elektronischen Geräte auf']\n",
      "PREDICTED: Zwei Männer mit elektronischen . . . . . . . . . . . . . . .\n",
      "------------------------------------------------------------------------------------------------------------------------\n",
      "SOURCE: ['A dark-haired woman wearing a blue blouse and sunglasses holds a banner while a young girl with braided hair writes on the banner.']\n",
      "TARGET: ['Eine dunkelhaarige Frau mit einer blauen Bluse und Sonnenbrille hält ein Spruchband, während ein junges Mädchen mit geflochtenem Haar auf das Spruchband schreibt.']\n",
      "PREDICTED: Eine dunkelhaarige Frau mit einer blauen Bluse und Sonnenbrille hält ein Banner und ein kleines Mädchen in der ein kleines Mädchen schreibt . . . . . . . . auf dem\n"
     ]
    },
    {
     "name": "stderr",
     "output_type": "stream",
     "text": [
      "Epoch 39: 100%|██████████| 57/57 [00:34<00:00,  1.63it/s, train_loss=2.001, val_loss=2.628]\n"
     ]
    },
    {
     "name": "stdout",
     "output_type": "stream",
     "text": [
      "------------------------------------------------------------------------------------------------------------------------\n",
      "SOURCE: ['A band is playing music on stage at a concert.']\n",
      "TARGET: ['Eine Band spielt bei einem Konzert Musik auf einer Bühne.']\n",
      "PREDICTED: Eine Band Band spielt auf der Bühne Musik . . . . . . . . . . . . . .\n",
      "------------------------------------------------------------------------------------------------------------------------\n",
      "SOURCE: ['A group of black people performing in orange shirts in front of a fenced off park.']\n",
      "TARGET: ['Eine Gruppe von Schwarzen in orangen T-Shirts tritt vor einem eingezäunten Park auf.']\n",
      "PREDICTED: Eine Gruppe von schwarzen Menschen in orangefarbenen Hemden vor einem eingezäunten . . . . . . . . . . . . . . . .\n"
     ]
    },
    {
     "name": "stderr",
     "output_type": "stream",
     "text": [
      "Epoch 40: 100%|██████████| 57/57 [00:34<00:00,  1.63it/s, train_loss=1.982, val_loss=2.631]\n"
     ]
    },
    {
     "name": "stdout",
     "output_type": "stream",
     "text": [
      "------------------------------------------------------------------------------------------------------------------------\n",
      "SOURCE: ['A young man gets ready to kick a soccer ball.']\n",
      "TARGET: ['Ein junger Mann macht sich bereit, einen Fußball zu schießen.']\n",
      "PREDICTED: Ein junger Mann macht sich bereit einen Fußball . . . . . . . . . . .\n",
      "------------------------------------------------------------------------------------------------------------------------\n",
      "SOURCE: ['A mass of people walk through the park.']\n",
      "TARGET: ['Eine Menschenmasse geht durch den Park.']\n",
      "PREDICTED: Eine Leute , die gehen durch . . . . . . . . . . . . . . . . . .\n"
     ]
    },
    {
     "name": "stderr",
     "output_type": "stream",
     "text": [
      "Epoch 41: 100%|██████████| 57/57 [00:34<00:00,  1.63it/s, train_loss=1.964, val_loss=2.636]\n"
     ]
    },
    {
     "name": "stdout",
     "output_type": "stream",
     "text": [
      "------------------------------------------------------------------------------------------------------------------------\n",
      "SOURCE: ['A male is waiting for the train to arrive at the platform.']\n",
      "TARGET: ['Ein Mann wartet am Bahnsteig auf den Zug.']\n",
      "PREDICTED: Ein Mann wartet auf dem Bahnsteig auf die Beine . . . . . . . . . . . . . . .\n",
      "------------------------------------------------------------------------------------------------------------------------\n",
      "SOURCE: ['A female figure skater in a red jacket is practicing her moves.']\n",
      "TARGET: ['Eine Eiskunstläuferin in einer roten Jacke übt ihre Schritte.']\n",
      "PREDICTED: Eine weibliche Person in einer roten Jacke übt . . . . . . . . . . . . . . . .\n"
     ]
    },
    {
     "name": "stderr",
     "output_type": "stream",
     "text": [
      "Epoch 42: 100%|██████████| 57/57 [00:35<00:00,  1.63it/s, train_loss=1.945, val_loss=2.627]\n"
     ]
    },
    {
     "name": "stdout",
     "output_type": "stream",
     "text": [
      "------------------------------------------------------------------------------------------------------------------------\n",
      "SOURCE: ['A racing catamaran is lifted onto one hull in the water.']\n",
      "TARGET: ['Ein Rennkatamaran wird im Wasser auf einen Rumpf gehoben.']\n",
      "PREDICTED: Ein sich auf ein . . . . . . . . . . . .\n",
      "------------------------------------------------------------------------------------------------------------------------\n",
      "SOURCE: ['Several performers dressed in white clothing and maroon hats are lined up facing each other.']\n",
      "TARGET: ['Mehrere weiß gekleidete Darsteller mit kastanienbraunen Kappen stehen einander in Reihen gegenüber.']\n",
      "PREDICTED: Mehrere in weißer und Hüten stehen einander gegenüber . . . . . . . . . . . . . . . . .\n"
     ]
    },
    {
     "name": "stderr",
     "output_type": "stream",
     "text": [
      "Epoch 43: 100%|██████████| 57/57 [00:34<00:00,  1.64it/s, train_loss=1.929, val_loss=2.640]\n"
     ]
    },
    {
     "name": "stdout",
     "output_type": "stream",
     "text": [
      "------------------------------------------------------------------------------------------------------------------------\n",
      "SOURCE: ['Three women smiling and sitting down.']\n",
      "TARGET: ['Drei Frauen sitzen da und lächeln.']\n",
      "PREDICTED: Drei Frauen lächeln und lächeln . . . . . . . . . . . . . . . .\n",
      "------------------------------------------------------------------------------------------------------------------------\n",
      "SOURCE: ['A man sitting on a chair with a beer in his hands roasting something to eat on a wooden stick.']\n",
      "TARGET: ['Ein Mann sitzt mit einem Bier in der Hand auf einem Stuhl und brät an einem Holzstab etwas zu essen.']\n",
      "PREDICTED: Ein Mann sitzt auf einem Stuhl mit einem Bier in seinen Händen an etwas essen . . . . . . . . . . an einem hölzernen . . . .\n"
     ]
    },
    {
     "name": "stderr",
     "output_type": "stream",
     "text": [
      "Epoch 44: 100%|██████████| 57/57 [00:34<00:00,  1.63it/s, train_loss=1.912, val_loss=2.649]\n"
     ]
    },
    {
     "name": "stdout",
     "output_type": "stream",
     "text": [
      "------------------------------------------------------------------------------------------------------------------------\n",
      "SOURCE: ['One man and two women wearing shorts, walk down the street.']\n",
      "TARGET: ['Ein Mann und zwei Frauen in Shorts gehen die Straße entlang.']\n",
      "PREDICTED: Ein Mann und zwei Frauen in Shorts gehen gehen die Straße entlang . . . . . . . . . . . . . .\n",
      "------------------------------------------------------------------------------------------------------------------------\n",
      "SOURCE: ['A boy getting his hair buzzed off by another boy.']\n",
      "TARGET: ['Einem Jungen werden von einem anderen Jungen die Haare abrasiert.']\n",
      "PREDICTED: Ein Junge lässt von einem anderen Jungen . . . . . . . . . . . . . . . .\n"
     ]
    },
    {
     "name": "stderr",
     "output_type": "stream",
     "text": [
      "Epoch 45: 100%|██████████| 57/57 [00:34<00:00,  1.63it/s, train_loss=1.897, val_loss=2.655]\n"
     ]
    },
    {
     "name": "stdout",
     "output_type": "stream",
     "text": [
      "------------------------------------------------------------------------------------------------------------------------\n",
      "SOURCE: ['A woman in a yellow t-shirt and sunglasses walks down a sidewalk.']\n",
      "TARGET: ['Eine Frau mit einem gelben T-Shirt und Sonnenbrille geht einen Gehweg entlang.']\n",
      "PREDICTED: Eine Frau in gelbem T - T - T - Shirt und Sonnenbrille geht einen Bürgersteig entlang . . . . . . . . . .\n",
      "------------------------------------------------------------------------------------------------------------------------\n",
      "SOURCE: ['The FedEx driver listens to the workman in the green hard hat while the equipment to ship is being loaded.']\n",
      "TARGET: ['Der FedEx-Fahrer hört dem Arbeiter mit dem grünen Schutzhelm zu, während die zu versendende Ausrüstung eingeladen wird.']\n",
      "PREDICTED: Der Fahrer des Arbeiter in der Arbeiter mit Schutzhelm . . . . . . . . . . . . .\n"
     ]
    },
    {
     "name": "stderr",
     "output_type": "stream",
     "text": [
      "Epoch 46: 100%|██████████| 57/57 [00:34<00:00,  1.64it/s, train_loss=1.881, val_loss=2.646]\n"
     ]
    },
    {
     "name": "stdout",
     "output_type": "stream",
     "text": [
      "------------------------------------------------------------------------------------------------------------------------\n",
      "SOURCE: ['4 people trying to fix a bike on a park']\n",
      "TARGET: ['Vier Menschen versuchen in einem Park, ein Fahrrad zu reparieren']\n",
      "PREDICTED: 4 Personen versuchen ein Fahrrad zu reparieren . . . . . . . . . . . .\n",
      "------------------------------------------------------------------------------------------------------------------------\n",
      "SOURCE: ['A blond boy in a blue shirt is sitting with a woman wearing glasses.']\n",
      "TARGET: ['Ein blonder Junge mit einem blauen T-Shirt sitzt bei einer Frau mit Brille.']\n",
      "PREDICTED: Ein blonder Junge in blauem Hemd sitzt mit einer Frau mit Brille . . . . . . . . . . . . . . . . . .\n"
     ]
    },
    {
     "name": "stderr",
     "output_type": "stream",
     "text": [
      "Epoch 47: 100%|██████████| 57/57 [00:34<00:00,  1.64it/s, train_loss=1.867, val_loss=2.652]\n"
     ]
    },
    {
     "name": "stdout",
     "output_type": "stream",
     "text": [
      "------------------------------------------------------------------------------------------------------------------------\n",
      "SOURCE: ['A woman in a green shirt is walking down a crowded street.']\n",
      "TARGET: ['Eine Frau in einem grünen Shirt geht eine belebte Straße entlang.']\n",
      "PREDICTED: Eine Frau in grünem Hemd geht eine belebte Straße entlang . . . . . . . . . . . . . . . .\n",
      "------------------------------------------------------------------------------------------------------------------------\n",
      "SOURCE: ['Several people are walking beside a white fence in a foreign country.']\n",
      "TARGET: ['Mehrere Menschen gehen in einem fremden Land an einem weißen Zaun entlang.']\n",
      "PREDICTED: Mehrere Menschen gehen neben einem weißen in einem weißen Land . . . . . . . . . . . . . . . . . .\n"
     ]
    },
    {
     "name": "stderr",
     "output_type": "stream",
     "text": [
      "Epoch 48: 100%|██████████| 57/57 [00:34<00:00,  1.64it/s, train_loss=1.853, val_loss=2.646]\n"
     ]
    },
    {
     "name": "stdout",
     "output_type": "stream",
     "text": [
      "------------------------------------------------------------------------------------------------------------------------\n",
      "SOURCE: ['Scene of a person shoveling snow citizens walking around in a cold winter environment']\n",
      "TARGET: ['Szene eines Mannes beim Schneeschippen, Bürger, die in einer kalten, winterlichen Umgebung herumlaufen']\n",
      "PREDICTED: Eine Person eine Person , die in einem kalten Schnee . gehen an . . . . . . . . . . .\n",
      "------------------------------------------------------------------------------------------------------------------------\n",
      "SOURCE: ['A man in a harness climbing a rock wall']\n",
      "TARGET: ['Ein Mann in einem Klettergurt klettert an einer Felswand']\n",
      "PREDICTED: Ein Mann in Geschirr mit Klettergurt klettert . . . . . . . . . . . .\n"
     ]
    },
    {
     "name": "stderr",
     "output_type": "stream",
     "text": [
      "Epoch 49: 100%|██████████| 57/57 [00:34<00:00,  1.63it/s, train_loss=1.839, val_loss=2.655]\n"
     ]
    },
    {
     "name": "stdout",
     "output_type": "stream",
     "text": [
      "------------------------------------------------------------------------------------------------------------------------\n",
      "SOURCE: ['People boating on a lake with the sun through the clouds in the distance.']\n",
      "TARGET: ['Menschen fahren mit dem Boot auf einem See, während in der Ferne die Sonne durch die Wolken bricht.']\n",
      "PREDICTED: Leute in einem Boot auf einem See in der Sonne die Sonne . . . . . . . . . . . . . . .\n",
      "------------------------------------------------------------------------------------------------------------------------\n",
      "SOURCE: ['A man crouches in front of a yellow wall.']\n",
      "TARGET: ['Ein Mann kauert vor einer gelben Mauer.']\n",
      "PREDICTED: Ein Mann hockt Mann hockt vor . . . . . . . . . . . .\n"
     ]
    },
    {
     "name": "stderr",
     "output_type": "stream",
     "text": [
      "Epoch 50: 100%|██████████| 57/57 [00:35<00:00,  1.63it/s, train_loss=1.825, val_loss=2.663]\n"
     ]
    },
    {
     "name": "stdout",
     "output_type": "stream",
     "text": [
      "------------------------------------------------------------------------------------------------------------------------\n",
      "SOURCE: ['A young child rides a motorbike through the mud.']\n",
      "TARGET: ['Ein kleines Kind fährt auf einem Motorrad durch den Schlamm.']\n",
      "PREDICTED: Ein kleines Kind fährt Motorrad durch Schlamm . . . . . . . . . . . . . . . . .\n",
      "------------------------------------------------------------------------------------------------------------------------\n",
      "SOURCE: ['A group camps in a desolate area.']\n",
      "TARGET: ['Eine Gruppe kampiert in einer einsamen Gegend.']\n",
      "PREDICTED: Eine Gruppe . . . . . . . . . . . . . . . . . .\n"
     ]
    }
   ],
   "source": [
    "# Train 20 more epochs\n",
    "config = get_training_config()\n",
    "config['batch_size']=512\n",
    "config['N']=3\n",
    "config['d_ff']=512\n",
    "config['model_dir']=\"weights_model_3\"\n",
    "config['num_epochs'] = 50\n",
    "config['preload'] = 30\n",
    "train_model(config)"
   ]
  },
  {
   "cell_type": "code",
   "execution_count": 48,
   "id": "4c32d40a-910e-4f22-8443-e6762c55f057",
   "metadata": {},
   "outputs": [
    {
     "data": {
      "text/plain": [
       "<matplotlib.legend.Legend at 0x7f915b05ba60>"
      ]
     },
     "execution_count": 48,
     "metadata": {},
     "output_type": "execute_result"
    },
    {
     "data": {
      "image/png": "[encoded data removed]",
      "text/plain": [
       "<Figure size 640x480 with 1 Axes>"
      ]
     },
     "metadata": {},
     "output_type": "display_data"
    }
   ],
   "source": [
    "# Plot loss curves\n",
    "model_state = torch.load('./weights_model_3/tf_model_50.pt')\n",
    "loss_df = pd.DataFrame(model_state['losses'])\n",
    "plt.plot(loss_df['epoch']+1, loss_df['train_loss'])\n",
    "plt.plot(loss_df['epoch']+1, loss_df['val_loss'])\n",
    "plt.xlabel('Epoch')\n",
    "plt.ylabel('Loss')\n",
    "plt.legend([\"Training\", \"Validation\"], loc=\"upper right\")"
   ]
  },
  {
   "cell_type": "markdown",
   "id": "28a27f1f-d81c-4bf8-8875-ebff26254479",
   "metadata": {},
   "source": [
    "**Model 4**:\\\n",
    "d_model=512, d_ff=512, N=3, dropout=0.1\\\n",
    "batch_size=64, betas=(0.9, 0.98)"
   ]
  },
  {
   "cell_type": "code",
   "execution_count": 44,
   "id": "aee74fc0-95f1-4a6a-a91e-4d0fea7ae44b",
   "metadata": {
    "scrolled": true
   },
   "outputs": [
    {
     "name": "stdout",
     "output_type": "stream",
     "text": [
      "Using device cuda\n"
     ]
    },
    {
     "data": {
      "application/vnd.jupyter.widget-view+json": {
       "model_id": "4a546d11049b4e27833da38776609b58",
       "version_major": 2,
       "version_minor": 0
      },
      "text/plain": [
       "Filter:   0%|          | 0/29000 [00:00<?, ? examples/s]"
      ]
     },
     "metadata": {},
     "output_type": "display_data"
    },
    {
     "data": {
      "application/vnd.jupyter.widget-view+json": {
       "model_id": "2368437b7c074107999ee20f2ca9bbab",
       "version_major": 2,
       "version_minor": 0
      },
      "text/plain": [
       "Filter:   0%|          | 0/1014 [00:00<?, ? examples/s]"
      ]
     },
     "metadata": {},
     "output_type": "display_data"
    },
    {
     "name": "stdout",
     "output_type": "stream",
     "text": [
      "Train set size: 29000\n",
      "Validation set size: 1014\n",
      "Max length in source: 41\n",
      "Max length in target: 45\n"
     ]
    },
    {
     "name": "stderr",
     "output_type": "stream",
     "text": [
      "Epoch 01: 100%|██████████| 454/454 [00:32<00:00, 13.80it/s, train_loss=5.256, val_loss=4.270]\n"
     ]
    },
    {
     "name": "stdout",
     "output_type": "stream",
     "text": [
      "------------------------------------------------------------------------------------------------------------------------\n",
      "SOURCE: ['A boy in a blue, playing soccer, about to kick the ball.']\n",
      "TARGET: ['Ein Junge in Blau spielt Fußball und ist im Begriff, den Ball zu schießen.']\n",
      "PREDICTED: Ein Junge Junge in einem . . . . .\n",
      "------------------------------------------------------------------------------------------------------------------------\n",
      "SOURCE: ['A woman and two boys looking at an information station.']\n",
      "TARGET: ['Eine Frau und zwei Jungen blicken auf einen Informationsstand.']\n",
      "PREDICTED: Eine Frau und Frau und ein . . . . . .\n"
     ]
    },
    {
     "name": "stderr",
     "output_type": "stream",
     "text": [
      "Epoch 02: 100%|██████████| 454/454 [00:32<00:00, 13.90it/s, train_loss=4.129, val_loss=3.663]\n"
     ]
    },
    {
     "name": "stdout",
     "output_type": "stream",
     "text": [
      "------------------------------------------------------------------------------------------------------------------------\n",
      "SOURCE: ['Two people are running at the top of a mountain.']\n",
      "TARGET: ['Zwei Menschen rennen auf dem Gipfel eines Berges.']\n",
      "PREDICTED: Zwei Personen gehen durch einen . . . . . . . . . .\n",
      "------------------------------------------------------------------------------------------------------------------------\n",
      "SOURCE: ['Kids conversing and learning in class.']\n",
      "TARGET: ['Kinder einer Schulklasse sprechen miteinander und lernen.']\n",
      "PREDICTED: Kinder Kinder und stehen in . . . . . . . . . . . . . .\n"
     ]
    },
    {
     "name": "stderr",
     "output_type": "stream",
     "text": [
      "Epoch 03: 100%|██████████| 454/454 [00:31<00:00, 14.63it/s, train_loss=3.678, val_loss=3.353]\n"
     ]
    },
    {
     "name": "stdout",
     "output_type": "stream",
     "text": [
      "------------------------------------------------------------------------------------------------------------------------\n",
      "SOURCE: ['Four women dressed up in funny costumes.']\n",
      "TARGET: ['Vier Frauen haben sich mit lustigen Kostümen verkleidet.']\n",
      "PREDICTED: Vier Frauen in . . . . . . . . . . . . . . . .\n",
      "------------------------------------------------------------------------------------------------------------------------\n",
      "SOURCE: ['A boy getting his hair buzzed off by another boy.']\n",
      "TARGET: ['Einem Jungen werden von einem anderen Jungen die Haare abrasiert.']\n",
      "PREDICTED: Ein Junge Junge von einem anderen anderen . . . . . . . . . . . . . . .\n"
     ]
    },
    {
     "name": "stderr",
     "output_type": "stream",
     "text": [
      "Epoch 04: 100%|██████████| 454/454 [00:31<00:00, 14.52it/s, train_loss=3.378, val_loss=3.117]\n"
     ]
    },
    {
     "name": "stdout",
     "output_type": "stream",
     "text": [
      "------------------------------------------------------------------------------------------------------------------------\n",
      "SOURCE: ['Three older women in a living room, decorated for Christmas, a \"VAIO\" notebook is the center of attention.']\n",
      "TARGET: ['Drei ältere Frauen in einem weihnachtlich geschmückten Wohnzimmer, im Zentrum der Aufmerksamkeit steht ein VAIO-Notebook.']\n",
      "PREDICTED: Drei ältere Frauen Frauen in einem Raum , , , , , der . . . . . . .\n",
      "------------------------------------------------------------------------------------------------------------------------\n",
      "SOURCE: ['A man with glasses and a little girl with a life jacket swimming in a pool.']\n",
      "TARGET: ['Ein Mann mit Brille und ein kleines Mädchen mit einer Schwimmweste schwimmen in einem Pool.']\n",
      "PREDICTED: Ein Mann mit Brille und mit Brille ein kleines Mädchen in einem Schwimmbecken in einem Schwimmbecken . . . . . . . . . . . .\n"
     ]
    },
    {
     "name": "stderr",
     "output_type": "stream",
     "text": [
      "Epoch 05: 100%|██████████| 454/454 [00:33<00:00, 13.63it/s, train_loss=3.148, val_loss=2.964]\n"
     ]
    },
    {
     "name": "stdout",
     "output_type": "stream",
     "text": [
      "------------------------------------------------------------------------------------------------------------------------\n",
      "SOURCE: ['A young man in a green sweatshirt reads a newspaper on the beach.']\n",
      "TARGET: ['Ein junger Mann in einem grünen Sweatshirt liest eine Zeitung am Strand.']\n",
      "PREDICTED: Ein junger Mann in einem grünen Pullover liest liest Zeitung am Strand . . . . . . . . .\n",
      "------------------------------------------------------------------------------------------------------------------------\n",
      "SOURCE: ['Man with Mardi Gras Beads around his neck holding pole with banner']\n",
      "TARGET: ['Mann mit Mardi-Gras-Perlen um den Hals trägt Stange mit Banner']\n",
      "PREDICTED: Ein Mann mit um seinen um mit mit der . . . . . . . . .\n"
     ]
    },
    {
     "name": "stderr",
     "output_type": "stream",
     "text": [
      "Epoch 06: 100%|██████████| 454/454 [00:32<00:00, 13.79it/s, train_loss=2.963, val_loss=2.830]\n"
     ]
    },
    {
     "name": "stdout",
     "output_type": "stream",
     "text": [
      "------------------------------------------------------------------------------------------------------------------------\n",
      "SOURCE: ['A woman in a red dress with red-hair standing before a bright, multicolored home.']\n",
      "TARGET: ['Eine Frau mit einem roten Kleid und rotem Haar steht vor einem leuchtend bunten Haus.']\n",
      "PREDICTED: Eine Frau in einem roten Kleid mit roten Haaren vor einem . . . . . . . . .\n",
      "------------------------------------------------------------------------------------------------------------------------\n",
      "SOURCE: ['Two boys in a tent smile for the camera.']\n",
      "TARGET: ['Zwei Jungen in einem Zelt lächeln für die Kamera.']\n",
      "PREDICTED: Zwei Jungen Jungen in einem Zelt lächeln in die Kamera . . . . . . . . . . . .\n"
     ]
    },
    {
     "name": "stderr",
     "output_type": "stream",
     "text": [
      "Epoch 07: 100%|██████████| 454/454 [00:32<00:00, 13.89it/s, train_loss=2.815, val_loss=2.746]\n"
     ]
    },
    {
     "name": "stdout",
     "output_type": "stream",
     "text": [
      "------------------------------------------------------------------------------------------------------------------------\n",
      "SOURCE: ['Heavyset woman blowing her hair with a hair dryer smiling all happy']\n",
      "TARGET: ['Eine korpulente Frau trocknet ihr Haar mit einem Föhn und lächelt dabei glücklich']\n",
      "PREDICTED: Eine Frau ihre ihre Haar mit einem Haar lächelt . . . . . . . .\n",
      "------------------------------------------------------------------------------------------------------------------------\n",
      "SOURCE: ['A woman in a restaurant is drinking out of a coconut, using a straw.']\n",
      "TARGET: ['Eine Frau in einem Restaurant trinkt mit einem Strohhalm aus einer Kokosnuss.']\n",
      "PREDICTED: Eine Frau in einem Restaurant Restaurant trinkt aus einem . . . . . . . . .\n"
     ]
    },
    {
     "name": "stderr",
     "output_type": "stream",
     "text": [
      "Epoch 08: 100%|██████████| 454/454 [00:33<00:00, 13.37it/s, train_loss=2.694, val_loss=2.693]\n"
     ]
    },
    {
     "name": "stdout",
     "output_type": "stream",
     "text": [
      "------------------------------------------------------------------------------------------------------------------------\n",
      "SOURCE: ['Swimmers stand on various levels of a large diving board complex in a room with figures from mythology painted on the wall.']\n",
      "TARGET: ['Schwimmer stehen auf den verschiedenen Stufen eines großen Sprungturms in einem Raum, dessen Wände mit Figuren aus der Mythologie bemalt sind.']\n",
      "PREDICTED: Tänzer stehen auf verschiedene in einem großen , springt in einem Raum , und mit einer an der Wand . an der Wand . . . an der Wand . an der Wand sind . .\n",
      "------------------------------------------------------------------------------------------------------------------------\n",
      "SOURCE: ['A man in a white shirt is sitting on a crate.']\n",
      "TARGET: ['Ein Mann in einem weißen T-Shirt sitzt auf einer Kiste.']\n",
      "PREDICTED: Ein Mann in weißem Hemd sitzt auf einer . . . . . . . . . . . . . .\n"
     ]
    },
    {
     "name": "stderr",
     "output_type": "stream",
     "text": [
      "Epoch 09: 100%|██████████| 454/454 [00:33<00:00, 13.69it/s, train_loss=2.592, val_loss=2.650]\n"
     ]
    },
    {
     "name": "stdout",
     "output_type": "stream",
     "text": [
      "------------------------------------------------------------------------------------------------------------------------\n",
      "SOURCE: ['A toddler in a denim hats plays in a tire.']\n",
      "TARGET: ['Ein kleines Kind mit Jeanshut spielt in einem Reifen.']\n",
      "PREDICTED: Ein Kleinkind in Jeans und Hüten spielt in einem Reifen . . . . . . . . . . . . .\n",
      "------------------------------------------------------------------------------------------------------------------------\n",
      "SOURCE: ['4 kids sit on a ledge and converse.']\n",
      "TARGET: ['Vier Kinder sitzen auf einem Vorsprung und unterhalten sich.']\n",
      "PREDICTED: Vier Kinder sitzen auf einem und unterhalten sich . . . . . . . . . . . .\n"
     ]
    },
    {
     "name": "stderr",
     "output_type": "stream",
     "text": [
      "Epoch 10: 100%|██████████| 454/454 [00:33<00:00, 13.68it/s, train_loss=2.503, val_loss=2.603]\n"
     ]
    },
    {
     "name": "stdout",
     "output_type": "stream",
     "text": [
      "------------------------------------------------------------------------------------------------------------------------\n",
      "SOURCE: ['A room full of sitting and standing adults and children, and eight pink and black balloons hanging from the ceiling.']\n",
      "TARGET: ['Ein Raum voll mit sitzenden und stehenden Erwachsenen und Kindern, in dem acht pinkfarbene und schwarze Luftballons von der Decke hängen.']\n",
      "PREDICTED: Ein Raum voller und Erwachsene und Erwachsene , Kinder und schwarze und schwarze , die Decke , die Decke , die Decke und eine Decke . Decke . . lächeln . Decke . sind . Decke . Decke .\n",
      "------------------------------------------------------------------------------------------------------------------------\n",
      "SOURCE: ['A little girl donates to the Salvation Army near a storefront with white, plastic containers.']\n",
      "TARGET: ['Ein kleines Mädchen spendet an einer Ladenfront mit weißen Plastikbehältern für die Heilsarmee.']\n",
      "PREDICTED: Ein kleines Mädchen , das in der in der Nähe einer mit weißen mit weißen . . . . . . . . .\n"
     ]
    },
    {
     "name": "stderr",
     "output_type": "stream",
     "text": [
      "Epoch 11: 100%|██████████| 454/454 [00:33<00:00, 13.69it/s, train_loss=2.424, val_loss=2.572]\n"
     ]
    },
    {
     "name": "stdout",
     "output_type": "stream",
     "text": [
      "------------------------------------------------------------------------------------------------------------------------\n",
      "SOURCE: ['The lady wearing a black hat is taking a picture while the snowfalls.']\n",
      "TARGET: ['Die Frau mit einem schwarzen Hut macht ein Foto bei Schneefall.']\n",
      "PREDICTED: Die Dame mit schwarzem Hut macht ein Foto macht ein Foto . . . . . . .\n",
      "------------------------------------------------------------------------------------------------------------------------\n",
      "SOURCE: ['Two boys in a tent smile for the camera.']\n",
      "TARGET: ['Zwei Jungen in einem Zelt lächeln für die Kamera.']\n",
      "PREDICTED: Zwei Jungen in einem Zelt lächeln für die Kamera . . . . . . . . . .\n"
     ]
    },
    {
     "name": "stderr",
     "output_type": "stream",
     "text": [
      "Epoch 12: 100%|██████████| 454/454 [00:31<00:00, 14.46it/s, train_loss=2.357, val_loss=2.568]\n"
     ]
    },
    {
     "name": "stdout",
     "output_type": "stream",
     "text": [
      "------------------------------------------------------------------------------------------------------------------------\n",
      "SOURCE: ['A baby in a bouncy seat and a standing boy surrounded by toys.']\n",
      "TARGET: ['Ein Baby in einer Wippe und ein stehender Junge, die von Spielzeug umgeben sind.']\n",
      "PREDICTED: Ein Baby in einer und ein umgeben von Spielzeug . . . . . . . . .\n",
      "------------------------------------------------------------------------------------------------------------------------\n",
      "SOURCE: ['There are construction workers working hard on a project.']\n",
      "TARGET: ['Bauarbeiter arbeiten hart an einem Bauvorhaben.']\n",
      "PREDICTED: Bauarbeiter Bauarbeiter arbeiten an einem Projekt . . . . . . . .\n"
     ]
    },
    {
     "name": "stderr",
     "output_type": "stream",
     "text": [
      "Epoch 13: 100%|██████████| 454/454 [00:33<00:00, 13.46it/s, train_loss=2.295, val_loss=2.554]\n"
     ]
    },
    {
     "name": "stdout",
     "output_type": "stream",
     "text": [
      "------------------------------------------------------------------------------------------------------------------------\n",
      "SOURCE: ['A small Asian girl runs into focus down a brick street.']\n",
      "TARGET: ['Ein kleines asiatisches Mädchen rennt entlang einer gepflasterten Straße in den Fokus.']\n",
      "PREDICTED: Ein kleines asiatisches asiatisches Mädchen läuft eine Backsteinstraße . . . . . . .\n",
      "------------------------------------------------------------------------------------------------------------------------\n",
      "SOURCE: ['A blond-haired woman wearing a blue shirt unwraps a hat.']\n",
      "TARGET: ['Eine blonde Frau in einem blauen T-Shirt packt eine Mütze aus.']\n",
      "PREDICTED: Eine blonde Frau in blauem Hemd eine . . . . . . . . .\n"
     ]
    },
    {
     "name": "stderr",
     "output_type": "stream",
     "text": [
      "Epoch 14: 100%|██████████| 454/454 [00:34<00:00, 13.20it/s, train_loss=2.243, val_loss=2.547]\n"
     ]
    },
    {
     "name": "stdout",
     "output_type": "stream",
     "text": [
      "------------------------------------------------------------------------------------------------------------------------\n",
      "SOURCE: ['A little girl peering over a blue wall.']\n",
      "TARGET: ['Ein kleines Mädchen späht über eine blaue Mauer.']\n",
      "PREDICTED: Ein kleines Mädchen schaut über eine blaue Wand . . . . . . . . .\n",
      "------------------------------------------------------------------------------------------------------------------------\n",
      "SOURCE: ['A man in a red and white striped shirts sits on a stool at a hotdog stand.']\n",
      "TARGET: ['Ein Mann in einem rot-weiß gestreiften Hemd sitzt auf einem Hocker an einem Hotdog-Stand.']\n",
      "PREDICTED: Ein Mann in rot und weiß gestreiften Hemden gestreiften Hemd auf einem einen Teller . . . . . . . . . .\n"
     ]
    },
    {
     "name": "stderr",
     "output_type": "stream",
     "text": [
      "Epoch 15: 100%|██████████| 454/454 [00:33<00:00, 13.38it/s, train_loss=2.190, val_loss=2.531]\n"
     ]
    },
    {
     "name": "stdout",
     "output_type": "stream",
     "text": [
      "------------------------------------------------------------------------------------------------------------------------\n",
      "SOURCE: ['A band playing in an outdoor theater, along the river.']\n",
      "TARGET: ['Eine Band spielt auf einer Freilichtbühne am Fluss.']\n",
      "PREDICTED: Eine Band spielt in einem im Freien , . . . . . . .\n",
      "------------------------------------------------------------------------------------------------------------------------\n",
      "SOURCE: ['The women is holding the boy while looking across the street.']\n",
      "TARGET: ['Die Frau hält den Jungen fest, während sie über die Straße blickt.']\n",
      "PREDICTED: Die Frau hält die einen Jungen und schauen über die Straße . . . . . . . . . .\n"
     ]
    },
    {
     "name": "stderr",
     "output_type": "stream",
     "text": [
      "Epoch 16: 100%|██████████| 454/454 [00:31<00:00, 14.24it/s, train_loss=2.141, val_loss=2.548]\n"
     ]
    },
    {
     "name": "stdout",
     "output_type": "stream",
     "text": [
      "------------------------------------------------------------------------------------------------------------------------\n",
      "SOURCE: ['A kid on skating ramp practicing cool moves.']\n",
      "TARGET: ['Ein Jugendlicher übt coole Moves auf einer Skateboardrampe.']\n",
      "PREDICTED: Ein Kind Skateboard , das Skateboard , das . . . . . .\n",
      "------------------------------------------------------------------------------------------------------------------------\n",
      "SOURCE: ['A young man is skateboarding on a cement block wall.']\n",
      "TARGET: ['Ein junger Mann fährt mit dem Skateboard auf einer Betonsteinmauer.']\n",
      "PREDICTED: Ein junger Mann fährt Skateboard auf einer an einer . . . . . . . . . .\n"
     ]
    },
    {
     "name": "stderr",
     "output_type": "stream",
     "text": [
      "Epoch 17: 100%|██████████| 454/454 [00:34<00:00, 13.24it/s, train_loss=2.101, val_loss=2.536]\n"
     ]
    },
    {
     "name": "stdout",
     "output_type": "stream",
     "text": [
      "------------------------------------------------------------------------------------------------------------------------\n",
      "SOURCE: ['People in a produce store picking produce to buy']\n",
      "TARGET: ['Menschen in einem Laden wählen Produkte zum Kauf aus']\n",
      "PREDICTED: Menschen in einem Geschäft kaufen kaufen kaufen kaufen . . . . . . . . . . . .\n",
      "------------------------------------------------------------------------------------------------------------------------\n",
      "SOURCE: ['A young woman in \"street clothes\" and boots by a lake performing a ballet move.']\n",
      "TARGET: ['Eine junge Frau in „Straßenkleidung“ und Stiefeln führt eine Ballettübung an einem See aus.']\n",
      "PREDICTED: Eine junge Frau in „ auf der Straße mit Stiefeln und eine . . . . . . . . . .\n"
     ]
    },
    {
     "name": "stderr",
     "output_type": "stream",
     "text": [
      "Epoch 18: 100%|██████████| 454/454 [00:33<00:00, 13.66it/s, train_loss=2.058, val_loss=2.539]\n"
     ]
    },
    {
     "name": "stdout",
     "output_type": "stream",
     "text": [
      "------------------------------------------------------------------------------------------------------------------------\n",
      "SOURCE: ['Two men in red robes performing martial arts.']\n",
      "TARGET: ['Zwei Männer in roten Gewändern führen eine Kampfsportübung durch.']\n",
      "PREDICTED: Zwei Männer in roten Gewändern Kampfsport Kampfsport . . . . . . . . . . .\n",
      "------------------------------------------------------------------------------------------------------------------------\n",
      "SOURCE: ['People are crossing a tree lined street in front of a building.']\n",
      "TARGET: ['Menschen überqueren eine baumgesäumte Straße vor einem Gebäude.']\n",
      "PREDICTED: Leute überqueren eine Straße , an einer von Bäumen Straße . . . . . . . . . . .\n"
     ]
    },
    {
     "name": "stderr",
     "output_type": "stream",
     "text": [
      "Epoch 19: 100%|██████████| 454/454 [00:33<00:00, 13.41it/s, train_loss=2.022, val_loss=2.542]\n"
     ]
    },
    {
     "name": "stdout",
     "output_type": "stream",
     "text": [
      "------------------------------------------------------------------------------------------------------------------------\n",
      "SOURCE: ['An elderly Asian woman is wearing a beret, sunglasses, a yellow scarf, and a plaid jacket.']\n",
      "TARGET: ['Eine ältere Asiatin trägt eine Baskenmütze, eine Sonnenbrille, einen gelben Schal und eine karierte Jacke.']\n",
      "PREDICTED: Eine ältere asiatische Frau mit einer Baskenmütze mit Sonnenbrille , Sonnenbrille und eine gelbe Jacke und eine karierten Jacke . . . . . . . . . . . .\n",
      "------------------------------------------------------------------------------------------------------------------------\n",
      "SOURCE: ['A street performer in an orange jumpsuit rides a tall unicycle as a crowd watches']\n",
      "TARGET: ['Ein Straßenkünstler in einem orangen Overall fährt auf einem großen Einrad, während eine Menschenmenge zusieht']\n",
      "PREDICTED: Ein Straßenkünstler Straßenkünstler in orangefarbenem Overall fährt ein hohen Einrad und die Menge beobachtet . beobachtet . beobachtet . . . . . . . . . zuschaut .\n"
     ]
    },
    {
     "name": "stderr",
     "output_type": "stream",
     "text": [
      "Epoch 20: 100%|██████████| 454/454 [00:32<00:00, 13.90it/s, train_loss=1.986, val_loss=2.542]\n"
     ]
    },
    {
     "name": "stdout",
     "output_type": "stream",
     "text": [
      "------------------------------------------------------------------------------------------------------------------------\n",
      "SOURCE: ['Travelers on a very cold day hiking.']\n",
      "TARGET: ['Reisende beim Wandern an einem sehr kalten Tag.']\n",
      "PREDICTED: an einem sehr Tag wandert . . . . . . . . . . .\n",
      "------------------------------------------------------------------------------------------------------------------------\n",
      "SOURCE: ['A group of people listening to a man talking outside.']\n",
      "TARGET: ['Eine Gruppe von Menschen hört einem Mann im Freien beim Sprechen zu.']\n",
      "PREDICTED: Eine Gruppe Leute hört zu einem Mann hört zu . . . . . . . . . . . . . .\n"
     ]
    },
    {
     "name": "stderr",
     "output_type": "stream",
     "text": [
      "Epoch 21: 100%|██████████| 454/454 [00:32<00:00, 13.85it/s, train_loss=1.953, val_loss=2.551]\n"
     ]
    },
    {
     "name": "stdout",
     "output_type": "stream",
     "text": [
      "------------------------------------------------------------------------------------------------------------------------\n",
      "SOURCE: ['4 people trying to fix a bike on a park']\n",
      "TARGET: ['Vier Menschen versuchen in einem Park, ein Fahrrad zu reparieren']\n",
      "PREDICTED: 4 Personen versuchen zu reparieren ein Fahrrad auf einem Park . . . . . . . . . .\n",
      "------------------------------------------------------------------------------------------------------------------------\n",
      "SOURCE: ['A single person parachutes through a peaceful sunset.']\n",
      "TARGET: ['Eine einzelne Person fliegt mit dem Fallschirm durch einen friedvollen Sonnenuntergang.']\n",
      "PREDICTED: Eine einzelne Person mit Helm schnell Sonnenuntergang durch ein . . . .\n"
     ]
    },
    {
     "name": "stderr",
     "output_type": "stream",
     "text": [
      "Epoch 22: 100%|██████████| 454/454 [00:33<00:00, 13.75it/s, train_loss=1.921, val_loss=2.566]\n"
     ]
    },
    {
     "name": "stdout",
     "output_type": "stream",
     "text": [
      "------------------------------------------------------------------------------------------------------------------------\n",
      "SOURCE: ['Two young girls dressed in pink pajamas sit on the floor in front of large windows playing house.']\n",
      "TARGET: ['Zwei kleine Mädchen in rosafarbenen Schlafanzügen sitzen auf dem Boden vor großen Fenstern und spielen Vater-Mutter-Kind.']\n",
      "PREDICTED: Zwei junge Mädchen in rosa Schlafanzug sitzen auf dem Boden vor großen Fenstern . sehr großen Haus . . . . . . . . . . .\n",
      "------------------------------------------------------------------------------------------------------------------------\n",
      "SOURCE: ['Two women are walking down the beach carrying boards and flippers.']\n",
      "TARGET: ['Zwei Frauen gehen den Strand entlang und tragen dabei Bretter und Flossen.']\n",
      "PREDICTED: Zwei Frauen gehen am Strand entlang und . . . . . . . . .\n"
     ]
    },
    {
     "name": "stderr",
     "output_type": "stream",
     "text": [
      "Epoch 23: 100%|██████████| 454/454 [00:32<00:00, 13.78it/s, train_loss=1.892, val_loss=2.568]\n"
     ]
    },
    {
     "name": "stdout",
     "output_type": "stream",
     "text": [
      "------------------------------------------------------------------------------------------------------------------------\n",
      "SOURCE: ['A girl is wearing a large blue and red hat.']\n",
      "TARGET: ['Ein Mädchen trägt einen großen blau-weißen Hut.']\n",
      "PREDICTED: Ein Mädchen trägt einen großen blau - roter Mütze . . . . . . . . . . . .\n",
      "------------------------------------------------------------------------------------------------------------------------\n",
      "SOURCE: ['A closeup of a woman with short red-hair.']\n",
      "TARGET: ['Die Nahaufnahme einer Frau mit kurzem rotem Haar.']\n",
      "PREDICTED: Nahaufnahme einer Frau mit kurzen roten Haaren . . . . . . . . . .\n"
     ]
    },
    {
     "name": "stderr",
     "output_type": "stream",
     "text": [
      "Epoch 24: 100%|██████████| 454/454 [00:31<00:00, 14.33it/s, train_loss=1.866, val_loss=2.585]\n"
     ]
    },
    {
     "name": "stdout",
     "output_type": "stream",
     "text": [
      "------------------------------------------------------------------------------------------------------------------------\n",
      "SOURCE: ['A woman in a domino mask and severe hair is at a party.']\n",
      "TARGET: ['Eine Frau mit einer Domino-Maske und streng frisiertem Haar auf einer Party.']\n",
      "PREDICTED: Eine Frau mit Maske auf einer Maske Haaren und Haar . . . . . . . . . . . . .\n",
      "------------------------------------------------------------------------------------------------------------------------\n",
      "SOURCE: ['Three white men in t-shirt jump into the air.']\n",
      "TARGET: ['Drei weiße Männer in T-Shirts springen in die Luft.']\n",
      "PREDICTED: Drei weiße Männer in T - T - Shirt springt in die Luft . in die Luft . . . . . . . . .\n"
     ]
    },
    {
     "name": "stderr",
     "output_type": "stream",
     "text": [
      "Epoch 25: 100%|██████████| 454/454 [00:34<00:00, 13.16it/s, train_loss=1.841, val_loss=2.594]\n"
     ]
    },
    {
     "name": "stdout",
     "output_type": "stream",
     "text": [
      "------------------------------------------------------------------------------------------------------------------------\n",
      "SOURCE: ['An African-American woman sits at a brown table, wearing a purple dress, pink shoes, and black sunglasses.']\n",
      "TARGET: ['Eine afroamerikanische Frau sitzt an einem braunen Tisch und trägt ein lilafarbenes Kleid, pinkfarbene Schuhe und eine schwarze Sonnenbrille.']\n",
      "PREDICTED: Eine afroamerikanische Frau sitzt an einem braunen , rosa trägt ein lila Schuhen , rosa und schwarze Schuhen . . eine schwarze Sonnenbrille . . . . eine schwarze Oberteil . . eine schwarze Frau trägt eine\n",
      "------------------------------------------------------------------------------------------------------------------------\n",
      "SOURCE: ['A colorful parade led by a man carrying a red flag.']\n",
      "TARGET: ['Eine farbenfrohe Parade, die von einem Mann angeführt wird, der eine rote Fahne trägt.']\n",
      "PREDICTED: Ein farbenfroher Umzug von einem Mann , der Parade , der eine rote Flagge trägt eine rote Fahne . . . . . . . .\n"
     ]
    },
    {
     "name": "stderr",
     "output_type": "stream",
     "text": [
      "Epoch 26: 100%|██████████| 454/454 [00:33<00:00, 13.73it/s, train_loss=1.818, val_loss=2.591]\n"
     ]
    },
    {
     "name": "stdout",
     "output_type": "stream",
     "text": [
      "------------------------------------------------------------------------------------------------------------------------\n",
      "SOURCE: ['The car leaves a dust trail as it goes around the dirt track.']\n",
      "TARGET: ['Das Auto hinterlässt beim Umrunden der Aschenbahn eine Staubwolke.']\n",
      "PREDICTED: Das Auto Blätter als . um die Erde . . . . . . . .\n",
      "------------------------------------------------------------------------------------------------------------------------\n",
      "SOURCE: ['Two bicyclists ride down the street past people while talking.']\n",
      "TARGET: ['Zwei Fahrradfahrer fahren an Menschen vorbei die Straße entlang und unterhalten sich dabei.']\n",
      "PREDICTED: Zwei Radfahrer fahren auf der Radfahrer fahren an Passanten vorbei und unterhalten sich an . . . . . . . . . . . . .\n"
     ]
    },
    {
     "name": "stderr",
     "output_type": "stream",
     "text": [
      "Epoch 27: 100%|██████████| 454/454 [00:33<00:00, 13.62it/s, train_loss=1.795, val_loss=2.601]\n"
     ]
    },
    {
     "name": "stdout",
     "output_type": "stream",
     "text": [
      "------------------------------------------------------------------------------------------------------------------------\n",
      "SOURCE: ['Two men smoking outside of a park.']\n",
      "TARGET: ['Zwei Männer rauchen außerhalb eines Parks.']\n",
      "PREDICTED: Zwei Männer raucht außerhalb eines Park raucht . . . . . . . . . .\n",
      "------------------------------------------------------------------------------------------------------------------------\n",
      "SOURCE: ['Several performers dressed in white clothing and maroon hats are lined up facing each other.']\n",
      "TARGET: ['Mehrere weiß gekleidete Darsteller mit kastanienbraunen Kappen stehen einander in Reihen gegenüber.']\n",
      "PREDICTED: Mehrere weiß gekleideter Künstler - - stehen von einander gegenüber sich die einander . . . . . . . . . . . . .\n"
     ]
    },
    {
     "name": "stderr",
     "output_type": "stream",
     "text": [
      "Epoch 28: 100%|██████████| 454/454 [00:32<00:00, 14.00it/s, train_loss=1.774, val_loss=2.629]\n"
     ]
    },
    {
     "name": "stdout",
     "output_type": "stream",
     "text": [
      "------------------------------------------------------------------------------------------------------------------------\n",
      "SOURCE: ['Three dogs are playing in the water.']\n",
      "TARGET: ['Drei Hunde spielen im Wasser.']\n",
      "PREDICTED: Drei Hunde spielen im Wasser . . . . . . . . . . . . . . .\n",
      "------------------------------------------------------------------------------------------------------------------------\n",
      "SOURCE: ['A woman in a restaurant is drinking out of a coconut, using a straw.']\n",
      "TARGET: ['Eine Frau in einem Restaurant trinkt mit einem Strohhalm aus einer Kokosnuss.']\n",
      "PREDICTED: Eine Frau in einem Restaurant trinkt aus einer . . . . . . . . . . . . .\n"
     ]
    },
    {
     "name": "stderr",
     "output_type": "stream",
     "text": [
      "Epoch 29: 100%|██████████| 454/454 [00:31<00:00, 14.51it/s, train_loss=1.754, val_loss=2.620]\n"
     ]
    },
    {
     "name": "stdout",
     "output_type": "stream",
     "text": [
      "------------------------------------------------------------------------------------------------------------------------\n",
      "SOURCE: ['The men fight during the game.']\n",
      "TARGET: ['Die Männer kämpfen während des Spiels.']\n",
      "PREDICTED: Die Männer kämpfen während des Spiels . . . . . .\n",
      "------------------------------------------------------------------------------------------------------------------------\n",
      "SOURCE: ['Two watercrafts, one red and one white, are making a big splash in the water.']\n",
      "TARGET: ['Zwei Wasserfahrzeuge, von denen eines rot und das andere weiß ist, wirbeln eine Menge Spritzwasser auf.']\n",
      "PREDICTED: Zwei , ein rot und ein weiß , machen Wasser springt Wasser ins Wasser . Wasser . Wasser . . . . .\n"
     ]
    },
    {
     "name": "stderr",
     "output_type": "stream",
     "text": [
      "Epoch 30: 100%|██████████| 454/454 [00:33<00:00, 13.37it/s, train_loss=1.735, val_loss=2.633]\n"
     ]
    },
    {
     "name": "stdout",
     "output_type": "stream",
     "text": [
      "------------------------------------------------------------------------------------------------------------------------\n",
      "SOURCE: ['Two men in black clothes with blue and red bowties are performing in front of a crowd.']\n",
      "TARGET: ['Zwei schwarz gekleidete Männer mit einer grünen und einer roten Fliege treten vor einer Menschenmenge auf.']\n",
      "PREDICTED: Zwei Männer in schwarzer Kleidung mit blauen und roten Fliegen treten vor einer Menschenmenge führt . . . . . . . . . . . . . . .\n",
      "------------------------------------------------------------------------------------------------------------------------\n",
      "SOURCE: ['Three men stand around a cart near some motorcycles.']\n",
      "TARGET: ['Drei Männer stehen in der Nähe einiger Motorräder um einen Wagen.']\n",
      "PREDICTED: Drei Männer stehen um einen Karren in der Nähe von Motorrädern herum . . . . . . . . . . . .\n"
     ]
    }
   ],
   "source": [
    "# Train\n",
    "config = get_training_config()\n",
    "config['batch_size']=64\n",
    "config['N']=3\n",
    "config['d_ff']=512\n",
    "config['model_dir']=\"weights_model_4\"\n",
    "config['betas']=(0.9, 0.98)\n",
    "train_model(config)"
   ]
  },
  {
   "cell_type": "code",
   "execution_count": 48,
   "id": "585cdd09-c0d8-4602-8fea-ba3bb5912dcf",
   "metadata": {},
   "outputs": [
    {
     "data": {
      "text/plain": [
       "<matplotlib.legend.Legend at 0x79618111b220>"
      ]
     },
     "execution_count": 48,
     "metadata": {},
     "output_type": "execute_result"
    },
    {
     "data": {
      "image/png": "[encoded data removed]",
      "text/plain": [
       "<Figure size 640x480 with 1 Axes>"
      ]
     },
     "metadata": {},
     "output_type": "display_data"
    }
   ],
   "source": [
    "# Plot loss curves\n",
    "model_state = torch.load('./weights_model_4/tf_model_30.pt')\n",
    "loss_df = pd.DataFrame(model_state['losses'])\n",
    "plt.plot(loss_df['epoch']+1, loss_df['train_loss'])\n",
    "plt.plot(loss_df['epoch']+1, loss_df['val_loss'])\n",
    "plt.xlabel('Epoch')\n",
    "plt.ylabel('Loss')\n",
    "plt.legend([\"Training\", \"Validation\"], loc=\"upper right\")"
   ]
  },
  {
   "cell_type": "markdown",
   "id": "34c4c44b-6165-4702-81dc-de0f46816f0d",
   "metadata": {},
   "source": [
    "**Model 5**:\\\n",
    "d_model=512, d_ff=512, N=3, dropout=0.2\\\n",
    "dropout=0.2, batch_size=32, betas=(0.9, 0.98)"
   ]
  },
  {
   "cell_type": "code",
   "execution_count": 49,
   "id": "a76c72d0-7a09-46ce-b1d6-79e881e404e3",
   "metadata": {
    "scrolled": true
   },
   "outputs": [
    {
     "name": "stdout",
     "output_type": "stream",
     "text": [
      "Using device cuda\n",
      "Train set size: 29000\n",
      "Validation set size: 1014\n",
      "Max length in source: 41\n",
      "Max length in target: 45\n"
     ]
    },
    {
     "name": "stderr",
     "output_type": "stream",
     "text": [
      "Epoch 01: 100%|██████████| 907/907 [00:46<00:00, 19.65it/s, train_loss=5.085, val_loss=4.181]\n"
     ]
    },
    {
     "name": "stdout",
     "output_type": "stream",
     "text": [
      "------------------------------------------------------------------------------------------------------------------------\n",
      "SOURCE: ['A woman and a child sit together in a door frame along a gray sidewalk, as a man and two women walk past.']\n",
      "TARGET: ['Eine Frau und ein Kind sitzen zusammen in einem Türrahmen an einem grauen Gehweg, während ein Mann und zwei Frauen vorbeigehen.']\n",
      "PREDICTED: Eine Frau und Frau eine Frau in ein Mann in ein Mann in ein Mann in ein Mann in einem Mann und ein Mann , während ein Mann , während ein Mann , während ein Mann , während ein Mann , während ein Mann , während ein Mann und\n",
      "------------------------------------------------------------------------------------------------------------------------\n",
      "SOURCE: ['Two women in blue suits are sitting on the cement outdoors with concrete and long shaped glass windows behind them.']\n",
      "TARGET: ['Zwei Frauen in blauen Anzügen sitzen draußen auf dem Beton, während sich hinter ihnen Beton und längliche Glasfenster befinden.']\n",
      "PREDICTED: Zwei Frauen in Frauen in in und in einer sitzen auf einer und mit . . . . . .\n"
     ]
    },
    {
     "name": "stderr",
     "output_type": "stream",
     "text": [
      "Epoch 02: 100%|██████████| 907/907 [00:48<00:00, 18.54it/s, train_loss=4.107, val_loss=3.634]\n"
     ]
    },
    {
     "name": "stdout",
     "output_type": "stream",
     "text": [
      "------------------------------------------------------------------------------------------------------------------------\n",
      "SOURCE: ['Several people are enjoying a cigarette near an ashtray.']\n",
      "TARGET: ['Mehrere Menschen genießen eine Zigarette bei einem Aschenbecher.']\n",
      "PREDICTED: Mehrere Personen Personen sich in eine in einer in der Nähe eines . . . . . . . . . . . . . .\n",
      "------------------------------------------------------------------------------------------------------------------------\n",
      "SOURCE: ['The brown dog is wearing a black collar.']\n",
      "TARGET: ['Der braune Hund trägt ein schwarzes Halsband.']\n",
      "PREDICTED: Der Hund Hund mit einem schwarzen schwarzen schwarzen . . . . . . . . . . .\n"
     ]
    },
    {
     "name": "stderr",
     "output_type": "stream",
     "text": [
      "Epoch 03: 100%|██████████| 907/907 [00:49<00:00, 18.32it/s, train_loss=3.702, val_loss=3.326]\n"
     ]
    },
    {
     "name": "stdout",
     "output_type": "stream",
     "text": [
      "------------------------------------------------------------------------------------------------------------------------\n",
      "SOURCE: ['People are walking down a sidewalk where there is an outdoors market.']\n",
      "TARGET: ['Menschen gehen auf einem Gehweg, an dem ein Freiluftmarkt stattfindet.']\n",
      "PREDICTED: Menschen gehen gehen einen Bürgersteig auf einem Gehweg . . . . . . . . . . .\n",
      "------------------------------------------------------------------------------------------------------------------------\n",
      "SOURCE: ['A man in a harness climbing a rock wall']\n",
      "TARGET: ['Ein Mann in einem Klettergurt klettert an einer Felswand']\n",
      "PREDICTED: Ein Mann in einem mit Helm fährt eine Wand . . . . . . . .\n"
     ]
    },
    {
     "name": "stderr",
     "output_type": "stream",
     "text": [
      "Epoch 04: 100%|██████████| 907/907 [00:47<00:00, 18.95it/s, train_loss=3.427, val_loss=3.121]\n"
     ]
    },
    {
     "name": "stdout",
     "output_type": "stream",
     "text": [
      "------------------------------------------------------------------------------------------------------------------------\n",
      "SOURCE: ['Two middle-aged men in a room with music equipment speak with each other.']\n",
      "TARGET: ['Zwei Männer mittleren Alters unterhalten sich miteinander in einem Raum mit Musikausrüstung.']\n",
      "PREDICTED: Zwei Männer mittleren Alters mittleren Alters mit mit miteinander miteinander . . . . . . . . . . . . . . . . . . .\n",
      "------------------------------------------------------------------------------------------------------------------------\n",
      "SOURCE: ['A crew of cycling member getting ready for a race.']\n",
      "TARGET: ['Die Mitglieder einer Radsport-Mannschaft machen sich für ein Rennen bereit.']\n",
      "PREDICTED: Eine sich vor . . . . . . . . . . . . .\n"
     ]
    },
    {
     "name": "stderr",
     "output_type": "stream",
     "text": [
      "Epoch 05: 100%|██████████| 907/907 [00:49<00:00, 18.23it/s, train_loss=3.224, val_loss=2.972]\n"
     ]
    },
    {
     "name": "stdout",
     "output_type": "stream",
     "text": [
      "------------------------------------------------------------------------------------------------------------------------\n",
      "SOURCE: ['A white fluffy dog is jumping and catching a toy.']\n",
      "TARGET: ['Ein flauschiger weißer Hund springt hoch und fängt ein Spielzeug.']\n",
      "PREDICTED: Ein weißer weißer Hund springt und springt . . . . . . . . . . . . .\n",
      "------------------------------------------------------------------------------------------------------------------------\n",
      "SOURCE: ['A man drives an old-fashioned red race car.']\n",
      "TARGET: ['Ein Mann fährt ein altmodisches rotes Rennauto.']\n",
      "PREDICTED: Ein Mann fährt auf einem alten Auto Rennen . . . . . . . . . . . . . . . . . .\n"
     ]
    },
    {
     "name": "stderr",
     "output_type": "stream",
     "text": [
      "Epoch 06: 100%|██████████| 907/907 [00:50<00:00, 18.08it/s, train_loss=3.069, val_loss=2.868]\n"
     ]
    },
    {
     "name": "stdout",
     "output_type": "stream",
     "text": [
      "------------------------------------------------------------------------------------------------------------------------\n",
      "SOURCE: ['A red plane flying over a boat as it trails pink smoke.']\n",
      "TARGET: ['Ein rotes Flugzeug fliegt über einem Boot und zieht dabei pinkfarbenen Rauch hinter sich her.']\n",
      "PREDICTED: Ein rotes fliegt über ein Boot über ein Boot . . . . . . . . . . . .\n",
      "------------------------------------------------------------------------------------------------------------------------\n",
      "SOURCE: ['The small brown dog is amidst the potted plants and fallen leaves.']\n",
      "TARGET: ['Der kleine braune Hund befindet sich inmitten der Topfpflanzen und heruntergefallenen Blätter.']\n",
      "PREDICTED: Der kleine braune Hund im . . . . . . . . . . . . . .\n"
     ]
    },
    {
     "name": "stderr",
     "output_type": "stream",
     "text": [
      "Epoch 07: 100%|██████████| 907/907 [00:50<00:00, 18.14it/s, train_loss=2.946, val_loss=2.793]\n"
     ]
    },
    {
     "name": "stdout",
     "output_type": "stream",
     "text": [
      "------------------------------------------------------------------------------------------------------------------------\n",
      "SOURCE: ['A small dog jumping on a street.']\n",
      "TARGET: ['Ein kleiner Hund springt auf einer Straße.']\n",
      "PREDICTED: Ein kleiner Hund springt auf einer Straße . . . . . . . . . . . . . .\n",
      "------------------------------------------------------------------------------------------------------------------------\n",
      "SOURCE: ['A tractor is moving dirt to help build up a retaining wall.']\n",
      "TARGET: ['Ein Traktor bewegt Erde für den Bau einer Stützmauer.']\n",
      "PREDICTED: Ein Traktor Traktor um sich um zu . . . . . . . . .\n"
     ]
    },
    {
     "name": "stderr",
     "output_type": "stream",
     "text": [
      "Epoch 08: 100%|██████████| 907/907 [00:45<00:00, 20.04it/s, train_loss=2.849, val_loss=2.739]\n"
     ]
    },
    {
     "name": "stdout",
     "output_type": "stream",
     "text": [
      "------------------------------------------------------------------------------------------------------------------------\n",
      "SOURCE: ['A man picks up a dripping wet woman happily.']\n",
      "TARGET: ['Ein fröhlicher Mann hebt eine tropfnasse Frau hoch.']\n",
      "PREDICTED: Ein Mann hebt einen . . . . . . . . . . . .\n",
      "------------------------------------------------------------------------------------------------------------------------\n",
      "SOURCE: ['A football player in red and white is talking to a coach.']\n",
      "TARGET: ['Ein rot-weiß gekleideter Footballspieler spricht mit einem Trainer.']\n",
      "PREDICTED: Ein Football - Spieler in rot - weiß - weißer spricht . spricht . . . . . . . . . . . . . .\n"
     ]
    },
    {
     "name": "stderr",
     "output_type": "stream",
     "text": [
      "Epoch 09: 100%|██████████| 907/907 [00:48<00:00, 18.63it/s, train_loss=2.767, val_loss=2.694]\n"
     ]
    },
    {
     "name": "stdout",
     "output_type": "stream",
     "text": [
      "------------------------------------------------------------------------------------------------------------------------\n",
      "SOURCE: ['A man in a black and white striped shirt photographing a woman by a fountain.']\n",
      "TARGET: ['Ein Mann in einem schwarz-weiß gestreiften T-Shirt fotografiert eine Frau an einem Springbrunnen.']\n",
      "PREDICTED: Ein Mann in schwarz - weiß gestreiften Hemd fotografiert eine Frau bei einem Springbrunnen . . . . . . . . . . eine Frau . .\n",
      "------------------------------------------------------------------------------------------------------------------------\n",
      "SOURCE: ['A woman in a blue shirt is riding a bicycle.']\n",
      "TARGET: ['Eine Frau in einem blauen Hemd fährt auf einem Fahrrad.']\n",
      "PREDICTED: Eine Frau in blauem Hemd fährt Fahrrad . . . . . . . . . . . . . . . . .\n"
     ]
    },
    {
     "name": "stderr",
     "output_type": "stream",
     "text": [
      "Epoch 10: 100%|██████████| 907/907 [00:47<00:00, 18.99it/s, train_loss=2.697, val_loss=2.672]\n"
     ]
    },
    {
     "name": "stdout",
     "output_type": "stream",
     "text": [
      "------------------------------------------------------------------------------------------------------------------------\n",
      "SOURCE: ['A dog walking through a small stream with a rag in his mouth.']\n",
      "TARGET: ['Ein Hund geht mit einem Tuch im Maul durch einen kleinen Bach.']\n",
      "PREDICTED: Ein Hund läuft durch einen kleinen Bach mit einem kleinen im Maul . . . . . . . . . . .\n",
      "------------------------------------------------------------------------------------------------------------------------\n",
      "SOURCE: ['A man wearing glasses at the microphone is looking down at some paper in his hand.']\n",
      "TARGET: ['Ein Mann mit Brille am Mikrofon blickt auf irgendein Schriftstück hinunter.']\n",
      "PREDICTED: Ein Mann mit Brille in der Brille blickt in der Hand in der Hand . in der Hand . . . . . . . . . . .\n"
     ]
    },
    {
     "name": "stderr",
     "output_type": "stream",
     "text": [
      "Epoch 11: 100%|██████████| 907/907 [00:50<00:00, 17.94it/s, train_loss=2.639, val_loss=2.633]\n"
     ]
    },
    {
     "name": "stdout",
     "output_type": "stream",
     "text": [
      "------------------------------------------------------------------------------------------------------------------------\n",
      "SOURCE: ['Two emergency response workers are putting blocks underneath a train.']\n",
      "TARGET: ['Zwei Mitarbeiter des Notfallschutzes legen Klötze unter einen Zug.']\n",
      "PREDICTED: Zwei Arbeiter unter einen Zug . . . . . . . . .\n",
      "------------------------------------------------------------------------------------------------------------------------\n",
      "SOURCE: ['A man dressed in brown holding a light saber.']\n",
      "TARGET: ['Ein braun gekleideter Mann hält ein Lichtschwert.']\n",
      "PREDICTED: Ein Mann in brauner , braun hält einen . . . . . . . . .\n"
     ]
    },
    {
     "name": "stderr",
     "output_type": "stream",
     "text": [
      "Epoch 12: 100%|██████████| 907/907 [00:45<00:00, 20.08it/s, train_loss=2.586, val_loss=2.623]\n"
     ]
    },
    {
     "name": "stdout",
     "output_type": "stream",
     "text": [
      "------------------------------------------------------------------------------------------------------------------------\n",
      "SOURCE: ['A young girl walking along side a small creek']\n",
      "TARGET: ['Ein kleines Mädchen geht an einem kleinen Bach entlang']\n",
      "PREDICTED: Ein junges Mädchen geht an einem kleinen Bach . . . . . . . . .\n",
      "------------------------------------------------------------------------------------------------------------------------\n",
      "SOURCE: ['A elderly white-haired woman is looking inside her register and looking through her glasses.']\n",
      "TARGET: ['Eine ältere weißhaarige Frau sieht in ihre Kasse und blickt durch ihre Brillengläser hindurch.']\n",
      "PREDICTED: Eine ältere Frau mit weißem Haar schaut durch ihre Brille und schaut durch ihre Brille . . . . . . . . . . . . . . .\n"
     ]
    },
    {
     "name": "stderr",
     "output_type": "stream",
     "text": [
      "Epoch 13: 100%|██████████| 907/907 [00:49<00:00, 18.35it/s, train_loss=2.539, val_loss=2.600]\n"
     ]
    },
    {
     "name": "stdout",
     "output_type": "stream",
     "text": [
      "------------------------------------------------------------------------------------------------------------------------\n",
      "SOURCE: ['A woman standing on a high cliff on one leg looking over a river.']\n",
      "TARGET: ['Eine Frau steht auf einem Bein auf einer hohen Klippe und blickt über einen Fluss.']\n",
      "PREDICTED: Eine Frau steht auf einer hohen Klippe auf einem Bein blickt über einen Fluss . . . . . . . . . . .\n",
      "------------------------------------------------------------------------------------------------------------------------\n",
      "SOURCE: ['Two children playing on a jungle gym.']\n",
      "TARGET: ['Zwei Kinder spielen auf einem Klettergerüst.']\n",
      "PREDICTED: Zwei Kinder spielen auf einem Klettergerüst . . . . . . . . . . .\n"
     ]
    },
    {
     "name": "stderr",
     "output_type": "stream",
     "text": [
      "Epoch 14: 100%|██████████| 907/907 [00:48<00:00, 18.75it/s, train_loss=2.495, val_loss=2.597]\n"
     ]
    },
    {
     "name": "stdout",
     "output_type": "stream",
     "text": [
      "------------------------------------------------------------------------------------------------------------------------\n",
      "SOURCE: ['A person with long blue hair standing behind a large crowd of people.']\n",
      "TARGET: ['Eine Person mit langem blauen Haar steht hinter einer großen Menschenmenge.']\n",
      "PREDICTED: Eine Person mit langen blauen Haaren steht hinter einer großen Menschenmenge . . . . . . . . . . .\n",
      "------------------------------------------------------------------------------------------------------------------------\n",
      "SOURCE: ['Two teams, one in pink and one in white, play lacrosse on a field.']\n",
      "TARGET: ['Zwei Teams, eines davon in Pink und eines in Weiß, spielen Lacrosse auf einem Sportplatz.']\n",
      "PREDICTED: Zwei Mannschaften , einer in rosa und ein weiß spielen Lacrosse spielen Lacrosse . . . . . . . . . . . . .\n"
     ]
    },
    {
     "name": "stderr",
     "output_type": "stream",
     "text": [
      "Epoch 15: 100%|██████████| 907/907 [00:49<00:00, 18.35it/s, train_loss=2.458, val_loss=2.581]\n"
     ]
    },
    {
     "name": "stdout",
     "output_type": "stream",
     "text": [
      "------------------------------------------------------------------------------------------------------------------------\n",
      "SOURCE: ['A singer performing along with the crowd.']\n",
      "TARGET: ['Ein Sänger singt zusammen mit dem Publikum bei einem Auftritt.']\n",
      "PREDICTED: Ein Sänger tritt auf einer Menschenmenge mit der Menschenmenge . . . . . . . . . . . .\n",
      "------------------------------------------------------------------------------------------------------------------------\n",
      "SOURCE: ['The boy leaps of his bed with a karate kick.']\n",
      "TARGET: ['Der Junge springt mit einem Karatetritt aus dem Bett.']\n",
      "PREDICTED: Der Junge springt mit einem Bett mit einem . . . . . . . . . . . . .\n"
     ]
    },
    {
     "name": "stderr",
     "output_type": "stream",
     "text": [
      "Epoch 16: 100%|██████████| 907/907 [00:49<00:00, 18.26it/s, train_loss=2.422, val_loss=2.576]\n"
     ]
    },
    {
     "name": "stdout",
     "output_type": "stream",
     "text": [
      "------------------------------------------------------------------------------------------------------------------------\n",
      "SOURCE: ['A group of people running a charity marathon.']\n",
      "TARGET: ['Eine Gruppe von Menschen läuft bei einem Wohltätigkeitsmarathon.']\n",
      "PREDICTED: Eine Gruppe von Menschen laufen einen Marathon . . . . . . . . . . .\n",
      "------------------------------------------------------------------------------------------------------------------------\n",
      "SOURCE: ['A group of young Asian men walking in a marathon.']\n",
      "TARGET: ['Eine Gruppe junger asiatischer Männer läuft bei einem Marathon.']\n",
      "PREDICTED: Eine Gruppe junger asiatischer Männer geht bei einem Marathon . . . . . . . . . . . . .\n"
     ]
    },
    {
     "name": "stderr",
     "output_type": "stream",
     "text": [
      "Epoch 17: 100%|██████████| 907/907 [00:50<00:00, 18.07it/s, train_loss=2.388, val_loss=2.568]\n"
     ]
    },
    {
     "name": "stdout",
     "output_type": "stream",
     "text": [
      "------------------------------------------------------------------------------------------------------------------------\n",
      "SOURCE: ['Several people standing on a subway platform.']\n",
      "TARGET: ['Einige Menschen stehen auf einem U-Bahnsteig.']\n",
      "PREDICTED: Mehrere Menschen stehen auf einer U - Bahnsteig . . . . . . . . . . . .\n",
      "------------------------------------------------------------------------------------------------------------------------\n",
      "SOURCE: ['A dog jumps for a yellow and black ball.']\n",
      "TARGET: ['Ein Hund springt einem gelb-schwarzen Ball hinterher.']\n",
      "PREDICTED: Ein Hund springt um einen gelb - schwarzen Ball . . . . . . . . .\n"
     ]
    },
    {
     "name": "stderr",
     "output_type": "stream",
     "text": [
      "Epoch 18: 100%|██████████| 907/907 [00:50<00:00, 18.03it/s, train_loss=2.359, val_loss=2.568]\n"
     ]
    },
    {
     "name": "stdout",
     "output_type": "stream",
     "text": [
      "------------------------------------------------------------------------------------------------------------------------\n",
      "SOURCE: ['The women is holding the boy while looking across the street.']\n",
      "TARGET: ['Die Frau hält den Jungen fest, während sie über die Straße blickt.']\n",
      "PREDICTED: Die Frau hält die Junge hält die Straße und blickt über die Straße . . . . . . . . . . . .\n",
      "------------------------------------------------------------------------------------------------------------------------\n",
      "SOURCE: [\"A man playing Mike Tyson's Punchout on his computer.\"]\n",
      "TARGET: [\"Ein Mann spielt Mike Tyson's Punch-Out auf seinem Computer.\"]\n",
      "PREDICTED: Ein Mann spielt am Computer . am Computer . . . . . . . . .\n"
     ]
    },
    {
     "name": "stderr",
     "output_type": "stream",
     "text": [
      "Epoch 19: 100%|██████████| 907/907 [00:50<00:00, 17.96it/s, train_loss=2.329, val_loss=2.561]\n"
     ]
    },
    {
     "name": "stdout",
     "output_type": "stream",
     "text": [
      "------------------------------------------------------------------------------------------------------------------------\n",
      "SOURCE: ['A group of people eating at a restaurant.']\n",
      "TARGET: ['Eine Gruppe von Menschen isst in einem Restaurant.']\n",
      "PREDICTED: Eine Gruppe von Menschen essen in einem Restaurant . . . . . . . . . . . . . . .\n",
      "------------------------------------------------------------------------------------------------------------------------\n",
      "SOURCE: ['Three white men in t-shirt jump into the air.']\n",
      "TARGET: ['Drei weiße Männer in T-Shirts springen in die Luft.']\n",
      "PREDICTED: Drei weiße Männer in T - T - T - Shirt springt in die Luft . . . . . . . . . . . . . . . . .\n"
     ]
    },
    {
     "name": "stderr",
     "output_type": "stream",
     "text": [
      "Epoch 20: 100%|██████████| 907/907 [00:50<00:00, 18.08it/s, train_loss=2.301, val_loss=2.573]\n"
     ]
    },
    {
     "name": "stdout",
     "output_type": "stream",
     "text": [
      "------------------------------------------------------------------------------------------------------------------------\n",
      "SOURCE: ['A large group of people watching a performer on a stage.']\n",
      "TARGET: ['Eine große Gruppe von Menschen sieht einem Künstler auf einer Bühne zu.']\n",
      "PREDICTED: Eine große Gruppe Leute beobachtet einen Künstler auf der Bühne . . . . . . . . . . . .\n",
      "------------------------------------------------------------------------------------------------------------------------\n",
      "SOURCE: ['People on the street at a block party.']\n",
      "TARGET: ['Menschen auf der Straße bei einem Straßenfest.']\n",
      "PREDICTED: Leute auf der Straße auf einer . . . . . . . . . .\n"
     ]
    }
   ],
   "source": [
    "# Train 20 epochs\n",
    "config = get_training_config()\n",
    "config['batch_size']=32\n",
    "config['num_epochs']=20\n",
    "config['N']=3\n",
    "config['d_ff']=512\n",
    "config['dropout']=0.2\n",
    "config['model_dir']=\"weights_model_5\"\n",
    "config['betas'] = (0.9, 0.98)\n",
    "train_model(config)"
   ]
  },
  {
   "cell_type": "code",
   "execution_count": 51,
   "id": "a27c11e6-57cb-4f47-8eb2-f776dc3caa93",
   "metadata": {
    "scrolled": true
   },
   "outputs": [
    {
     "name": "stdout",
     "output_type": "stream",
     "text": [
      "Using device cuda\n",
      "Train set size: 29000\n",
      "Validation set size: 1014\n",
      "Max length in source: 41\n",
      "Max length in target: 45\n",
      "Loading model from ./weights_model_5/tf_model_20.pt\n"
     ]
    },
    {
     "name": "stderr",
     "output_type": "stream",
     "text": [
      "Epoch 21: 100%|██████████| 907/907 [00:49<00:00, 18.25it/s, train_loss=2.276, val_loss=2.564]\n"
     ]
    },
    {
     "name": "stdout",
     "output_type": "stream",
     "text": [
      "------------------------------------------------------------------------------------------------------------------------\n",
      "SOURCE: ['A woman talks to a young girl over a counter.']\n",
      "TARGET: ['Eine Frau spricht über eine Theke hinweg mit einem kleinen Mädchen.']\n",
      "PREDICTED: Eine Frau spricht mit einem jungen Mädchen über eine Theke . . . . . . . .\n",
      "------------------------------------------------------------------------------------------------------------------------\n",
      "SOURCE: ['Two men are out on a bright, sunny day attempting to catch some fish on the lake.']\n",
      "TARGET: ['Zwei Männer sind an einem hellen, sonnigen Tag unterwegs, um ein paar Fische im See zu fangen.']\n",
      "PREDICTED: Zwei Männer sind an einem hellen sonnigen Tag versucht , sonnigen See um einen Fisch zu fangen . zu fangen . . . . . . . . . . . zu fangen .\n"
     ]
    },
    {
     "name": "stderr",
     "output_type": "stream",
     "text": [
      "Epoch 22: 100%|██████████| 907/907 [00:51<00:00, 17.57it/s, train_loss=2.252, val_loss=2.567]\n"
     ]
    },
    {
     "name": "stdout",
     "output_type": "stream",
     "text": [
      "------------------------------------------------------------------------------------------------------------------------\n",
      "SOURCE: ['Two people play water volleyball in a pool.']\n",
      "TARGET: ['Zwei Menschen spielen Wasservolleyball in einem Pool.']\n",
      "PREDICTED: Zwei Personen spielen Volleyball in einem Schwimmbecken . . . . . . . . .\n",
      "------------------------------------------------------------------------------------------------------------------------\n",
      "SOURCE: ['A bearded man in a heavy jacket sits in a corner with a paper cup.']\n",
      "TARGET: ['Ein bärtiger Mann in einer dicken Jacke sitzt mit einem Pappbecher in einer Ecke.']\n",
      "PREDICTED: Ein bärtiger Mann in einer großen Jacke sitzt in einer Ecke mit einer . . . . . . . . . . . . .\n"
     ]
    },
    {
     "name": "stderr",
     "output_type": "stream",
     "text": [
      "Epoch 23: 100%|██████████| 907/907 [00:50<00:00, 17.89it/s, train_loss=2.230, val_loss=2.560]\n"
     ]
    },
    {
     "name": "stdout",
     "output_type": "stream",
     "text": [
      "------------------------------------------------------------------------------------------------------------------------\n",
      "SOURCE: ['A black dog is jumping over a multicolored barrier.']\n",
      "TARGET: ['Ein schwarzer Hund springt über ein mehrfarbiges Hindernis.']\n",
      "PREDICTED: Ein schwarzer Hund springt über eine bunten Feld . . . . . . . . . . . .\n",
      "------------------------------------------------------------------------------------------------------------------------\n",
      "SOURCE: ['A man wakeboards in the water.']\n",
      "TARGET: ['Ein Mann beim Wakeboarden im Wasser.']\n",
      "PREDICTED: Ein Mann im Wasser . . . . . . . . . . . .\n"
     ]
    },
    {
     "name": "stderr",
     "output_type": "stream",
     "text": [
      "Epoch 24: 100%|██████████| 907/907 [00:49<00:00, 18.19it/s, train_loss=2.208, val_loss=2.572]\n"
     ]
    },
    {
     "name": "stdout",
     "output_type": "stream",
     "text": [
      "------------------------------------------------------------------------------------------------------------------------\n",
      "SOURCE: ['Two people walking across a street.']\n",
      "TARGET: ['Zwei Menschen überqueren eine Straße.']\n",
      "PREDICTED: Zwei Personen gehen über eine Straße . . . . . . . . . . .\n",
      "------------------------------------------------------------------------------------------------------------------------\n",
      "SOURCE: ['A man off in the distance by a Buddhist temple.']\n",
      "TARGET: ['Ein Mann in der Ferne bei einem buddhistischen Tempel.']\n",
      "PREDICTED: Ein Mann von einem in der Ferne . . . . . . . . . . . .\n"
     ]
    },
    {
     "name": "stderr",
     "output_type": "stream",
     "text": [
      "Epoch 25: 100%|██████████| 907/907 [00:49<00:00, 18.47it/s, train_loss=2.189, val_loss=2.578]\n"
     ]
    },
    {
     "name": "stdout",
     "output_type": "stream",
     "text": [
      "------------------------------------------------------------------------------------------------------------------------\n",
      "SOURCE: ['A white woman and black man walking down the street.']\n",
      "TARGET: ['Eine weiße Frau und ein schwarzer Mann gehen eine Straße entlang.']\n",
      "PREDICTED: Eine weiße Frau und ein schwarzer Mann gehen die Straße entlang . . . . . . . . . . . . .\n",
      "------------------------------------------------------------------------------------------------------------------------\n",
      "SOURCE: ['A woman talks to a young girl over a counter.']\n",
      "TARGET: ['Eine Frau spricht über eine Theke hinweg mit einem kleinen Mädchen.']\n",
      "PREDICTED: Eine Frau spricht mit einem jungen Mädchen über eine Theke . . . . . . . . . . .\n"
     ]
    },
    {
     "name": "stderr",
     "output_type": "stream",
     "text": [
      "Epoch 26: 100%|██████████| 907/907 [00:48<00:00, 18.86it/s, train_loss=2.170, val_loss=2.579]\n"
     ]
    },
    {
     "name": "stdout",
     "output_type": "stream",
     "text": [
      "------------------------------------------------------------------------------------------------------------------------\n",
      "SOURCE: ['A soccer team player in a green shirt is running off the field.']\n",
      "TARGET: ['Ein Fußballspieler in einem grünen Trikot läuft vom Spielfeld.']\n",
      "PREDICTED: Ein Fußballspieler in einem grünen Oberteil rennt über das Feld . . . . . . . . . . . . . .\n",
      "------------------------------------------------------------------------------------------------------------------------\n",
      "SOURCE: ['A baseball player kicks up dirt sliding in front of a catcher.']\n",
      "TARGET: ['Ein Baseballspieler wirbelt Staub auf, während er vor einem Fänger über den Boden gleitet.']\n",
      "PREDICTED: Ein Baseballspieler tritt gerade vor einem Fänger rutscht . . . . . . . . . . .\n"
     ]
    },
    {
     "name": "stderr",
     "output_type": "stream",
     "text": [
      "Epoch 27: 100%|██████████| 907/907 [00:49<00:00, 18.22it/s, train_loss=2.150, val_loss=2.587]\n"
     ]
    },
    {
     "name": "stdout",
     "output_type": "stream",
     "text": [
      "------------------------------------------------------------------------------------------------------------------------\n",
      "SOURCE: ['A medium sized group of people pose in front of the camera.']\n",
      "TARGET: ['Eine mittelgroße Gruppe von Menschen posiert vor der Kamera.']\n",
      "PREDICTED: Eine Gruppe Leute posieren vor der Kamera . . . . . . . . . . . . .\n",
      "------------------------------------------------------------------------------------------------------------------------\n",
      "SOURCE: ['Children chasing the ball in a soccer game.']\n",
      "TARGET: ['Kinder jagen bei einem Fußballspiel dem Ball hinterher.']\n",
      "PREDICTED: Kinder jagen bei einem Fußballspiel . . . . . . . . . . .\n"
     ]
    },
    {
     "name": "stderr",
     "output_type": "stream",
     "text": [
      "Epoch 28: 100%|██████████| 907/907 [00:45<00:00, 20.12it/s, train_loss=2.132, val_loss=2.595]\n"
     ]
    },
    {
     "name": "stdout",
     "output_type": "stream",
     "text": [
      "------------------------------------------------------------------------------------------------------------------------\n",
      "SOURCE: ['Two Asian children, a boy and a girl, are standing on the floor next to a tree.']\n",
      "TARGET: ['Zwei asiatische Kinder, ein Junge und ein Mädchen, stehen neben einem Baum.']\n",
      "PREDICTED: Zwei asiatische Kinder , ein Junge und ein Mädchen stehen auf dem Boden neben einem Baum . . . . . . . . . . . . .\n",
      "------------------------------------------------------------------------------------------------------------------------\n",
      "SOURCE: ['A motocross rider is slightly airborne on a competition circuit jump.']\n",
      "TARGET: ['Ein Motocrossfahrer wird bei einem Sprung auf einer Rennstrecke leicht durch die Luft getragen.']\n",
      "PREDICTED: Ein Motocross - Fahrer befindet sich nach einem in der Luft . nach vorn . nach . nach . . . . . . . . . .\n"
     ]
    },
    {
     "name": "stderr",
     "output_type": "stream",
     "text": [
      "Epoch 29: 100%|██████████| 907/907 [00:46<00:00, 19.56it/s, train_loss=2.115, val_loss=2.610]\n"
     ]
    },
    {
     "name": "stdout",
     "output_type": "stream",
     "text": [
      "------------------------------------------------------------------------------------------------------------------------\n",
      "SOURCE: ['A woman in black pants is looking at her cellphone.']\n",
      "TARGET: ['Eine Frau in schwarzen Hosen blickt auf ihr Handy.']\n",
      "PREDICTED: Eine Frau in schwarzen Hosen schaut auf ihr Handy . . . . . . . . . . . . . . . . .\n",
      "------------------------------------------------------------------------------------------------------------------------\n",
      "SOURCE: ['Two little black boys are playing with plastic bottles and having a lot of fun.']\n",
      "TARGET: ['Zwei kleine schwarze Jungen spielen mit Plastikflaschen und haben dabei viel Spaß.']\n",
      "PREDICTED: Zwei kleine schwarze Jungen spielen mit Flaschen und haben Spaß . . . . . . . . . . . . . . . . .\n"
     ]
    },
    {
     "name": "stderr",
     "output_type": "stream",
     "text": [
      "Epoch 30: 100%|██████████| 907/907 [00:50<00:00, 18.07it/s, train_loss=2.099, val_loss=2.615]\n"
     ]
    },
    {
     "name": "stdout",
     "output_type": "stream",
     "text": [
      "------------------------------------------------------------------------------------------------------------------------\n",
      "SOURCE: ['A person wearing a hat and scarf looks to the right.']\n",
      "TARGET: ['Eine Person mit Hut und Schal blickt nach rechts.']\n",
      "PREDICTED: Eine Person mit Hut und Schal blickt nach rechts . . . . . . . . . . .\n",
      "------------------------------------------------------------------------------------------------------------------------\n",
      "SOURCE: ['A scuba diving class taking a picture during class time.']\n",
      "TARGET: ['Die Teilnehmer eines Gerätetauchkurses machen ein Foto während des Unterrichts.']\n",
      "PREDICTED: Ein Taucher machen im . . . . . . . . . . . . . . . . . . . .\n"
     ]
    }
   ],
   "source": [
    "# Train 10 more epochs\n",
    "config = get_training_config()\n",
    "config['batch_size']=32\n",
    "config['num_epochs']=30\n",
    "config['preload']=20\n",
    "config['N']=3\n",
    "config['d_ff']=512\n",
    "config['dropout']=0.2\n",
    "config['model_dir']=\"weights_model_5\"\n",
    "config['betas'] = (0.9, 0.98)\n",
    "train_model(config)"
   ]
  },
  {
   "cell_type": "code",
   "execution_count": 52,
   "id": "feb80e8c-3fda-4508-85dd-4af32a5bd5fc",
   "metadata": {},
   "outputs": [
    {
     "data": {
      "text/plain": [
       "<matplotlib.legend.Legend at 0x796181ce79a0>"
      ]
     },
     "execution_count": 52,
     "metadata": {},
     "output_type": "execute_result"
    },
    {
     "data": {
      "image/png": "[encoded data removed]",
      "text/plain": [
       "<Figure size 640x480 with 1 Axes>"
      ]
     },
     "metadata": {},
     "output_type": "display_data"
    }
   ],
   "source": [
    "# Plot loss curves\n",
    "model_state = torch.load('./weights_model_5/tf_model_30.pt')\n",
    "loss_df = pd.DataFrame(model_state['losses'])\n",
    "plt.plot(loss_df['epoch']+1, loss_df['train_loss'])\n",
    "plt.plot(loss_df['epoch']+1, loss_df['val_loss'])\n",
    "plt.xlabel('Epoch')\n",
    "plt.ylabel('Loss')\n",
    "plt.legend([\"Training\", \"Validation\"], loc=\"upper right\")"
   ]
  },
  {
   "cell_type": "markdown",
   "id": "327baef7-902f-490e-81f4-c8b78656a998",
   "metadata": {},
   "source": [
    "# Evaluation"
   ]
  },
  {
   "cell_type": "code",
   "execution_count": 139,
   "id": "b391186a-472a-4b59-8b50-e6c8cce35afc",
   "metadata": {},
   "outputs": [],
   "source": [
    "# Imports\n",
    "import pandas as pd\n",
    "import torch\n",
    "from torchinfo import summary\n",
    "from torcheval.metrics.functional.text import bleu_score"
   ]
  },
  {
   "cell_type": "markdown",
   "id": "d83ea925-cb40-4ddd-9618-4e2e7018ff7b",
   "metadata": {},
   "source": [
    "### Loss curves"
   ]
  },
  {
   "cell_type": "code",
   "execution_count": 52,
   "id": "ade3db59-c7b8-4db0-89a7-18cb599e70d4",
   "metadata": {},
   "outputs": [
    {
     "data": {
      "text/plain": [
       "dict_keys(['epoch', 'model_state_dict', 'optimizer_state_dict', 'global_step', 'losses'])"
      ]
     },
     "execution_count": 52,
     "metadata": {},
     "output_type": "execute_result"
    }
   ],
   "source": [
    "# Load saved model\n",
    "model_filename = './weights/tf_model_30.pt'\n",
    "model_state = torch.load(model_filename)\n",
    "model_state.keys()"
   ]
  },
  {
   "cell_type": "code",
   "execution_count": 53,
   "id": "acb57753-0ba3-46e2-9220-d356e35560c0",
   "metadata": {},
   "outputs": [],
   "source": [
    "# Extract loss data to a dataframe\n",
    "loss_df = pd.DataFrame(model_state['losses'])"
   ]
  },
  {
   "cell_type": "code",
   "execution_count": 56,
   "id": "ea18da36-6e15-483c-a772-dd90497e3306",
   "metadata": {},
   "outputs": [
    {
     "data": {
      "text/plain": [
       "<matplotlib.legend.Legend at 0x7fa7f829ab50>"
      ]
     },
     "execution_count": 56,
     "metadata": {},
     "output_type": "execute_result"
    },
    {
     "data": {
      "image/png": "[encoded data removed]",
      "text/plain": [
       "<Figure size 640x480 with 1 Axes>"
      ]
     },
     "metadata": {},
     "output_type": "display_data"
    }
   ],
   "source": [
    "# Plot loss curves\n",
    "plt.plot(loss_df['epoch']+1, loss_df['train_loss'])\n",
    "plt.plot(loss_df['epoch']+1, loss_df['val_loss'])\n",
    "plt.xlabel('Epoch')\n",
    "plt.ylabel('Loss')\n",
    "plt.legend([\"Training\", \"Validation\"], loc=\"upper right\")"
   ]
  },
  {
   "cell_type": "code",
   "execution_count": 55,
   "id": "420324d7-4fa0-4af3-a56d-dc2d0403a58b",
   "metadata": {},
   "outputs": [],
   "source": [
    "# Save loss data separately so that we can delete the weights for last epoch\n",
    "loss_df.to_pickle('./weights/loss.pkl')"
   ]
  },
  {
   "cell_type": "markdown",
   "id": "e915c35b-7c31-4435-8363-58529fb6f40d",
   "metadata": {},
   "source": [
    "### Load best model"
   ]
  },
  {
   "cell_type": "code",
   "execution_count": 42,
   "id": "ef24e3dd-3a42-4cbe-b9b6-5fc81da8e5c2",
   "metadata": {},
   "outputs": [
    {
     "name": "stdout",
     "output_type": "stream",
     "text": [
      "Using device: cuda\n"
     ]
    }
   ],
   "source": [
    "# Define the device\n",
    "device = torch.device(\"cuda\" if torch.cuda.is_available() else \"cpu\")\n",
    "print(\"Using device:\", device)"
   ]
  },
  {
   "cell_type": "code",
   "execution_count": 43,
   "id": "85ad82d8-f22d-486c-b726-e04bf425868b",
   "metadata": {},
   "outputs": [
    {
     "data": {
      "text/plain": [
       "dict_keys(['epoch', 'model_state_dict', 'optimizer_state_dict', 'global_step', 'losses'])"
      ]
     },
     "execution_count": 43,
     "metadata": {},
     "output_type": "execute_result"
    }
   ],
   "source": [
    "# Load saved model\n",
    "model_filename = './weights/tf_model_15.pt'\n",
    "model_state = torch.load(model_filename)\n",
    "model_state.keys()"
   ]
  },
  {
   "cell_type": "code",
   "execution_count": 44,
   "id": "e2cb57b0-fbed-40a6-910e-750923593dfd",
   "metadata": {},
   "outputs": [],
   "source": [
    "# Get config\n",
    "config = get_training_config()\n",
    "config['batch_size']=64\n",
    "config['N']=3\n",
    "config['d_ff']=512\n",
    "config['model_dir']=\"weights_model_4\"\n",
    "config['betas']=(0.9, 0.98)"
   ]
  },
  {
   "cell_type": "code",
   "execution_count": 46,
   "id": "83d0dbd7-3355-4fc2-a27e-cf17c22bee4c",
   "metadata": {},
   "outputs": [
    {
     "name": "stdout",
     "output_type": "stream",
     "text": [
      "Train set size: 29000\n",
      "Validation set size: 1014\n",
      "Max length in source: 41\n",
      "Max length in target: 45\n"
     ]
    }
   ],
   "source": [
    "# Load dataset\n",
    "train_dataloader, val_dataloader, tokenizer_src, tokenizer_tgt = get_dataset(dataset_name, config['lang_src'], config['lang_tgt'], config['tokenizer_file'], config['seq_len'], config['batch_size'])"
   ]
  },
  {
   "cell_type": "code",
   "execution_count": 47,
   "id": "8d6c682a-f786-4726-8237-4cc5c7192f5e",
   "metadata": {},
   "outputs": [
    {
     "data": {
      "text/plain": [
       "<All keys matched successfully>"
      ]
     },
     "execution_count": 47,
     "metadata": {},
     "output_type": "execute_result"
    }
   ],
   "source": [
    "# Load model\n",
    "model = build_transformer_model(tokenizer_src.get_vocab_size(), tokenizer_tgt.get_vocab_size(), config['seq_len'], config['seq_len'], config['d_model'], N=config['N'], d_ff=config['d_ff']).to(device)\n",
    "model.load_state_dict(model_state['model_state_dict'])"
   ]
  },
  {
   "cell_type": "code",
   "execution_count": 95,
   "id": "707defa6-5ac2-4e0b-9184-70b3479e6a30",
   "metadata": {},
   "outputs": [
    {
     "data": {
      "text/plain": [
       "24044958"
      ]
     },
     "execution_count": 95,
     "metadata": {},
     "output_type": "execute_result"
    }
   ],
   "source": [
    "summary(model).trainable_params"
   ]
  },
  {
   "cell_type": "markdown",
   "id": "a64b61e1-9d05-4a15-b0e5-148a00d64fcc",
   "metadata": {},
   "source": [
    "### Evaluate on test set"
   ]
  },
  {
   "cell_type": "code",
   "execution_count": 87,
   "id": "38be089f-80d2-4093-bafd-3771b7da1a8f",
   "metadata": {},
   "outputs": [
    {
     "name": "stdout",
     "output_type": "stream",
     "text": [
      "Test set size: 1000\n",
      "Max length in source: 33\n",
      "Max length in target: 35\n"
     ]
    }
   ],
   "source": [
    "# Get test dataset\n",
    "test_ds = get_test_dataset(dataset_name, 'en', 'de', tokenizer_src, tokenizer_tgt, config['seq_len'], 1)"
   ]
  },
  {
   "cell_type": "markdown",
   "id": "fdda5e04-ffb8-4e7d-9b13-955d799d9c02",
   "metadata": {},
   "source": [
    "**Sample inference**"
   ]
  },
  {
   "cell_type": "code",
   "execution_count": 110,
   "id": "ed1b36a3-5716-4a06-8cca-361a583b9cef",
   "metadata": {},
   "outputs": [
    {
     "name": "stdout",
     "output_type": "stream",
     "text": [
      "------------------------------------------------------------------------------------------------------------------------\n",
      "SOURCE: ['A dark-haired bearded man in glasses and a Hawaiian shirt is sitting on the grass.']\n",
      "TARGET: ['Ein dunkelhaariger Mann mit Bart, Brille und Hawaiihemd sitzt auf dem Gras.']\n",
      "PREDICTED: Ein dunkelhaariger Mann mit Bart mit Brille und einem Hemd und ein sitzt .\n",
      "------------------------------------------------------------------------------------------------------------------------\n",
      "SOURCE: ['A table full of pictures in frames, at an outdoor market.']\n",
      "TARGET: ['Ein Tisch voller gerahmter Bilder, ein Freiluftmarkt.']\n",
      "PREDICTED: Ein Tisch voller Bilder voller auf einem Markt .\n",
      "------------------------------------------------------------------------------------------------------------------------\n",
      "SOURCE: ['A tan dog playing with a stick on the shore.']\n",
      "TARGET: ['Ein brauner Hund spielt am Ufer mit einem Stock.']\n",
      "PREDICTED: Ein hellbrauner Hund , spielt mit einem Stock am Ufer .\n",
      "------------------------------------------------------------------------------------------------------------------------\n",
      "SOURCE: ['Eight men play instruments on stage, with a guitarist highlighted in lights.']\n",
      "TARGET: ['Acht Männer spielen auf der Bühne, während ein Gitarrist im Scheinwerferlicht spielt.']\n",
      "PREDICTED: Acht Acht Männer auf der Bühne , spielen auf der Bühne mit einer Gitarrist .\n",
      "------------------------------------------------------------------------------------------------------------------------\n",
      "SOURCE: ['Crowds of people are all riding bicycles.']\n",
      "TARGET: ['Menschengruppen, die alle Fahrrad fahren.']\n",
      "PREDICTED: Zwei Personen fahren auf Fahrrädern .\n",
      "------------------------------------------------------------------------------------------------------------------------\n",
      "SOURCE: ['The two dogs, one with a tennis ball in its mouth, are running through tall grass.']\n",
      "TARGET: ['Die zwei Hunde, einer mit einem Tennisball im Maul, laufen durch hohes Gras.']\n",
      "PREDICTED: Die zwei Hunde , einer , einer einen Tennisball im Maul rennt durch hohes Gras rennt .\n",
      "------------------------------------------------------------------------------------------------------------------------\n",
      "SOURCE: [\"Four football players in black are tackling the opposing team's player, shown in white, while it is raining.\"]\n",
      "TARGET: ['Vier Footballspieler in Schwarz tackeln im Regen einen Spieler der gegnerischen Mannschaft in Weiß.']\n",
      "PREDICTED: Vier Footballspieler in schwarzen den gegnerischen Mannschaft des gegnerischen Mannschaft , der gegnerischen Mannschaft in Weiß wird .\n",
      "------------------------------------------------------------------------------------------------------------------------\n",
      "SOURCE: ['A man sitting at a picnic table with a tray and partially consumed beer in front of him.']\n",
      "TARGET: ['Ein Mann sitzt an einem Picknicktisch mit einem Tablett und halb ausgetrunkenem Bier vor sich.']\n",
      "PREDICTED: Ein Mann sitzt an einem Picknicktisch mit einem Tablett und teilweise Bier vor ihm .\n",
      "------------------------------------------------------------------------------------------------------------------------\n",
      "SOURCE: ['A group of people are playing on an object.']\n",
      "TARGET: ['Eine Gruppe spielt an einem Gegenstand.']\n",
      "PREDICTED: Eine Gruppe von Menschen auf einem Gegenstand .\n",
      "------------------------------------------------------------------------------------------------------------------------\n",
      "SOURCE: ['People are fixing the roof of a house.']\n",
      "TARGET: ['Leute Reparieren das Dach eines Hauses.']\n",
      "PREDICTED: Menschen reparieren ein Dach .\n"
     ]
    }
   ],
   "source": [
    "# Run inference on test dataset\n",
    "inputs, lables, preds = run_validation(model, test_ds, tokenizer_src, tokenizer_tgt, config['seq_len'], device, lambda msg: print(msg), 0, None, num_examples=10, print_output=True)"
   ]
  },
  {
   "cell_type": "markdown",
   "id": "dc1fb5a8-8f21-433d-abef-86ec0147c4a7",
   "metadata": {},
   "source": [
    "**Loss**"
   ]
  },
  {
   "cell_type": "code",
   "execution_count": 88,
   "id": "53a80e74-3c62-4ade-8e92-85c4344366f0",
   "metadata": {},
   "outputs": [],
   "source": [
    "# Setup loss function\n",
    "loss_fn = nn.CrossEntropyLoss(ignore_index=tokenizer_src.token_to_id(SPECIAL_TOKENS[PAD_IDX]), label_smoothing=0.1).to(device)"
   ]
  },
  {
   "cell_type": "code",
   "execution_count": 89,
   "id": "aac4ec95-28f9-49b9-9fc3-7819f0e7cc1d",
   "metadata": {},
   "outputs": [],
   "source": [
    "# Caluclate loss\n",
    "test_loss = get_val_loss(model, test_ds, tokenizer_src, tokenizer_tgt, config['seq_len'], device, loss_fn)"
   ]
  },
  {
   "cell_type": "code",
   "execution_count": 91,
   "id": "06dd9a77-b1b3-4088-b152-a8a1a4e913d0",
   "metadata": {},
   "outputs": [
    {
     "name": "stdout",
     "output_type": "stream",
     "text": [
      "Test loss: 2.5699050316810608\n"
     ]
    }
   ],
   "source": [
    "# Print test loss\n",
    "print(f'Test loss: {test_loss}')"
   ]
  },
  {
   "cell_type": "markdown",
   "id": "d40e5e0b-94e9-4628-808c-aef9b0ebe971",
   "metadata": {},
   "source": [
    "**BLEU Score**"
   ]
  },
  {
   "cell_type": "code",
   "execution_count": 124,
   "id": "a650c040-20b2-4c45-aae3-f9e2d44df417",
   "metadata": {},
   "outputs": [],
   "source": [
    "# Get preds for the whole test set\n",
    "inputs, lables, preds = run_validation(model, test_ds, tokenizer_src, tokenizer_tgt, config['seq_len'], device, lambda msg: print(msg), 0, None, num_examples=-1, print_output=False)"
   ]
  },
  {
   "cell_type": "code",
   "execution_count": 136,
   "id": "60243c74-59eb-4656-810e-44e4fdf3167f",
   "metadata": {},
   "outputs": [
    {
     "data": {
      "text/html": [
       "<div>\n",
       "<style scoped>\n",
       "    .dataframe tbody tr th:only-of-type {\n",
       "        vertical-align: middle;\n",
       "    }\n",
       "\n",
       "    .dataframe tbody tr th {\n",
       "        vertical-align: top;\n",
       "    }\n",
       "\n",
       "    .dataframe thead th {\n",
       "        text-align: right;\n",
       "    }\n",
       "</style>\n",
       "<table border=\"1\" class=\"dataframe\">\n",
       "  <thead>\n",
       "    <tr style=\"text-align: right;\">\n",
       "      <th></th>\n",
       "      <th>n_gram</th>\n",
       "      <th>score</th>\n",
       "    </tr>\n",
       "  </thead>\n",
       "  <tbody>\n",
       "    <tr>\n",
       "      <th>0</th>\n",
       "      <td>1</td>\n",
       "      <td>0.498014</td>\n",
       "    </tr>\n",
       "    <tr>\n",
       "      <th>1</th>\n",
       "      <td>2</td>\n",
       "      <td>0.387071</td>\n",
       "    </tr>\n",
       "    <tr>\n",
       "      <th>2</th>\n",
       "      <td>3</td>\n",
       "      <td>0.299001</td>\n",
       "    </tr>\n",
       "    <tr>\n",
       "      <th>3</th>\n",
       "      <td>4</td>\n",
       "      <td>0.229406</td>\n",
       "    </tr>\n",
       "  </tbody>\n",
       "</table>\n",
       "</div>"
      ],
      "text/plain": [
       "   n_gram     score\n",
       "0       1  0.498014\n",
       "1       2  0.387071\n",
       "2       3  0.299001\n",
       "3       4  0.229406"
      ]
     },
     "execution_count": 136,
     "metadata": {},
     "output_type": "execute_result"
    }
   ],
   "source": [
    "# Calculate BLEU scores\n",
    "bleu_scores = []\n",
    "for n in range(1,5):\n",
    "    bleu_scores.append({\n",
    "        'n_gram': n,\n",
    "        'score': bleu_score(preds, lables, n_gram=n).item()\n",
    "    })\n",
    "bleu_scores_df = pd.DataFrame(bleu_scores)\n",
    "bleu_scores_df"
   ]
  },
  {
   "cell_type": "code",
   "execution_count": 138,
   "id": "679e996a-5e47-423a-b64e-f4a6b868dbc0",
   "metadata": {},
   "outputs": [
    {
     "name": "stdout",
     "output_type": "stream",
     "text": [
      "|    |   n_gram |    score |\n",
      "|---:|---------:|---------:|\n",
      "|  0 |        1 | 0.498014 |\n",
      "|  1 |        2 | 0.387071 |\n",
      "|  2 |        3 | 0.299001 |\n",
      "|  3 |        4 | 0.229406 |\n"
     ]
    }
   ],
   "source": [
    "# Print scores for markdown\n",
    "print(bleu_scores_df.to_markdown())"
   ]
  },
  {
   "cell_type": "markdown",
   "id": "6e136300-2a78-42de-a90d-f4ae98a050d0",
   "metadata": {},
   "source": [
    "### Inference"
   ]
  },
  {
   "cell_type": "markdown",
   "id": "ada59d20-a33e-4440-9545-6fda8b264f2b",
   "metadata": {},
   "source": [
    "#### Inference util"
   ]
  },
  {
   "cell_type": "code",
   "execution_count": 111,
   "id": "9b17a548-5a88-4e60-9a5e-f216acf8fc59",
   "metadata": {},
   "outputs": [],
   "source": [
    "# Inference function\n",
    "def inference(model, input_text, tokenizer_src, tokenizer_tgt, seq_len, max_len, device, stop_tokens=[]):\n",
    "\n",
    "    # Special tokens\n",
    "    bos_token = torch.LongTensor([tokenizer_src.token_to_id(SPECIAL_TOKENS[BOS_IDX])])\n",
    "    eos_token = torch.LongTensor([tokenizer_src.token_to_id(SPECIAL_TOKENS[EOS_IDX])])\n",
    "    pad_token = torch.LongTensor([tokenizer_src.token_to_id(SPECIAL_TOKENS[PAD_IDX])])\n",
    "    \n",
    "    # Generate encoder inputs\n",
    "    input_tokens = tokenizer_src.encode(input_text).ids\n",
    "    padding_tokens_count = max_len - len(input_tokens) - 2\n",
    "    encoder_input = torch.cat([\n",
    "        bos_token, \n",
    "        torch.tensor(input_tokens, dtype=torch.int64), \n",
    "        eos_token, \n",
    "        torch.full((padding_tokens_count,), pad_token.item(), dtype=torch.int64)\n",
    "    ]).to(device)\n",
    "    encoder_mask = (encoder_input != pad_token.item()).unsqueeze(0).unsqueeze(0).int().to(device)  # (1, 1, seq_len): (batch dim, seq dim, mask data)\n",
    "\n",
    "    # Generate output\n",
    "    model_output = inference_decode(model, encoder_input, encoder_mask, tokenizer_src, tokenizer_tgt, max_len, device)\n",
    "    \n",
    "    # Decode output and return\n",
    "    pred_text = tokenizer_tgt.decode(model_output.detach().cpu().numpy())\n",
    "    return pred_text, model_output"
   ]
  },
  {
   "cell_type": "markdown",
   "id": "5c3ccd56-3853-4f9a-8527-9d10314e08e3",
   "metadata": {},
   "source": [
    "#### Test inference"
   ]
  },
  {
   "cell_type": "code",
   "execution_count": 112,
   "id": "889d2592-1a09-4c9e-bc68-11232de927a3",
   "metadata": {},
   "outputs": [
    {
     "data": {
      "text/plain": [
       "['A man in uniform and a man in a blue shirt are standing in front of a truck.']"
      ]
     },
     "execution_count": 112,
     "metadata": {},
     "output_type": "execute_result"
    }
   ],
   "source": [
    "input_texts"
   ]
  },
  {
   "cell_type": "code",
   "execution_count": 114,
   "id": "9af0a105-49a9-4afe-b2a3-3036b16e6cb6",
   "metadata": {},
   "outputs": [],
   "source": [
    "input_texts = [\n",
    "    'Three little boys are walking down the road.',\n",
    "    'A man in an orange hat starring at something.',\n",
    "    'A group of people standing in front of an igloo.',\n",
    "    'Three people sit in a cave.',\n",
    "    'People standing outside of a building.',\n",
    "    'Group of Asian boys wait for meat to cook over barbecue.',\n",
    "    'A man in uniform and a man in a blue shirt are standing in front of a truck.'\n",
    "]"
   ]
  },
  {
   "cell_type": "code",
   "execution_count": 117,
   "id": "4e688c8a-b175-438f-a5b4-645cd16f3949",
   "metadata": {},
   "outputs": [],
   "source": [
    "inferences = []\n",
    "for txt in input_texts:\n",
    "    text, tokens = inference(model, txt, tokenizer_src, tokenizer_tgt, config['seq_len'], config['seq_len'], device, stop_tokens=['.'])\n",
    "    inferences.append(text)"
   ]
  },
  {
   "cell_type": "code",
   "execution_count": 119,
   "id": "b839abcc-432c-4fcd-a0ec-359402af52c1",
   "metadata": {},
   "outputs": [
    {
     "data": {
      "text/plain": [
       "['Drei kleine Jungen gehen die Straße entlang .',\n",
       " 'Ein Mann mit orangefarbenem orangefarbener Mütze starrt auf etwas .',\n",
       " 'Eine Gruppe Leute steht vor einem .',\n",
       " 'Drei Personen sitzen auf einer .',\n",
       " 'Leute stehen vor einem Gebäude .',\n",
       " 'Eine Gruppe asiatischer Jungen warten darauf , der , der , bereitet zu sein zu sein .',\n",
       " 'Ein Mann in Uniform und ein Mann in blauem Hemd stehen vor einem Lastwagen .']"
      ]
     },
     "execution_count": 119,
     "metadata": {},
     "output_type": "execute_result"
    }
   ],
   "source": [
    "inferences"
   ]
  }
 ],
 "metadata": {
  "kernelspec": {
   "display_name": "Python 3 (ipykernel)",
   "language": "python",
   "name": "python3"
  },
  "language_info": {
   "codemirror_mode": {
    "name": "ipython",
    "version": 3
   },
   "file_extension": ".py",
   "mimetype": "text/x-python",
   "name": "python",
   "nbconvert_exporter": "python",
   "pygments_lexer": "ipython3",
   "version": "3.11.9"
  }
 },
 "nbformat": 4,
 "nbformat_minor": 5
}
